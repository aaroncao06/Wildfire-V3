{
 "cells": [
  {
   "cell_type": "markdown",
   "id": "99672e17",
   "metadata": {
    "id": "kDQmb5QD9nPW",
    "papermill": {
     "duration": 0.008013,
     "end_time": "2023-10-30T01:39:55.898103",
     "exception": false,
     "start_time": "2023-10-30T01:39:55.890090",
     "status": "completed"
    },
    "tags": []
   },
   "source": [
    "# imports"
   ]
  },
  {
   "cell_type": "code",
   "execution_count": 1,
   "id": "c92b57a7",
   "metadata": {
    "execution": {
     "iopub.execute_input": "2023-10-30T01:39:55.914359Z",
     "iopub.status.busy": "2023-10-30T01:39:55.914014Z",
     "iopub.status.idle": "2023-10-30T01:40:50.419542Z",
     "shell.execute_reply": "2023-10-30T01:40:50.418687Z"
    },
    "id": "8GGVQ6bM9sW_",
    "outputId": "755c6265-4f42-4bdb-b3af-97933508ef1a",
    "papermill": {
     "duration": 54.516416,
     "end_time": "2023-10-30T01:40:50.422004",
     "exception": false,
     "start_time": "2023-10-30T01:39:55.905588",
     "status": "completed"
    },
    "tags": []
   },
   "outputs": [
    {
     "name": "stdout",
     "output_type": "stream",
     "text": [
      "Collecting einops\r\n",
      "  Downloading einops-0.7.0-py3-none-any.whl (44 kB)\r\n",
      "\u001b[2K     \u001b[90m━━━━━━━━━━━━━━━━━━━━━━━━━━━━━━━━━━━━━━━━\u001b[0m \u001b[32m44.6/44.6 kB\u001b[0m \u001b[31m2.2 MB/s\u001b[0m eta \u001b[36m0:00:00\u001b[0m\r\n",
      "\u001b[?25hInstalling collected packages: einops\r\n",
      "Successfully installed einops-0.7.0\r\n",
      "\u001b[33mWARNING: Running pip as the 'root' user can result in broken permissions and conflicting behaviour with the system package manager. It is recommended to use a virtual environment instead: https://pip.pypa.io/warnings/venv\u001b[0m\u001b[33m\r\n",
      "\u001b[0mCollecting zarr\r\n",
      "  Downloading zarr-2.16.1-py3-none-any.whl (206 kB)\r\n",
      "\u001b[2K     \u001b[90m━━━━━━━━━━━━━━━━━━━━━━━━━━━━━━━━━━━━━━━\u001b[0m \u001b[32m206.9/206.9 kB\u001b[0m \u001b[31m6.8 MB/s\u001b[0m eta \u001b[36m0:00:00\u001b[0m\r\n",
      "\u001b[?25hCollecting asciitree (from zarr)\r\n",
      "  Downloading asciitree-0.3.3.tar.gz (4.0 kB)\r\n",
      "  Preparing metadata (setup.py) ... \u001b[?25l-\b \b\\\b \bdone\r\n",
      "\u001b[?25hRequirement already satisfied: numpy!=1.21.0,>=1.20 in /opt/conda/lib/python3.10/site-packages (from zarr) (1.23.5)\r\n",
      "Requirement already satisfied: fasteners in /opt/conda/lib/python3.10/site-packages (from zarr) (0.18)\r\n",
      "Collecting numcodecs>=0.10.0 (from zarr)\r\n",
      "  Downloading numcodecs-0.12.1-cp310-cp310-manylinux_2_17_x86_64.manylinux2014_x86_64.whl (7.7 MB)\r\n",
      "\u001b[2K     \u001b[90m━━━━━━━━━━━━━━━━━━━━━━━━━━━━━━━━━━━━━━━━\u001b[0m \u001b[32m7.7/7.7 MB\u001b[0m \u001b[31m82.3 MB/s\u001b[0m eta \u001b[36m0:00:00\u001b[0m\r\n",
      "\u001b[?25hBuilding wheels for collected packages: asciitree\r\n",
      "  Building wheel for asciitree (setup.py) ... \u001b[?25l-\b \b\\\b \bdone\r\n",
      "\u001b[?25h  Created wheel for asciitree: filename=asciitree-0.3.3-py3-none-any.whl size=5050 sha256=3d1906345c154f86c5aea4a544e5a0a2b684c00b1bc085284550102ca40160cb\r\n",
      "  Stored in directory: /root/.cache/pip/wheels/7f/4e/be/1171b40f43b918087657ec57cf3b81fa1a2e027d8755baa184\r\n",
      "Successfully built asciitree\r\n",
      "Installing collected packages: asciitree, numcodecs, zarr\r\n",
      "Successfully installed asciitree-0.3.3 numcodecs-0.12.1 zarr-2.16.1\r\n",
      "\u001b[33mWARNING: Running pip as the 'root' user can result in broken permissions and conflicting behaviour with the system package manager. It is recommended to use a virtual environment instead: https://pip.pypa.io/warnings/venv\u001b[0m\u001b[33m\r\n",
      "\u001b[0mRequirement already satisfied: xarray[io] in /opt/conda/lib/python3.10/site-packages (2023.5.0)\r\n",
      "Requirement already satisfied: numpy>=1.21 in /opt/conda/lib/python3.10/site-packages (from xarray[io]) (1.23.5)\r\n",
      "Requirement already satisfied: pandas>=1.4 in /opt/conda/lib/python3.10/site-packages (from xarray[io]) (1.5.3)\r\n",
      "Requirement already satisfied: packaging>=21.3 in /opt/conda/lib/python3.10/site-packages (from xarray[io]) (21.3)\r\n",
      "Requirement already satisfied: netCDF4 in /opt/conda/lib/python3.10/site-packages (from xarray[io]) (1.6.4)\r\n",
      "Collecting h5netcdf (from xarray[io])\r\n",
      "  Downloading h5netcdf-1.2.0-py3-none-any.whl (43 kB)\r\n",
      "\u001b[2K     \u001b[90m━━━━━━━━━━━━━━━━━━━━━━━━━━━━━━━━━━━━━━━━\u001b[0m \u001b[32m43.3/43.3 kB\u001b[0m \u001b[31m3.1 MB/s\u001b[0m eta \u001b[36m0:00:00\u001b[0m\r\n",
      "\u001b[?25hRequirement already satisfied: scipy in /opt/conda/lib/python3.10/site-packages (from xarray[io]) (1.10.1)\r\n",
      "Requirement already satisfied: zarr in /opt/conda/lib/python3.10/site-packages (from xarray[io]) (2.16.1)\r\n",
      "Requirement already satisfied: fsspec in /opt/conda/lib/python3.10/site-packages (from xarray[io]) (2023.6.0)\r\n",
      "Requirement already satisfied: cftime in /opt/conda/lib/python3.10/site-packages (from xarray[io]) (1.6.2)\r\n",
      "Requirement already satisfied: pooch in /opt/conda/lib/python3.10/site-packages (from xarray[io]) (1.6.0)\r\n",
      "Requirement already satisfied: pyparsing!=3.0.5,>=2.0.2 in /opt/conda/lib/python3.10/site-packages (from packaging>=21.3->xarray[io]) (3.0.9)\r\n",
      "Requirement already satisfied: python-dateutil>=2.8.1 in /opt/conda/lib/python3.10/site-packages (from pandas>=1.4->xarray[io]) (2.8.2)\r\n",
      "Requirement already satisfied: pytz>=2020.1 in /opt/conda/lib/python3.10/site-packages (from pandas>=1.4->xarray[io]) (2023.3)\r\n",
      "Requirement already satisfied: h5py in /opt/conda/lib/python3.10/site-packages (from h5netcdf->xarray[io]) (3.8.0)\r\n",
      "Requirement already satisfied: certifi in /opt/conda/lib/python3.10/site-packages (from netCDF4->xarray[io]) (2023.5.7)\r\n",
      "Requirement already satisfied: appdirs>=1.3.0 in /opt/conda/lib/python3.10/site-packages (from pooch->xarray[io]) (1.4.4)\r\n",
      "Requirement already satisfied: requests>=2.19.0 in /opt/conda/lib/python3.10/site-packages (from pooch->xarray[io]) (2.28.2)\r\n",
      "Requirement already satisfied: asciitree in /opt/conda/lib/python3.10/site-packages (from zarr->xarray[io]) (0.3.3)\r\n",
      "Requirement already satisfied: fasteners in /opt/conda/lib/python3.10/site-packages (from zarr->xarray[io]) (0.18)\r\n",
      "Requirement already satisfied: numcodecs>=0.10.0 in /opt/conda/lib/python3.10/site-packages (from zarr->xarray[io]) (0.12.1)\r\n",
      "Requirement already satisfied: six>=1.5 in /opt/conda/lib/python3.10/site-packages (from python-dateutil>=2.8.1->pandas>=1.4->xarray[io]) (1.16.0)\r\n",
      "Requirement already satisfied: charset-normalizer<4,>=2 in /opt/conda/lib/python3.10/site-packages (from requests>=2.19.0->pooch->xarray[io]) (2.1.1)\r\n",
      "Requirement already satisfied: idna<4,>=2.5 in /opt/conda/lib/python3.10/site-packages (from requests>=2.19.0->pooch->xarray[io]) (3.4)\r\n",
      "Requirement already satisfied: urllib3<1.27,>=1.21.1 in /opt/conda/lib/python3.10/site-packages (from requests>=2.19.0->pooch->xarray[io]) (1.26.15)\r\n",
      "Installing collected packages: h5netcdf\r\n",
      "Successfully installed h5netcdf-1.2.0\r\n",
      "\u001b[33mWARNING: Running pip as the 'root' user can result in broken permissions and conflicting behaviour with the system package manager. It is recommended to use a virtual environment instead: https://pip.pypa.io/warnings/venv\u001b[0m\u001b[33m\r\n",
      "\u001b[0m"
     ]
    }
   ],
   "source": [
    "!pip install einops\n",
    "!pip install zarr\n",
    "!pip install xarray[io]\n",
    "!pip install -Uqq ipdb\n",
    "from numpy import save, load\n",
    "from pathlib import Path\n",
    "import dask.array as da\n",
    "import warnings\n",
    "import matplotlib.pyplot as plt\n",
    "import torchvision.transforms as transforms\n",
    "import ipdb\n",
    "from tqdm import tqdm\n",
    "import torch\n",
    "from sklearn.metrics import f1_score, precision_score, accuracy_score, recall_score, roc_auc_score, average_precision_score\n",
    "import numpy as np\n",
    "from torch import nn\n",
    "import math\n",
    "from torch.optim.optimizer import Optimizer\n",
    "import pandas as pd\n",
    "from einops import rearrange\n",
    "from torch.nn import functional as F\n",
    "import xarray as xr\n",
    "from torch.utils.data import Dataset, DataLoader\n",
    "import zarr\n",
    "import sys\n"
   ]
  },
  {
   "cell_type": "code",
   "execution_count": 2,
   "id": "b20c25fc",
   "metadata": {
    "execution": {
     "iopub.execute_input": "2023-10-30T01:40:50.443437Z",
     "iopub.status.busy": "2023-10-30T01:40:50.442724Z",
     "iopub.status.idle": "2023-10-30T01:40:50.447890Z",
     "shell.execute_reply": "2023-10-30T01:40:50.447060Z"
    },
    "id": "IexRBIE4w8Mt",
    "outputId": "98c38678-7b06-45c7-e519-63b1c0ed603e",
    "papermill": {
     "duration": 0.017707,
     "end_time": "2023-10-30T01:40:50.449854",
     "exception": false,
     "start_time": "2023-10-30T01:40:50.432147",
     "status": "completed"
    },
    "tags": []
   },
   "outputs": [
    {
     "name": "stdout",
     "output_type": "stream",
     "text": [
      "Automatic pdb calling has been turned OFF\n"
     ]
    }
   ],
   "source": [
    "%pdb off"
   ]
  },
  {
   "cell_type": "markdown",
   "id": "590f973d",
   "metadata": {
    "id": "PVqM51e6knn_",
    "papermill": {
     "duration": 0.009445,
     "end_time": "2023-10-30T01:40:50.469273",
     "exception": false,
     "start_time": "2023-10-30T01:40:50.459828",
     "status": "completed"
    },
    "tags": []
   },
   "source": [
    "# support classes for model"
   ]
  },
  {
   "cell_type": "code",
   "execution_count": 3,
   "id": "40c534a1",
   "metadata": {
    "execution": {
     "iopub.execute_input": "2023-10-30T01:40:50.490480Z",
     "iopub.status.busy": "2023-10-30T01:40:50.490204Z",
     "iopub.status.idle": "2023-10-30T01:40:50.530922Z",
     "shell.execute_reply": "2023-10-30T01:40:50.530241Z"
    },
    "id": "Ph9O6vPDkr98",
    "papermill": {
     "duration": 0.053891,
     "end_time": "2023-10-30T01:40:50.532743",
     "exception": false,
     "start_time": "2023-10-30T01:40:50.478852",
     "status": "completed"
    },
    "tags": []
   },
   "outputs": [],
   "source": [
    "#from Models.AbsolutePositionalEncoding import tAPE, AbsolutePositionalEncoding, LearnablePositionalEncoding\n",
    "#from Models.Attention import Attention, Attention_Rel_Scl, Attention_Rel_Vec\n",
    "\n",
    "def get_optimizer(name):\n",
    "\n",
    "    if name == \"Adam\":\n",
    "        return torch.optim.Adam\n",
    "    elif name == \"RAdam\":\n",
    "        return RAdam\n",
    "\n",
    "def get_loss_module():\n",
    "    return NoFussCrossEntropyLoss(reduction='none')  # outputs loss for each batch sample\n",
    "class WeightedBCELoss(nn.Module):\n",
    "    def __init__(self, pos_weight):\n",
    "        super(WeightedBCELoss, self).__init__()\n",
    "        self.pos_weight = pos_weight\n",
    "\n",
    "    def forward(self, inputs, targets):\n",
    "        # Compute the weighted BCE loss\n",
    "        loss = torch.nn.functional.binary_cross_entropy_with_logits(inputs, targets, pos_weight=self.pos_weight)\n",
    "        return loss\n",
    "\n",
    "class Permute(nn.Module):\n",
    "    def forward(self, x):\n",
    "        return x.permute(1, 0, 2)\n",
    "\n",
    "# from https://github.com/LiyuanLucasLiu/RAdam/blob/master/radam/radam.py\n",
    "class RAdam(Optimizer):\n",
    "\n",
    "    def __init__(self, params, lr=1e-3, betas=(0.9, 0.999), eps=1e-8, weight_decay=0, degenerated_to_sgd=True):\n",
    "        if not 0.0 <= lr:\n",
    "            raise ValueError(\"Invalid learning rate: {}\".format(lr))\n",
    "        if not 0.0 <= eps:\n",
    "            raise ValueError(\"Invalid epsilon value: {}\".format(eps))\n",
    "        if not 0.0 <= betas[0] < 1.0:\n",
    "            raise ValueError(\"Invalid beta parameter at index 0: {}\".format(betas[0]))\n",
    "        if not 0.0 <= betas[1] < 1.0:\n",
    "            raise ValueError(\"Invalid beta parameter at index 1: {}\".format(betas[1]))\n",
    "\n",
    "        self.degenerated_to_sgd = degenerated_to_sgd\n",
    "        if isinstance(params, (list, tuple)) and len(params) > 0 and isinstance(params[0], dict):\n",
    "            for param in params:\n",
    "                if 'betas' in param and (param['betas'][0] != betas[0] or param['betas'][1] != betas[1]):\n",
    "                    param['buffer'] = [[None, None, None] for _ in range(10)]\n",
    "        defaults = dict(lr=lr, betas=betas, eps=eps, weight_decay=weight_decay,\n",
    "                        buffer=[[None, None, None] for _ in range(10)])\n",
    "        super(RAdam, self).__init__(params, defaults)\n",
    "\n",
    "    def __setstate__(self, state):\n",
    "        super(RAdam, self).__setstate__(state)\n",
    "\n",
    "    def step(self, closure=None):\n",
    "\n",
    "        loss = None\n",
    "        if closure is not None:\n",
    "            loss = closure()\n",
    "\n",
    "        for group in self.param_groups:\n",
    "\n",
    "            for p in group['params']:\n",
    "                if p.grad is None:\n",
    "                    continue\n",
    "                grad = p.grad.data.float()\n",
    "                if grad.is_sparse:\n",
    "                    raise RuntimeError('RAdam does not support sparse gradients')\n",
    "\n",
    "                p_data_fp32 = p.data.float()\n",
    "\n",
    "                state = self.state[p]\n",
    "\n",
    "                if len(state) == 0:\n",
    "                    state['step'] = 0\n",
    "                    state['exp_avg'] = torch.zeros_like(p_data_fp32)\n",
    "                    state['exp_avg_sq'] = torch.zeros_like(p_data_fp32)\n",
    "                else:\n",
    "                    state['exp_avg'] = state['exp_avg'].type_as(p_data_fp32)\n",
    "                    state['exp_avg_sq'] = state['exp_avg_sq'].type_as(p_data_fp32)\n",
    "\n",
    "                exp_avg, exp_avg_sq = state['exp_avg'], state['exp_avg_sq']\n",
    "                beta1, beta2 = group['betas']\n",
    "\n",
    "                exp_avg_sq.mul_(beta2).addcmul_(grad, grad, value=1 - beta2)\n",
    "                exp_avg.mul_(beta1).add_(grad, alpha=1 - beta1)\n",
    "\n",
    "                state['step'] += 1\n",
    "                buffered = group['buffer'][int(state['step'] % 10)]\n",
    "                if state['step'] == buffered[0]:\n",
    "                    N_sma, step_size = buffered[1], buffered[2]\n",
    "                else:\n",
    "                    buffered[0] = state['step']\n",
    "                    beta2_t = beta2 ** state['step']\n",
    "                    N_sma_max = 2 / (1 - beta2) - 1\n",
    "                    N_sma = N_sma_max - 2 * state['step'] * beta2_t / (1 - beta2_t)\n",
    "                    buffered[1] = N_sma\n",
    "\n",
    "                    # more conservative since it's an approximated value\n",
    "                    if N_sma >= 5:\n",
    "                        step_size = math.sqrt(\n",
    "                            (1 - beta2_t) * (N_sma - 4) / (N_sma_max - 4) * (N_sma - 2) / N_sma * N_sma_max / (\n",
    "                                        N_sma_max - 2)) / (1 - beta1 ** state['step'])\n",
    "                    elif self.degenerated_to_sgd:\n",
    "                        step_size = 1.0 / (1 - beta1 ** state['step'])\n",
    "                    else:\n",
    "                        step_size = -1\n",
    "                    buffered[2] = step_size\n",
    "\n",
    "                # more conservative since it's an approximated value\n",
    "                if N_sma >= 5:\n",
    "                    if group['weight_decay'] != 0:\n",
    "                        p_data_fp32.add_(-group['weight_decay'] * group['lr'], p_data_fp32)\n",
    "                    denom = exp_avg_sq.sqrt().add_(group['eps'])\n",
    "                    p_data_fp32.addcdiv_(exp_avg, denom, value=-step_size * group['lr'])\n",
    "                    p.data.copy_(p_data_fp32)\n",
    "                elif step_size > 0:\n",
    "                    if group['weight_decay'] != 0:\n",
    "                        p_data_fp32.add_(-group['weight_decay'] * group['lr'], p_data_fp32)\n",
    "                    p_data_fp32.add_(exp_avg, alpha=-step_size * group['lr'])\n",
    "                    p.data.copy_(p_data_fp32)\n",
    "\n",
    "        return loss\n",
    "\n",
    "class tAPE(nn.Module):\n",
    "    r\"\"\"Inject some information about the relative or absolute position of the tokens\n",
    "        in the sequence. The positional encodings have the same dimension as\n",
    "        the embeddings, so that the two can be summed. Here, we use sine and cosine\n",
    "        functions of different frequencies.\n",
    "    .. math::\n",
    "        \\text{PosEncoder}(pos, 2i) = sin(pos/10000^(2i/d_model))\n",
    "        \\text{PosEncoder}(pos, 2i+1) = cos(pos/10000^(2i/d_model))\n",
    "        \\text{where pos is the word position and i is the embed idx)\n",
    "    Args:\n",
    "        d_model: the embed dim (required).\n",
    "        dropout: the dropout value (default=0.1).\n",
    "        max_len: the max. length of the incoming sequence (default=1024).\n",
    "    \"\"\"\n",
    "\n",
    "    def __init__(self, d_model, dropout=0.1, max_len=1024, scale_factor=1.0):\n",
    "        super(tAPE, self).__init__()\n",
    "        self.dropout = nn.Dropout(p=dropout)\n",
    "        pe = torch.zeros(max_len, d_model)  # positional encoding\n",
    "        position = torch.arange(0, max_len, dtype=torch.float).unsqueeze(1)\n",
    "        div_term = torch.exp(torch.arange(0, d_model, 2).float() * (-math.log(10000.0) / d_model))\n",
    "\n",
    "        pe[:, 0::2] = torch.sin((position * div_term)*(d_model/max_len))\n",
    "        pe[:, 1::2] = torch.cos((position * div_term)*(d_model/max_len))\n",
    "        pe = scale_factor * pe.unsqueeze(0)\n",
    "        self.register_buffer('pe', pe)  # this stores the variable in the state_dict (used for non-trainable variables)\n",
    "\n",
    "    def forward(self, x):\n",
    "        r\"\"\"Inputs of forward function\n",
    "        Args:\n",
    "            x: the sequence fed to the positional encoder model (required).\n",
    "        Shape:\n",
    "            x: [sequence length, batch size, embed dim]\n",
    "            output: [sequence length, batch size, embed dim]\n",
    "        \"\"\"\n",
    "        x = x + self.pe\n",
    "        return self.dropout(x)\n",
    "\n",
    "class Attention_Rel_Scl(nn.Module):\n",
    "    def __init__(self, emb_size, num_heads, seq_len, dropout):\n",
    "        super().__init__()\n",
    "        self.seq_len = seq_len\n",
    "        self.num_heads = num_heads\n",
    "        self.scale = emb_size ** -0.5\n",
    "        # self.to_qkv = nn.Linear(inp, inner_dim * 3, bias=False)\n",
    "        self.key = nn.Linear(emb_size, emb_size, bias=False)\n",
    "        self.value = nn.Linear(emb_size, emb_size, bias=False)\n",
    "        self.query = nn.Linear(emb_size, emb_size, bias=False)\n",
    "\n",
    "        self.relative_bias_table = nn.Parameter(torch.zeros((2 * self.seq_len - 1), num_heads))\n",
    "        coords = torch.meshgrid((torch.arange(1), torch.arange(self.seq_len)))\n",
    "        coords = torch.flatten(torch.stack(coords), 1)\n",
    "        relative_coords = coords[:, :, None] - coords[:, None, :]\n",
    "        relative_coords[1] += self.seq_len - 1\n",
    "        relative_coords = rearrange(relative_coords, 'c h w -> h w c')\n",
    "        relative_index = relative_coords.sum(-1).flatten().unsqueeze(1)\n",
    "        self.register_buffer(\"relative_index\", relative_index)\n",
    "\n",
    "        self.dropout = nn.Dropout(dropout)\n",
    "        self.to_out = nn.LayerNorm(emb_size)\n",
    "\n",
    "    def forward(self, x):\n",
    "        batch_size, seq_len, _ = x.shape\n",
    "        k = self.key(x).reshape(batch_size, seq_len, self.num_heads, -1).permute(0, 2, 3, 1)\n",
    "        v = self.value(x).reshape(batch_size, seq_len, self.num_heads, -1).transpose(1, 2)\n",
    "        q = self.query(x).reshape(batch_size, seq_len, self.num_heads, -1).transpose(1, 2)\n",
    "        # k,v,q shape = (batch_size, num_heads, seq_len, d_head)\n",
    "\n",
    "        attn = torch.matmul(q, k) * self.scale\n",
    "        # attn shape (seq_len, seq_len)\n",
    "        attn = nn.functional.softmax(attn, dim=-1)\n",
    "\n",
    "        # Use \"gather\" for more efficiency on GPUs\n",
    "        relative_bias = self.relative_bias_table.gather(0, self.relative_index.repeat(1, 8))\n",
    "        relative_bias = rearrange(relative_bias, '(h w) c -> 1 c h w', h=1 * self.seq_len, w=1 * self.seq_len)\n",
    "        attn = attn + relative_bias\n",
    "\n",
    "        # distance_pd = pd.DataFrame(relative_bias[0,0,:,:].cpu().detach().numpy())\n",
    "        # distance_pd.to_csv('scalar_position_distance.csv')\n",
    "\n",
    "        out = torch.matmul(attn, v)\n",
    "        # out.shape = (batch_size, num_heads, seq_len, d_head)\n",
    "        out = out.transpose(1, 2)\n",
    "        # out.shape == (batch_size, seq_len, num_heads, d_head)\n",
    "        out = out.reshape(batch_size, seq_len, -1)\n",
    "        # out.shape == (batch_size, seq_len, d_model)\n",
    "        out = self.to_out(out)\n",
    "        return out\n",
    "\n",
    "class NoFussCrossEntropyLoss(nn.CrossEntropyLoss):\n",
    "    \"\"\"\n",
    "    pytorch's CrossEntropyLoss is fussy: 1) needs Long (int64) targets only, and 2) only 1D.\n",
    "    This function satisfies these requirements\n",
    "    \"\"\"\n",
    "\n",
    "    def forward(self, inp, target):\n",
    "        return F.cross_entropy(inp, target.long(), weight=self.weight,\n",
    "                               ignore_index=self.ignore_index, reduction=self.reduction)"
   ]
  },
  {
   "cell_type": "markdown",
   "id": "1264219a",
   "metadata": {
    "id": "vbmlAJ-18yIJ",
    "papermill": {
     "duration": 0.009634,
     "end_time": "2023-10-30T01:40:50.552188",
     "exception": false,
     "start_time": "2023-10-30T01:40:50.542554",
     "status": "completed"
    },
    "tags": []
   },
   "source": [
    "# Temporal ConvTran Model"
   ]
  },
  {
   "cell_type": "code",
   "execution_count": 4,
   "id": "f81c0b8b",
   "metadata": {
    "execution": {
     "iopub.execute_input": "2023-10-30T01:40:50.573065Z",
     "iopub.status.busy": "2023-10-30T01:40:50.572575Z",
     "iopub.status.idle": "2023-10-30T01:40:50.589384Z",
     "shell.execute_reply": "2023-10-30T01:40:50.588524Z"
    },
    "id": "4A7OofM_83iP",
    "papermill": {
     "duration": 0.029286,
     "end_time": "2023-10-30T01:40:50.591144",
     "exception": false,
     "start_time": "2023-10-30T01:40:50.561858",
     "status": "completed"
    },
    "tags": []
   },
   "outputs": [],
   "source": [
    "\n",
    "class TemporalConvTran(nn.Module):\n",
    "    def __init__(self, config, num_classes): # config needs 'Data_shape', 'emb_size', 'num_heads', 'dim_ff'\n",
    "        super().__init__()\n",
    "        # Parameters Initialization -----------------------------------------------\n",
    "        channel_size, seq_len = config['Data_shape'][1], config['Data_shape'][2]\n",
    "        emb_size = config['emb_size']\n",
    "        num_heads = config['num_heads']\n",
    "        dim_ff = config['dim_ff']\n",
    "        # Embedding Layer -----------------------------------------------------------\n",
    "        # input data should have a shape of (batch_size, time, channel_size) each batch is the data from a grid point\n",
    "\n",
    "        #input shape for conv2d is batch_size, input_channels, height, width. ignore input channels. it is already one\n",
    "        #shape of their input is batch_size, feature_size, sequence_len\n",
    "        self.input_normalization = nn.BatchNorm1d(channel_size, eps=1e-5, momentum=0.1, affine=True, track_running_stats=True)\n",
    "        self.embed_layer = nn.Sequential(nn.Conv2d(1, emb_size*4, kernel_size=(1, 8), padding='same'),\n",
    "                                         nn.BatchNorm2d(emb_size*4),\n",
    "                                         nn.GELU())\n",
    "\n",
    "        self.embed_layer2 = nn.Sequential(nn.Conv2d(emb_size*4, emb_size, kernel_size=[channel_size, 1], padding='valid'),\n",
    "                                          nn.BatchNorm2d(emb_size),\n",
    "                                          nn.GELU())\n",
    "\n",
    "        self.Fix_Position = tAPE(emb_size, dropout=config['dropout'], max_len=seq_len)\n",
    "\n",
    "        self.attention_layer = Attention_Rel_Scl(emb_size, num_heads, seq_len, config['dropout'])\n",
    "\n",
    "        self.LayerNorm = nn.LayerNorm(emb_size, eps=1e-5)\n",
    "        self.LayerNorm2 = nn.LayerNorm(emb_size, eps=1e-5)\n",
    "\n",
    "        self.FeedForward = nn.Sequential(\n",
    "            nn.Linear(emb_size, dim_ff),\n",
    "            nn.ReLU(),\n",
    "            nn.Dropout(config['dropout']),\n",
    "            nn.Linear(dim_ff, emb_size),\n",
    "            nn.Dropout(config['dropout']))\n",
    "\n",
    "        self.gap = nn.AdaptiveAvgPool1d(1)\n",
    "        self.flatten = nn.Flatten()\n",
    "        self.out = nn.Linear(emb_size, num_classes)\n",
    "        self.out_binary = nn.Sigmoid()\n",
    "\n",
    "\n",
    "\n",
    "    def forward(self, x_):\n",
    "        #shape of their input x is batch_size, feature_size, sequence_len\n",
    "        if torch.isnan(x_).any().item():\n",
    "            ipdb.set_trace(context = 5)\n",
    "        x_ = x_.squeeze(0)\n",
    "        #ipdb.set_trace()\n",
    "        x = self.input_normalization(x_)\n",
    "        if torch.isnan(x).any().item():\n",
    "            ipdb.set_trace(context = 5)\n",
    "        #ipdb.set_trace()\n",
    "        x = x.unsqueeze(1) #now it is batch_size, 1, feature_size, sequence_len where the 1 is how many channels for the conv2d in first embed\n",
    "        #ipdb.set_trace()\n",
    "        x_src = self.embed_layer(x)\n",
    "        #ipdb.set_trace()\n",
    "        x_src = self.embed_layer2(x_src)\n",
    "        if torch.isnan(x_src).any().item():\n",
    "            ipdb.set_trace(context = 5)\n",
    "        x_src = x_src.squeeze(2)\n",
    "        #ipdb.set_trace()\n",
    "        x_src = x_src.permute(0, 2, 1)\n",
    "        #ipdb.set_trace()\n",
    "        x_src_pos = self.Fix_Position(x_src)\n",
    "        #ipdb.set_trace()\n",
    "        att = x_src + self.attention_layer(x_src_pos)\n",
    "        #ipdb.set_trace()\n",
    "        att = self.LayerNorm(att)\n",
    "        #ipdb.set_trace()\n",
    "        out = att + self.FeedForward(att)\n",
    "        #ipdb.set_trace()\n",
    "        out = self.LayerNorm2(out)\n",
    "        #ipdb.set_trace()\n",
    "        out = out.permute(0, 2, 1)\n",
    "        #ipdb.set_trace()\n",
    "        out = self.gap(out)\n",
    "        #ipdb.set_trace()\n",
    "        out = self.flatten(out)\n",
    "        #ipdb.set_trace()\n",
    "        out = self.out(out)\n",
    "        #ipdb.set_trace()\n",
    "        out = self.out_binary(out)\n",
    "        #print(torch.isnan(out).any().item())\n",
    "        #ipdb.set_trace()\n",
    "        if torch.isnan(out).any().item():\n",
    "            ipdb.set_trace(context = 5)\n",
    "        return out"
   ]
  },
  {
   "cell_type": "markdown",
   "id": "2e2377c4",
   "metadata": {
    "papermill": {
     "duration": 0.009734,
     "end_time": "2023-10-30T01:40:50.610570",
     "exception": false,
     "start_time": "2023-10-30T01:40:50.600836",
     "status": "completed"
    },
    "tags": []
   },
   "source": [
    "# Mesogeos Models"
   ]
  },
  {
   "cell_type": "code",
   "execution_count": 5,
   "id": "efe2515d",
   "metadata": {
    "execution": {
     "iopub.execute_input": "2023-10-30T01:40:50.631683Z",
     "iopub.status.busy": "2023-10-30T01:40:50.631441Z",
     "iopub.status.idle": "2023-10-30T01:40:50.650192Z",
     "shell.execute_reply": "2023-10-30T01:40:50.649382Z"
    },
    "papermill": {
     "duration": 0.031484,
     "end_time": "2023-10-30T01:40:50.652040",
     "exception": false,
     "start_time": "2023-10-30T01:40:50.620556",
     "status": "completed"
    },
    "tags": []
   },
   "outputs": [],
   "source": [
    "class PositionalEncoding(nn.Module):\n",
    "\n",
    "    def __init__(self, d_model: int = 256, dropout: float = 0.1, max_len: int = 64):\n",
    "        super().__init__()\n",
    "        self.dropout = nn.Dropout(p=dropout)\n",
    "        position = torch.arange(max_len).unsqueeze(1)\n",
    "        div_term = torch.exp(torch.arange(0, d_model, 2) * (-math.log(10000.0) / d_model))\n",
    "        pe = torch.zeros(max_len, 1, d_model)\n",
    "        pe[:, 0, 0::2] = torch.sin(position * div_term)\n",
    "        pe[:, 0, 1::2] = torch.cos(position * div_term)\n",
    "        self.register_buffer('pe', pe)\n",
    "\n",
    "    def forward(self, x):\n",
    "        \"\"\"\n",
    "        Args:\n",
    "            x: Tensor, shape [seq_len, batch_size, embedding_dim]\n",
    "        \"\"\"\n",
    "        x = x + self.pe[:x.size(0)]\n",
    "        return self.dropout(x)\n",
    "\n",
    "\n",
    "class TransformerNet(nn.Module):\n",
    "    \"\"\"\n",
    "    Text classifier based on a pytorch TransformerEncoder.\n",
    "    \"\"\"\n",
    "\n",
    "    def __init__(\n",
    "            self,\n",
    "            seq_len=64,\n",
    "            input_dim=29,\n",
    "            d_model=256,\n",
    "            nhead=8,\n",
    "            dim_feedforward=512,\n",
    "            num_layers=4,\n",
    "            dropout=0.1,\n",
    "            activation=\"relu\",\n",
    "            classifier_dropout=0.1,\n",
    "            channel_attention=True\n",
    "    ):\n",
    "\n",
    "        super().__init__()\n",
    "        assert d_model % nhead == 0, \"nheads must divide evenly into d_model\"\n",
    "\n",
    "        # self.emb = nn.Embedding(input_dim, d_model)\n",
    "        self.channel_attention = channel_attention\n",
    "\n",
    "        self.lin_time = nn.Linear(input_dim, d_model)\n",
    "        self.lin_channel = nn.Linear(seq_len, d_model)\n",
    "\n",
    "        self.pos_encoder = PositionalEncoding(\n",
    "            d_model=d_model,\n",
    "            dropout=dropout\n",
    "        )\n",
    "\n",
    "        encoder_layer_time = nn.TransformerEncoderLayer(\n",
    "            d_model=d_model,\n",
    "            nhead=nhead,\n",
    "            dim_feedforward=dim_feedforward,\n",
    "            dropout=dropout,\n",
    "        )\n",
    "        self.transformer_encoder_time = nn.TransformerEncoder(\n",
    "            encoder_layer_time,\n",
    "            num_layers=num_layers,\n",
    "        )\n",
    "\n",
    "        encoder_layer_channel = nn.TransformerEncoderLayer(\n",
    "            d_model=d_model,\n",
    "            nhead=nhead,\n",
    "            dim_feedforward=dim_feedforward,\n",
    "            dropout=dropout,\n",
    "        )\n",
    "        self.transformer_encoder_channel = nn.TransformerEncoder(\n",
    "            encoder_layer_channel,\n",
    "            num_layers=num_layers,\n",
    "        )\n",
    "\n",
    "        self.out_time = nn.Linear(d_model, d_model)\n",
    "        self.out_channel = nn.Linear(d_model, d_model)\n",
    "\n",
    "        self.lin = nn.Linear(d_model * 2, 2)\n",
    "\n",
    "        if self.channel_attention:\n",
    "            self.classifier = nn.Linear(d_model * 2, 1)\n",
    "        else:\n",
    "            self.classifier = nn.Linear(d_model, 1)\n",
    "        self.out_sigmoid = nn.Sigmoid()\n",
    "        \n",
    "        self.d_model = d_model\n",
    "\n",
    "    def resh(self, x, y):\n",
    "        return x.unsqueeze(1).expand(y.size(0), -1)\n",
    "\n",
    "    def forward(self, x_): #input is samples, variables, sequence\n",
    "        x_ = x_.squeeze()\n",
    "        x_ = x_.permute(2, 0, 1)\n",
    "        x = torch.tanh(self.lin_time(x_)) #wants sequence length, batch size, # variables\n",
    "        x = self.pos_encoder(x)\n",
    "        x = self.transformer_encoder_time(x)\n",
    "        x = x[0, :, :]\n",
    "\n",
    "        if self.channel_attention:\n",
    "            y = torch.transpose(x_, 0, 2)\n",
    "            y = torch.tanh(self.lin_channel(y))\n",
    "            y = self.transformer_encoder_channel(y)\n",
    "\n",
    "            x = torch.tanh(self.out_time(x))\n",
    "            y = torch.tanh(self.out_channel(y[0, :, :]))\n",
    "\n",
    "            h = self.lin(torch.cat([x, y], dim=1))\n",
    "\n",
    "            m = nn.Softmax(dim=1)\n",
    "            g = m(h)\n",
    "\n",
    "            g1 = g[:, 0]\n",
    "            g2 = g[:, 1]\n",
    "\n",
    "            x = torch.cat([self.resh(g1, x) * x, self.resh(g2, x) * y], dim=1)\n",
    "\n",
    "        x = self.classifier(x)\n",
    "        x = self.out_sigmoid(x)\n",
    "        return x"
   ]
  },
  {
   "cell_type": "markdown",
   "id": "78574e31",
   "metadata": {
    "id": "YYXjKLYF8o5G",
    "papermill": {
     "duration": 0.009603,
     "end_time": "2023-10-30T01:40:50.671675",
     "exception": false,
     "start_time": "2023-10-30T01:40:50.662072",
     "status": "completed"
    },
    "tags": []
   },
   "source": [
    "# Dataset + Dataloader"
   ]
  },
  {
   "cell_type": "code",
   "execution_count": 6,
   "id": "d206ca61",
   "metadata": {
    "execution": {
     "iopub.execute_input": "2023-10-30T01:40:50.692335Z",
     "iopub.status.busy": "2023-10-30T01:40:50.692084Z",
     "iopub.status.idle": "2023-10-30T01:40:50.720980Z",
     "shell.execute_reply": "2023-10-30T01:40:50.720301Z"
    },
    "id": "Dbga3drn8sCE",
    "papermill": {
     "duration": 0.041446,
     "end_time": "2023-10-30T01:40:50.722812",
     "exception": false,
     "start_time": "2023-10-30T01:40:50.681366",
     "status": "completed"
    },
    "tags": []
   },
   "outputs": [],
   "source": [
    "class TemporalDatasetFromNumpy_basic(Dataset):\n",
    "    def __init__(self, numpy_array, sequence_length, train_ratio, pin_memory):\n",
    "        self.numpy_array = numpy_array #shape (40, 40, 918, 29), lat, lon, time, var\n",
    "        self.sequence_length = sequence_length\n",
    "        self.pin_memory = pin_memory\n",
    "        \n",
    "        self.lat_size, self.lon_size, self.time_size, self.num_variables = self.numpy_array.shape\n",
    "\n",
    "        self.time_size -= (sequence_length) #num of timesteps with targets\n",
    "        self.numpy_array = self.numpy_array[:self.time_size]\n",
    "        # 40, 40, 854, 29\n",
    "        # 0 to 39\n",
    "        \n",
    "        self.train_ratio = train_ratio\n",
    "        \n",
    "        self.pos_indices = np.column_stack(np.where(self.numpy_array[:,:,self.sequence_length:, -1] == 1)) \n",
    "        # shape (number_of_occurences) by (lat_indices, lon_indices, time_indices)\n",
    "        self.neg_indices = np.column_stack(np.where(self.numpy_array[:,:,self.sequence_length:, -1] == 0))\n",
    "            \n",
    "        #ipdb.set_trace()\n",
    "        self.total_indices = None\n",
    "        \n",
    "        if (self.train_ratio): # True -> training; False -> eval\n",
    "            \n",
    "            neg_to_pos_ratio = 2\n",
    "            num_rows = len(self.pos_indices)*neg_to_pos_ratio\n",
    "            random_rows = np.random.choice(self.neg_indices.shape[0], size=num_rows, replace=False)\n",
    "            #ipdb.set_trace()\n",
    "            neg_indices_subset = self.neg_indices[random_rows, :]\n",
    "            #ipdb.set_trace()\n",
    "            \n",
    "            self.total_indices = np.concatenate((self.pos_indices, neg_indices_subset), axis=0)\n",
    "            #self.total_indices = np.concatenate((self.pos_indices, self.neg_indices), axis=0)\n",
    "            \n",
    "        else:\n",
    "            self.total_indices = np.concatenate((self.pos_indices, self.neg_indices), axis=0)\n",
    "        \n",
    "        np.random.shuffle(self.total_indices)\n",
    "        #ipdb.set_trace()\n",
    "            \n",
    "    def __len__(self): # num_samples * num_timesteps\n",
    "        return len(self.total_indices)\n",
    "\n",
    "    def __getitem__(self, index): # np array shape (40, 40, 918, 29), lat, lon, time, var\n",
    "        #total indices shape (num samples) by (lat_indices, lon_indices, time_indices)\n",
    "        lat_index = self.total_indices[index, 0]\n",
    "        lon_index = self.total_indices[index, 1]\n",
    "        time_index = self.total_indices[index, 2]\n",
    "\n",
    "        # ex timesteps 0 to 64: 65 timesteps in total, features takes 0 to 63, target is 64th timestep\n",
    "        target_np = self.numpy_array[lat_index, lon_index, time_index+sequence_length, -1] # only last variable gwis_ba\n",
    "        features_np = self.numpy_array[lat_index, lon_index, time_index:time_index+sequence_length, : ] # all variables\n",
    "        # lat, lon, time, var\n",
    "        \n",
    "        \n",
    "        return features_np.squeeze(), target_np.squeeze()\n",
    "\n",
    "def temporal_dataloader_basic(numpy_array, sequence_length, batch_size, train_ratio=True, pin_memory=False, num_workers=0):\n",
    "    temporal_dataset = TemporalDatasetFromNumpy(numpy_array, sequence_length, train_ratio, pin_memory)\n",
    "    dataloader = DataLoader(temporal_dataset, batch_size=batch_size, shuffle=False, num_workers=num_workers, pin_memory=False)\n",
    "    return dataloader\n",
    "\n",
    "\n",
    "class TemporalDatasetFromNumpy(Dataset):\n",
    "    def __init__(self, numpy_array, sequence_length, radius, pin_memory, train_or_test):\n",
    "        self.numpy_array = numpy_array #shape (40, 40, 918, 29), lat, lon, time, var\n",
    "        self.sequence_length = sequence_length\n",
    "        self.pin_memory = pin_memory\n",
    "        \n",
    "        self.lat_size, self.lon_size, self.time_size, self.num_variables = self.numpy_array.shape\n",
    "\n",
    "        self.time_size -= (sequence_length) #num of timesteps with targets\n",
    "        self.numpy_array = self.numpy_array[:self.time_size]\n",
    "        # 40, 40, 854, 29\n",
    "        \n",
    "        \n",
    "        self.train_or_test = train_or_test\n",
    "        \n",
    "        self.pos_indices = np.column_stack(np.where(self.numpy_array[:,:,self.sequence_length:, -1] == 1)) \n",
    "        # shape (number_of_occurences) by (lat_indices, lon_indices, time_indices)\n",
    "        self.neg_indices = np.column_stack(np.where(self.numpy_array[:,:,self.sequence_length:, -1] == 0))\n",
    "            \n",
    "        #ipdb.set_trace()\n",
    "        self.total_indices = None\n",
    "        \n",
    "        if (self.train_or_test): # True -> training; False -> eval\n",
    "             # 3/4 neg, 1/4 pos\n",
    "            total_row_values_to_delete = None\n",
    "            for index_arr in tqdm(self.pos_indices, desc = 'sampling'):\n",
    "                lat = index_arr[0]\n",
    "                lon = index_arr[1]\n",
    "                time = index_arr[2]\n",
    "                #radius = 0\n",
    "                lat_range = np.arange(lat-radius, lat+radius+1) #lat is 5: np.arange(3,8) 3, 4, 5, 6, 7\n",
    "                lon_range = np.arange(lon-radius, lon+radius+1)\n",
    "                diameter = radius*2+1\n",
    "                time_arr = np.array([time])\n",
    "\n",
    "                grid1, grid2, grid3 = np.meshgrid(lat_range, lon_range, time_arr, indexing='ij')\n",
    "                row_values_to_delete = np.vstack([grid1.ravel(), grid2.ravel(), grid3.ravel()]).T\n",
    "                if total_row_values_to_delete is None:\n",
    "                    total_row_values_to_delete = row_values_to_delete\n",
    "                else:\n",
    "                    total_row_values_to_delete = np.concatenate((total_row_values_to_delete, row_values_to_delete), axis=0)\n",
    "                \n",
    "            neg_indices_pd = pd.DataFrame(self.neg_indices)\n",
    "            \n",
    "            total_rows_to_delete_pd = pd.DataFrame(total_row_values_to_delete)\n",
    "            n_index = neg_indices_pd.set_index([0,1,2]).index\n",
    "            t_index = total_rows_to_delete_pd.set_index([0,1,2]).index\n",
    "            mask = ~n_index.isin(t_index)\n",
    "            result = neg_indices_pd.loc[mask]\n",
    "            self.neg_indices = result.to_numpy()\n",
    "            \n",
    "            neg_to_pos_ratio = 2\n",
    "            num_rows = len(self.pos_indices)*neg_to_pos_ratio\n",
    "            random_rows = np.random.choice(self.neg_indices.shape[0], size=num_rows, replace=False)\n",
    "            #ipdb.set_trace()\n",
    "            neg_indices_subset = self.neg_indices[random_rows, :]\n",
    "            #ipdb.set_trace()\n",
    "            \n",
    "            self.total_indices = np.concatenate((self.pos_indices, neg_indices_subset), axis=0)\n",
    "            #self.total_indices = np.concatenate((self.pos_indices, self.neg_indices), axis=0)\n",
    "            \n",
    "        else:\n",
    "            self.total_indices = np.concatenate((self.pos_indices, self.neg_indices), axis=0)\n",
    "        \n",
    "        np.random.shuffle(self.total_indices)\n",
    "        #ipdb.set_trace()\n",
    "            \n",
    "    def __len__(self): # num_samples * num_timesteps\n",
    "        return len(self.total_indices)\n",
    "\n",
    "    def __getitem__(self, index): # np array shape (40, 40, 918, 29), lat, lon, time, var\n",
    "        #total indices shape (num samples) by (lat_indices, lon_indices, time_indices)\n",
    "        lat_index = self.total_indices[index, 0]\n",
    "        lon_index = self.total_indices[index, 1]\n",
    "        time_index = self.total_indices[index, 2]\n",
    "\n",
    "        # ex timesteps 0 to 64: 65 timesteps in total, features takes 0 to 63, target is 64th timestep\n",
    "        target_np = self.numpy_array[lat_index, lon_index, time_index+sequence_length, -1] # only last variable gwis_ba\n",
    "        features_np = self.numpy_array[lat_index, lon_index, time_index:time_index+sequence_length, : ] # all variables\n",
    "        # lat, lon, time, var\n",
    "        \n",
    "        #target_np shape ()\n",
    "        #features_np shape (64,29) time, features\n",
    "        #ipdb.set_trace()\n",
    "        if self.pin_memory:\n",
    "            target_tensor = torch.from_numpy(np.asarray(target_np)).pin_memory()\n",
    "            features_tensor = torch.from_numpy(np.asarray(features_np)).pin_memory()\n",
    "        else:\n",
    "            target_tensor = torch.from_numpy(np.asarray(target_np))\n",
    "            features_tensor = torch.from_numpy(np.asarray(features_np))\n",
    "        target_tensor = target_tensor.float()\n",
    "        features_tensor = features_tensor.float().permute(1,0) #now features, time\n",
    "        \n",
    "        #if (torch.isnan(features_tensor).any().item()):\n",
    "        #    ipdb.set_trace(context=5)\n",
    "        #if (torch.isnan(features_tensor).any().item()):\n",
    "        #    return\n",
    "        \n",
    "        return features_tensor, target_tensor\n",
    "\n",
    "def temporal_dataloader(numpy_array, sequence_length, batch_size, radius, train_or_test, pin_memory=True, num_workers=0):\n",
    "    temporal_dataset = TemporalDatasetFromNumpy(numpy_array, sequence_length, radius, pin_memory, train_or_test)\n",
    "    dataloader = DataLoader(temporal_dataset, batch_size=batch_size, shuffle=False, num_workers=num_workers, pin_memory=True)\n",
    "    return dataloader\n"
   ]
  },
  {
   "cell_type": "markdown",
   "id": "74633bb5",
   "metadata": {
    "id": "zmt0TF_39e1Q",
    "papermill": {
     "duration": 0.009843,
     "end_time": "2023-10-30T01:40:50.742233",
     "exception": false,
     "start_time": "2023-10-30T01:40:50.732390",
     "status": "completed"
    },
    "tags": []
   },
   "source": [
    "# Trainer + Evaluator"
   ]
  },
  {
   "cell_type": "code",
   "execution_count": 7,
   "id": "394b5431",
   "metadata": {
    "execution": {
     "iopub.execute_input": "2023-10-30T01:40:50.762697Z",
     "iopub.status.busy": "2023-10-30T01:40:50.762454Z",
     "iopub.status.idle": "2023-10-30T01:40:50.779384Z",
     "shell.execute_reply": "2023-10-30T01:40:50.778599Z"
    },
    "id": "Azn6vrTy9iyd",
    "papermill": {
     "duration": 0.029614,
     "end_time": "2023-10-30T01:40:50.781374",
     "exception": false,
     "start_time": "2023-10-30T01:40:50.751760",
     "status": "completed"
    },
    "tags": []
   },
   "outputs": [],
   "source": [
    "# Define the training loop\n",
    "def train(model, dataloader, optimizer, criterion, device, epoch_num): #each dataloader gives 1203*150 samples\n",
    "    model.train()\n",
    "    total_loss = 0.0\n",
    "    total_samples = 0.0\n",
    "\n",
    "    for batch_features, batch_target in tqdm(dataloader, desc = f'training epoch {epoch_num}'): #ndvi missing values\n",
    "        if torch.isnan(batch_features).any().item():\n",
    "            #Flatten:\n",
    "            shape = batch_features.shape\n",
    "            batch_features_reshaped = batch_features.reshape(shape[0],-1)\n",
    "            #Drop all rows containing any nan:\n",
    "            mask = ~torch.any(batch_features_reshaped.isnan(),dim=1)\n",
    "            batch_features_reshaped = batch_features_reshaped[mask]\n",
    "            #Reshape back:\n",
    "            #ipdb.set_trace()\n",
    "            batch_features = batch_features_reshaped.reshape(batch_features_reshaped.shape[0],*shape[1:])\n",
    "            batch_target = batch_target[mask]\n",
    "\n",
    "        batch_features = batch_features.to(device)\n",
    "        batch_target = batch_target.squeeze().to(device)\n",
    "        #ipdb.set_trace()\n",
    "        # Forward pass\n",
    "        outputs = model(batch_features).squeeze()\n",
    "        #print(outputs, batch_target)\n",
    "\n",
    "        if (torch.isnan(outputs).any().item()):\n",
    "            ipdb.set_trace(context=5)\n",
    "\n",
    "        loss = criterion(outputs, batch_target)\n",
    "\n",
    "        # Backward pass and optimization\n",
    "        optimizer.zero_grad()\n",
    "        loss.backward()\n",
    "        torch.nn.utils.clip_grad_norm_(model.parameters(), max_norm=4.0)\n",
    "        optimizer.step()\n",
    "        \n",
    "        num_samples = len(outputs)\n",
    "        total_loss+=loss.sum()\n",
    "        total_samples += num_samples\n",
    "        \n",
    "        #print(f'batch #{num_batches} end')\n",
    "    # retrieve: model.load_state_dict(torch.load(checkpoint_path))\n",
    "    return total_loss, total_samples\n",
    "\n",
    "\n",
    "def evaluate_model(model, dataloader, criterion, device):\n",
    "    model.eval()  # Set the model to evaluation mode\n",
    "    total_f1 = 0.0\n",
    "    total_recall = 0.0\n",
    "    total_precision = 0.0\n",
    "    total_accuracy = 0.0\n",
    "    total_aucroc = 0.0\n",
    "    total_auprc = 0.0\n",
    "    total_loss = 0.0\n",
    "    total_loss_samples = 0.0\n",
    "    total_samples = 0.0 #because each batch is the same size\n",
    "\n",
    "    for inputs, targets in tqdm(dataloader, desc = 'evaluating'):\n",
    "        with torch.no_grad():\n",
    "            #ipdb.set_trace(context=5)\n",
    "\n",
    "            inputs = inputs.to(device)\n",
    "            targets = targets.to(device)\n",
    "            \n",
    "            if torch.isnan(inputs).any().item():\n",
    "                #Flatten:\n",
    "                shape = inputs.shape\n",
    "                inputs_reshaped = inputs.reshape(shape[0],-1)\n",
    "                #Drop all rows containing any nan:\n",
    "                mask = ~torch.any(inputs_reshaped.isnan(),dim=1)\n",
    "                inputs_reshaped = inputs_reshaped[mask]\n",
    "                #Reshape back:\n",
    "                #ipdb.set_trace()\n",
    "                inputs = inputs_reshaped.reshape(inputs_reshaped.shape[0],*shape[1:])\n",
    "                targets = targets[mask]\n",
    "            \n",
    "            #ipdb.set_trace(context=5)\n",
    "            # Forward pass\n",
    "            outputs = model(inputs).squeeze()\n",
    "            loss = criterion(outputs, targets)\n",
    "            \n",
    "            #ipdb.set_trace(context=5)\n",
    "            targets = targets.squeeze().cpu().numpy()\n",
    "            predicted = torch.round(outputs).cpu().numpy()\n",
    "\n",
    "            num_samples = len(targets)\n",
    "            \n",
    "            \n",
    "            total_loss+=loss.sum()\n",
    "            total_loss_samples += num_samples\n",
    "            \n",
    "            #ipdb.set_trace(context=5)\n",
    "            #true, pred\n",
    "            if (np.sum(targets) > 0):\n",
    "                #ipdb.set_trace()\n",
    "                total_f1 += f1_score(targets, predicted, pos_label=1) * num_samples\n",
    "                total_precision += precision_score(targets, predicted, pos_label=1) * num_samples\n",
    "                total_accuracy += accuracy_score(targets, predicted) * num_samples\n",
    "                total_recall += recall_score(targets, predicted, pos_label=1) * num_samples\n",
    "                total_aucroc += roc_auc_score(targets, predicted) * num_samples\n",
    "                total_auprc += average_precision_score(targets, predicted) * num_samples\n",
    "                total_samples += num_samples\n",
    "\n",
    "    #average_f1 = total_f1 / total_batches\n",
    "    #average_recall = total_recall / total_batches\n",
    "    #average_precision = total_precision / total_batches\n",
    "    #average_aucroc = total_aucroc / total_batches\n",
    "    #average_accuracy = total_accuracy / total_batches\n",
    "    return total_f1, total_recall, total_precision, total_auprc, total_aucroc, total_accuracy, total_samples, total_loss, total_loss_samples"
   ]
  },
  {
   "cell_type": "markdown",
   "id": "a3f3801d",
   "metadata": {
    "id": "DeM35Ph--XMy",
    "papermill": {
     "duration": 0.009449,
     "end_time": "2023-10-30T01:40:50.800784",
     "exception": false,
     "start_time": "2023-10-30T01:40:50.791335",
     "status": "completed"
    },
    "tags": []
   },
   "source": [
    "# configging"
   ]
  },
  {
   "cell_type": "code",
   "execution_count": 8,
   "id": "2f1c8083",
   "metadata": {
    "execution": {
     "iopub.execute_input": "2023-10-30T01:40:50.820917Z",
     "iopub.status.busy": "2023-10-30T01:40:50.820660Z",
     "iopub.status.idle": "2023-10-30T01:40:50.891215Z",
     "shell.execute_reply": "2023-10-30T01:40:50.890206Z"
    },
    "id": "--tschFC-btf",
    "papermill": {
     "duration": 0.082911,
     "end_time": "2023-10-30T01:40:50.893186",
     "exception": false,
     "start_time": "2023-10-30T01:40:50.810275",
     "status": "completed"
    },
    "tags": []
   },
   "outputs": [],
   "source": [
    "feature_names = ['tp', 'rel_hum', 'ws10', 't2m_mean', 't2m_min', 't2m_max', 'swvl1', 'swvl2', 'swvl3', 'swvl4', 'lsm', 'drought_code_max',\n",
    "                 'drought_code_mean', 'fwi_max', 'fwi_mean', 'lst_day', 'lai', 'ndvi', 'pop_dens', 'lccs_class_0', 'lccs_class_1',\n",
    "                 'lccs_class_2', 'lccs_class_3', 'lccs_class_4', 'lccs_class_5', 'lccs_class_6', 'lccs_class_7', 'lccs_class_8', 'gwis_ba']\n",
    "target_name = ['gwis_ba']\n",
    "sequence_length = 64 # look back 512 days\n",
    "config = {\n",
    "    'emb_size' : 16,\n",
    "    'dim_ff' : 256,\n",
    "    'num_heads' : 8,\n",
    "    'lr' : 1e-5,\n",
    "    'dropout' : 0.01,\n",
    "    'seed' : 1234,\n",
    "    'Data_shape' : [4000, len(feature_names), sequence_length], #samples, features, time\n",
    "    'num_labels' : 1\n",
    "}\n",
    "\n",
    "# config needs 'Data_shape', 'emb_size', 'num_heads', 'dim_ff'\n",
    "\n",
    "device = torch.device('cuda' if torch.cuda.is_available() else 'cpu')\n",
    "\n",
    "#num_epochs = 20\n"
   ]
  },
  {
   "cell_type": "markdown",
   "id": "37ec4707",
   "metadata": {
    "id": "3tJV3on_HTSa",
    "papermill": {
     "duration": 0.0097,
     "end_time": "2023-10-30T01:40:50.912948",
     "exception": false,
     "start_time": "2023-10-30T01:40:50.903248",
     "status": "completed"
    },
    "tags": []
   },
   "source": [
    "# RUN!!!"
   ]
  },
  {
   "cell_type": "markdown",
   "id": "2bc8c548",
   "metadata": {
    "papermill": {
     "duration": 0.009425,
     "end_time": "2023-10-30T01:40:50.931969",
     "exception": false,
     "start_time": "2023-10-30T01:40:50.922544",
     "status": "completed"
    },
    "tags": []
   },
   "source": [
    "conv tran"
   ]
  },
  {
   "cell_type": "code",
   "execution_count": 9,
   "id": "de0d32dc",
   "metadata": {
    "collapsed": true,
    "execution": {
     "iopub.execute_input": "2023-10-30T01:40:50.952638Z",
     "iopub.status.busy": "2023-10-30T01:40:50.952350Z",
     "iopub.status.idle": "2023-10-30T01:47:43.350909Z",
     "shell.execute_reply": "2023-10-30T01:47:43.349865Z"
    },
    "id": "sNkNYzbWHZOQ",
    "jupyter": {
     "outputs_hidden": true
    },
    "outputId": "3d2071f9-01a0-4e68-c6f2-91be8fd22f04",
    "papermill": {
     "duration": 412.411296,
     "end_time": "2023-10-30T01:47:43.352866",
     "exception": false,
     "start_time": "2023-10-30T01:40:50.941570",
     "status": "completed"
    },
    "tags": []
   },
   "outputs": [
    {
     "name": "stderr",
     "output_type": "stream",
     "text": [
      "/opt/conda/lib/python3.10/site-packages/torch/functional.py:504: UserWarning: torch.meshgrid: in an upcoming release, it will be required to pass the indexing argument. (Triggered internally at /usr/local/src/pytorch/aten/src/ATen/native/TensorShape.cpp:3483.)\n",
      "  return _VF.meshgrid(tensors, **kwargs)  # type: ignore[attr-defined]\n"
     ]
    },
    {
     "name": "stdout",
     "output_type": "stream",
     "text": [
      "40867\n"
     ]
    },
    {
     "name": "stderr",
     "output_type": "stream",
     "text": [
      "sampling: 100%|██████████| 6433/6433 [00:00<00:00, 24958.52it/s]\n",
      "training epoch 0:   0%|          | 0/386 [00:00<?, ?it/s]/opt/conda/lib/python3.10/site-packages/torch/nn/modules/conv.py:459: UserWarning: Using padding='same' with even kernel lengths and odd dilation may require a zero-padded copy of the input be created (Triggered internally at /usr/local/src/pytorch/aten/src/ATen/native/Convolution.cpp:1003.)\n",
      "  return F.conv2d(input, weight, bias, self.stride,\n",
      "training epoch 0: 100%|██████████| 386/386 [00:09<00:00, 38.89it/s]\n",
      "sampling: 100%|██████████| 2056/2056 [00:00<00:00, 25004.17it/s]\n",
      "evaluating: 100%|██████████| 124/124 [00:01<00:00, 83.11it/s]\n"
     ]
    },
    {
     "name": "stdout",
     "output_type": "stream",
     "text": [
      "epoch #0:\n",
      "train_loss: 1.299735710214023; val_loss: 1.2909269617380026!\n",
      "f1: 0.513971563799341\n",
      "recall: 0.9727355923623767\n",
      "precision: 0.35361359936710846\n",
      "auprc: 0.35344370185203183\n",
      "aucroc: 0.5415415553536437\n",
      "accuracy: 0.3976977950713359\n"
     ]
    },
    {
     "name": "stderr",
     "output_type": "stream",
     "text": [
      "sampling: 100%|██████████| 6433/6433 [00:00<00:00, 23614.32it/s]\n",
      "training epoch 1: 100%|██████████| 386/386 [00:04<00:00, 86.05it/s]\n",
      "sampling: 100%|██████████| 2056/2056 [00:00<00:00, 24877.65it/s]\n",
      "evaluating: 100%|██████████| 124/124 [00:01<00:00, 84.02it/s]\n"
     ]
    },
    {
     "name": "stdout",
     "output_type": "stream",
     "text": [
      "epoch #1:\n",
      "train_loss: 1.2890192749365088; val_loss: 1.2817797106941515!\n",
      "f1: 0.5819076849025244\n",
      "recall: 0.8752430670828203\n",
      "precision: 0.44047870048483334\n",
      "auprc: 0.42957170129748584\n",
      "aucroc: 0.6602585688213981\n",
      "accuracy: 0.5893900064892926\n"
     ]
    },
    {
     "name": "stderr",
     "output_type": "stream",
     "text": [
      "sampling: 100%|██████████| 6433/6433 [00:00<00:00, 21448.77it/s]\n",
      "training epoch 2: 100%|██████████| 386/386 [00:04<00:00, 85.28it/s]\n",
      "sampling: 100%|██████████| 2056/2056 [00:00<00:00, 24184.56it/s]\n",
      "evaluating: 100%|██████████| 124/124 [00:01<00:00, 84.38it/s]\n"
     ]
    },
    {
     "name": "stdout",
     "output_type": "stream",
     "text": [
      "epoch #2:\n",
      "train_loss: 1.278127712392476; val_loss: 1.2733978325918194!\n",
      "f1: 0.592820406128297\n",
      "recall: 0.8065595084234192\n",
      "precision: 0.47549529806351915\n",
      "auprc: 0.450241114491268\n",
      "aucroc: 0.6806640512736258\n",
      "accuracy: 0.6390465380249716\n"
     ]
    },
    {
     "name": "stderr",
     "output_type": "stream",
     "text": [
      "sampling: 100%|██████████| 6433/6433 [00:00<00:00, 23069.76it/s]\n",
      "training epoch 3: 100%|██████████| 386/386 [00:04<00:00, 85.92it/s]\n",
      "sampling: 100%|██████████| 2056/2056 [00:00<00:00, 25145.84it/s]\n",
      "evaluating: 100%|██████████| 124/124 [00:01<00:00, 84.37it/s]\n"
     ]
    },
    {
     "name": "stdout",
     "output_type": "stream",
     "text": [
      "epoch #3:\n",
      "train_loss: 1.268900386778273; val_loss: 1.2669017509727627!\n",
      "f1: 0.5983428453956102\n",
      "recall: 0.7691046559068339\n",
      "precision: 0.49777187210878804\n",
      "auprc: 0.46271566266934344\n",
      "aucroc: 0.6896432295640739\n",
      "accuracy: 0.6618028534370947\n"
     ]
    },
    {
     "name": "stderr",
     "output_type": "stream",
     "text": [
      "sampling: 100%|██████████| 6433/6433 [00:00<00:00, 23509.12it/s]\n",
      "training epoch 4: 100%|██████████| 386/386 [00:04<00:00, 84.10it/s]\n",
      "sampling: 100%|██████████| 2056/2056 [00:00<00:00, 23326.14it/s]\n",
      "evaluating: 100%|██████████| 124/124 [00:01<00:00, 81.26it/s]\n"
     ]
    },
    {
     "name": "stdout",
     "output_type": "stream",
     "text": [
      "epoch #4:\n",
      "train_loss: 1.2617840295950358; val_loss: 1.2628550906032106!\n",
      "f1: 0.6159338365962206\n",
      "recall: 0.7457247112868968\n",
      "precision: 0.5342629918252765\n",
      "auprc: 0.48661816333073304\n",
      "aucroc: 0.7102911007761415\n",
      "accuracy: 0.698232527971461\n"
     ]
    },
    {
     "name": "stderr",
     "output_type": "stream",
     "text": [
      "sampling: 100%|██████████| 6433/6433 [00:00<00:00, 23664.65it/s]\n",
      "training epoch 5: 100%|██████████| 386/386 [00:04<00:00, 87.03it/s]\n",
      "sampling: 100%|██████████| 2056/2056 [00:00<00:00, 25207.58it/s]\n",
      "evaluating: 100%|██████████| 124/124 [00:01<00:00, 79.19it/s]\n"
     ]
    },
    {
     "name": "stdout",
     "output_type": "stream",
     "text": [
      "epoch #5:\n",
      "train_loss: 1.2548581175834284; val_loss: 1.2539770337583103!\n",
      "f1: 0.6406384283944773\n",
      "recall: 0.7050215382032569\n",
      "precision: 0.5964894803247995\n",
      "auprc: 0.5226027469848078\n",
      "aucroc: 0.7343247444264142\n",
      "accuracy: 0.7444462461488568\n"
     ]
    },
    {
     "name": "stderr",
     "output_type": "stream",
     "text": [
      "sampling: 100%|██████████| 6433/6433 [00:00<00:00, 23359.53it/s]\n",
      "training epoch 6: 100%|██████████| 386/386 [00:04<00:00, 84.69it/s]\n",
      "sampling: 100%|██████████| 2056/2056 [00:00<00:00, 24045.71it/s]\n",
      "evaluating: 100%|██████████| 124/124 [00:01<00:00, 86.23it/s]\n"
     ]
    },
    {
     "name": "stdout",
     "output_type": "stream",
     "text": [
      "epoch #6:\n",
      "train_loss: 1.2473704312723457; val_loss: 1.2509314964770883!\n",
      "f1: 0.6247437280629845\n",
      "recall: 0.6757112534158024\n",
      "precision: 0.595772896696666\n",
      "auprc: 0.5159283156732394\n",
      "aucroc: 0.7238662333787498\n",
      "accuracy: 0.7390105433901054\n"
     ]
    },
    {
     "name": "stderr",
     "output_type": "stream",
     "text": [
      "sampling: 100%|██████████| 6433/6433 [00:00<00:00, 23596.41it/s]\n",
      "training epoch 7: 100%|██████████| 386/386 [00:04<00:00, 84.55it/s]\n",
      "sampling: 100%|██████████| 2056/2056 [00:00<00:00, 24760.79it/s]\n",
      "evaluating: 100%|██████████| 124/124 [00:01<00:00, 82.58it/s]\n"
     ]
    },
    {
     "name": "stdout",
     "output_type": "stream",
     "text": [
      "epoch #7:\n",
      "train_loss: 1.2414883867039743; val_loss: 1.2455994523143645!\n",
      "f1: 0.6390065359254179\n",
      "recall: 0.6836166449680382\n",
      "precision: 0.6106640788729083\n",
      "auprc: 0.5277794903507531\n",
      "aucroc: 0.7331057787216625\n",
      "accuracy: 0.7501621271076524\n"
     ]
    },
    {
     "name": "stderr",
     "output_type": "stream",
     "text": [
      "sampling: 100%|██████████| 6433/6433 [00:00<00:00, 23587.13it/s]\n",
      "training epoch 8: 100%|██████████| 386/386 [00:04<00:00, 84.56it/s]\n",
      "sampling: 100%|██████████| 2056/2056 [00:00<00:00, 25668.89it/s]\n",
      "evaluating: 100%|██████████| 124/124 [00:01<00:00, 84.98it/s]\n"
     ]
    },
    {
     "name": "stdout",
     "output_type": "stream",
     "text": [
      "epoch #8:\n",
      "train_loss: 1.2394929446193512; val_loss: 1.245235635489298!\n",
      "f1: 0.6385978372994784\n",
      "recall: 0.6985983312770143\n",
      "precision: 0.598056616426665\n",
      "auprc: 0.520626314108052\n",
      "aucroc: 0.7310851258434254\n",
      "accuracy: 0.7421760985892655\n"
     ]
    },
    {
     "name": "stderr",
     "output_type": "stream",
     "text": [
      "sampling: 100%|██████████| 6433/6433 [00:00<00:00, 24018.76it/s]\n",
      "training epoch 9: 100%|██████████| 386/386 [00:04<00:00, 84.69it/s]\n",
      "sampling: 100%|██████████| 2056/2056 [00:00<00:00, 24945.22it/s]\n",
      "evaluating: 100%|██████████| 124/124 [00:01<00:00, 77.99it/s]\n"
     ]
    },
    {
     "name": "stdout",
     "output_type": "stream",
     "text": [
      "epoch #9:\n",
      "train_loss: 1.2373023092193896; val_loss: 1.2411825177579847!\n",
      "f1: 0.6500208428981544\n",
      "recall: 0.7137513167101371\n",
      "precision: 0.6070275085896996\n",
      "auprc: 0.5320691924452978\n",
      "aucroc: 0.7407252574574068\n",
      "accuracy: 0.7509727626459144\n"
     ]
    },
    {
     "name": "stderr",
     "output_type": "stream",
     "text": [
      "sampling: 100%|██████████| 6433/6433 [00:00<00:00, 24140.98it/s]\n",
      "training epoch 10: 100%|██████████| 386/386 [00:04<00:00, 84.85it/s]\n",
      "sampling: 100%|██████████| 2056/2056 [00:00<00:00, 24839.81it/s]\n",
      "evaluating: 100%|██████████| 124/124 [00:01<00:00, 85.88it/s]\n"
     ]
    },
    {
     "name": "stdout",
     "output_type": "stream",
     "text": [
      "epoch #10:\n",
      "train_loss: 1.2334536439711903; val_loss: 1.2403282935148394!\n",
      "f1: 0.6523472978175806\n",
      "recall: 0.7198413006313162\n",
      "precision: 0.6069606037912556\n",
      "auprc: 0.533667868515765\n",
      "aucroc: 0.7433523803020404\n",
      "accuracy: 0.7517028867985728\n"
     ]
    },
    {
     "name": "stderr",
     "output_type": "stream",
     "text": [
      "sampling: 100%|██████████| 6433/6433 [00:00<00:00, 23623.33it/s]\n",
      "training epoch 11: 100%|██████████| 386/386 [00:04<00:00, 85.30it/s]\n",
      "sampling: 100%|██████████| 2056/2056 [00:00<00:00, 25189.18it/s]\n",
      "evaluating: 100%|██████████| 124/124 [00:01<00:00, 83.60it/s]\n"
     ]
    },
    {
     "name": "stdout",
     "output_type": "stream",
     "text": [
      "epoch #11:\n",
      "train_loss: 1.2327387429400487; val_loss: 1.2379575241242295!\n",
      "f1: 0.6549474039262342\n",
      "recall: 0.7274757568730237\n",
      "precision: 0.6058470936066935\n",
      "auprc: 0.5358896735187549\n",
      "aucroc: 0.744576158911483\n",
      "accuracy: 0.7497567304573467\n"
     ]
    },
    {
     "name": "stderr",
     "output_type": "stream",
     "text": [
      "sampling: 100%|██████████| 6433/6433 [00:00<00:00, 23023.43it/s]\n",
      "training epoch 12: 100%|██████████| 386/386 [00:04<00:00, 85.80it/s]\n",
      "sampling: 100%|██████████| 2056/2056 [00:00<00:00, 25029.57it/s]\n",
      "evaluating: 100%|██████████| 124/124 [00:01<00:00, 86.40it/s]\n"
     ]
    },
    {
     "name": "stdout",
     "output_type": "stream",
     "text": [
      "epoch #12:\n",
      "train_loss: 1.2306590321682127; val_loss: 1.238819649951354!\n",
      "f1: 0.6542016482267338\n",
      "recall: 0.699915146993971\n",
      "precision: 0.6252579492094719\n",
      "auprc: 0.541925052085742\n",
      "aucroc: 0.7438032484698092\n",
      "accuracy: 0.7588778984919734\n"
     ]
    },
    {
     "name": "stderr",
     "output_type": "stream",
     "text": [
      "sampling: 100%|██████████| 6433/6433 [00:00<00:00, 24127.46it/s]\n",
      "training epoch 13: 100%|██████████| 386/386 [00:04<00:00, 83.09it/s]\n",
      "sampling: 100%|██████████| 2056/2056 [00:00<00:00, 25345.68it/s]\n",
      "evaluating: 100%|██████████| 124/124 [00:01<00:00, 85.03it/s]\n"
     ]
    },
    {
     "name": "stdout",
     "output_type": "stream",
     "text": [
      "epoch #13:\n",
      "train_loss: 1.2298348117130422; val_loss: 1.2373072207360571!\n",
      "f1: 0.6593719894934436\n",
      "recall: 0.7253007941440964\n",
      "precision: 0.6151938486921072\n",
      "auprc: 0.5413910419379542\n",
      "aucroc: 0.7478933964765022\n",
      "accuracy: 0.755674448767834\n"
     ]
    },
    {
     "name": "stderr",
     "output_type": "stream",
     "text": [
      "sampling: 100%|██████████| 6433/6433 [00:00<00:00, 23814.97it/s]\n",
      "training epoch 14: 100%|██████████| 386/386 [00:04<00:00, 85.91it/s]\n",
      "sampling: 100%|██████████| 2056/2056 [00:00<00:00, 25039.38it/s]\n",
      "evaluating: 100%|██████████| 124/124 [00:01<00:00, 83.97it/s]\n"
     ]
    },
    {
     "name": "stdout",
     "output_type": "stream",
     "text": [
      "epoch #14:\n",
      "train_loss: 1.2294748293128466; val_loss: 1.235496851310402!\n",
      "f1: 0.6593425294717383\n",
      "recall: 0.746294520506951\n",
      "precision: 0.5995624890786625\n",
      "auprc: 0.5369659308989218\n",
      "aucroc: 0.7499748730389088\n",
      "accuracy: 0.7510945354305173\n"
     ]
    },
    {
     "name": "stderr",
     "output_type": "stream",
     "text": [
      "sampling: 100%|██████████| 6433/6433 [00:00<00:00, 24118.66it/s]\n",
      "training epoch 15: 100%|██████████| 386/386 [00:04<00:00, 86.78it/s]\n",
      "sampling: 100%|██████████| 2056/2056 [00:00<00:00, 24868.68it/s]\n",
      "evaluating: 100%|██████████| 124/124 [00:01<00:00, 86.54it/s]\n"
     ]
    },
    {
     "name": "stdout",
     "output_type": "stream",
     "text": [
      "epoch #15:\n",
      "train_loss: 1.227143366682645; val_loss: 1.2337231928367256!\n",
      "f1: 0.6645980683761946\n",
      "recall: 0.7323565407629823\n",
      "precision: 0.6167762211886273\n",
      "auprc: 0.5462875275782575\n",
      "aucroc: 0.7533757775760241\n",
      "accuracy: 0.7614336685047032\n"
     ]
    },
    {
     "name": "stderr",
     "output_type": "stream",
     "text": [
      "sampling: 100%|██████████| 6433/6433 [00:00<00:00, 23282.99it/s]\n",
      "training epoch 16: 100%|██████████| 386/386 [00:04<00:00, 86.01it/s]\n",
      "sampling: 100%|██████████| 2056/2056 [00:00<00:00, 25100.90it/s]\n",
      "evaluating: 100%|██████████| 124/124 [00:01<00:00, 86.29it/s]\n"
     ]
    },
    {
     "name": "stdout",
     "output_type": "stream",
     "text": [
      "epoch #16:\n",
      "train_loss: 1.2262239394400685; val_loss: 1.232867012073403!\n",
      "f1: 0.665732068552472\n",
      "recall: 0.712982404295905\n",
      "precision: 0.636635226672622\n",
      "auprc: 0.5524378406422944\n",
      "aucroc: 0.7539831155739183\n",
      "accuracy: 0.769455252918288\n"
     ]
    },
    {
     "name": "stderr",
     "output_type": "stream",
     "text": [
      "sampling: 100%|██████████| 6433/6433 [00:00<00:00, 23806.27it/s]\n",
      "training epoch 17: 100%|██████████| 386/386 [00:04<00:00, 82.09it/s]\n",
      "sampling: 100%|██████████| 2056/2056 [00:00<00:00, 23278.54it/s]\n",
      "evaluating: 100%|██████████| 124/124 [00:01<00:00, 87.07it/s]\n"
     ]
    },
    {
     "name": "stdout",
     "output_type": "stream",
     "text": [
      "epoch #17:\n",
      "train_loss: 1.2255005724066015; val_loss: 1.2329681925976974!\n",
      "f1: 0.6697901305207726\n",
      "recall: 0.7220979438160078\n",
      "precision: 0.636321183755779\n",
      "auprc: 0.5552677004296418\n",
      "aucroc: 0.7575897072978309\n",
      "accuracy: 0.7700439095787933\n"
     ]
    },
    {
     "name": "stderr",
     "output_type": "stream",
     "text": [
      "sampling: 100%|██████████| 6433/6433 [00:00<00:00, 21077.86it/s]\n",
      "training epoch 18: 100%|██████████| 386/386 [00:04<00:00, 85.85it/s]\n",
      "sampling: 100%|██████████| 2056/2056 [00:00<00:00, 24989.03it/s]\n",
      "evaluating: 100%|██████████| 124/124 [00:01<00:00, 84.78it/s]\n"
     ]
    },
    {
     "name": "stdout",
     "output_type": "stream",
     "text": [
      "epoch #18:\n",
      "train_loss: 1.2239798896639722; val_loss: 1.229224693605099!\n",
      "f1: 0.6783394401186139\n",
      "recall: 0.7464557272639091\n",
      "precision: 0.6317575873123727\n",
      "auprc: 0.5598690344119287\n",
      "aucroc: 0.7643402467179541\n",
      "accuracy: 0.7701037613488976\n"
     ]
    },
    {
     "name": "stderr",
     "output_type": "stream",
     "text": [
      "sampling: 100%|██████████| 6433/6433 [00:00<00:00, 23899.86it/s]\n",
      "training epoch 19: 100%|██████████| 386/386 [00:04<00:00, 86.33it/s]\n",
      "sampling: 100%|██████████| 2056/2056 [00:00<00:00, 25201.84it/s]\n",
      "evaluating: 100%|██████████| 124/124 [00:01<00:00, 81.54it/s]\n"
     ]
    },
    {
     "name": "stdout",
     "output_type": "stream",
     "text": [
      "epoch #19:\n",
      "train_loss: 1.2238918426796725; val_loss: 1.2289153726078494!\n",
      "f1: 0.6848859206189639\n",
      "recall: 0.7446180675702202\n",
      "precision: 0.6430669469516922\n",
      "auprc: 0.5682123786280933\n",
      "aucroc: 0.7689621511238338\n",
      "accuracy: 0.778138177100227\n"
     ]
    },
    {
     "name": "stderr",
     "output_type": "stream",
     "text": [
      "sampling: 100%|██████████| 6433/6433 [00:00<00:00, 24187.24it/s]\n",
      "training epoch 20: 100%|██████████| 386/386 [00:04<00:00, 86.29it/s]\n",
      "sampling: 100%|██████████| 2056/2056 [00:00<00:00, 24690.46it/s]\n",
      "evaluating: 100%|██████████| 124/124 [00:01<00:00, 85.48it/s]\n"
     ]
    },
    {
     "name": "stdout",
     "output_type": "stream",
     "text": [
      "epoch #20:\n",
      "train_loss: 1.2227554396408769; val_loss: 1.2287976515627534!\n",
      "f1: 0.6845506604199753\n",
      "recall: 0.7519581127058216\n",
      "precision: 0.636200042047142\n",
      "auprc: 0.5648335305436886\n",
      "aucroc: 0.7682787869116847\n",
      "accuracy: 0.773796011026431\n"
     ]
    },
    {
     "name": "stderr",
     "output_type": "stream",
     "text": [
      "sampling: 100%|██████████| 6433/6433 [00:00<00:00, 23729.62it/s]\n",
      "training epoch 21: 100%|██████████| 386/386 [00:04<00:00, 81.02it/s]\n",
      "sampling: 100%|██████████| 2056/2056 [00:00<00:00, 25305.08it/s]\n",
      "evaluating: 100%|██████████| 124/124 [00:01<00:00, 81.87it/s]\n"
     ]
    },
    {
     "name": "stdout",
     "output_type": "stream",
     "text": [
      "epoch #21:\n",
      "train_loss: 1.222547147048917; val_loss: 1.2295610598553015!\n",
      "f1: 0.6765654749544359\n",
      "recall: 0.7577617571159792\n",
      "precision: 0.6231182608388235\n",
      "auprc: 0.5567223977201204\n",
      "aucroc: 0.7642546944088818\n",
      "accuracy: 0.7654020752269779\n"
     ]
    },
    {
     "name": "stderr",
     "output_type": "stream",
     "text": [
      "sampling: 100%|██████████| 6433/6433 [00:00<00:00, 23415.23it/s]\n",
      "training epoch 22: 100%|██████████| 386/386 [00:04<00:00, 85.21it/s]\n",
      "sampling: 100%|██████████| 2056/2056 [00:00<00:00, 25651.18it/s]\n",
      "evaluating: 100%|██████████| 124/124 [00:01<00:00, 85.08it/s]\n"
     ]
    },
    {
     "name": "stdout",
     "output_type": "stream",
     "text": [
      "epoch #22:\n",
      "train_loss: 1.2211352072213297; val_loss: 1.2267240199854061!\n",
      "f1: 0.6839300002715288\n",
      "recall: 0.7567354947410764\n",
      "precision: 0.6318184575634435\n",
      "auprc: 0.5635710465148047\n",
      "aucroc: 0.7690667628173513\n",
      "accuracy: 0.7744446246148857\n"
     ]
    },
    {
     "name": "stderr",
     "output_type": "stream",
     "text": [
      "sampling: 100%|██████████| 6433/6433 [00:00<00:00, 24156.84it/s]\n",
      "training epoch 23: 100%|██████████| 386/386 [00:04<00:00, 85.13it/s]\n",
      "sampling: 100%|██████████| 2056/2056 [00:00<00:00, 25540.18it/s]\n",
      "evaluating: 100%|██████████| 124/124 [00:01<00:00, 84.36it/s]\n"
     ]
    },
    {
     "name": "stdout",
     "output_type": "stream",
     "text": [
      "epoch #23:\n",
      "train_loss: 1.2208959375161943; val_loss: 1.2251956767117318!\n",
      "f1: 0.6945333583021798\n",
      "recall: 0.7328273323310323\n",
      "precision: 0.6695357516745206\n",
      "auprc: 0.5836045908029756\n",
      "aucroc: 0.775479346611744\n",
      "accuracy: 0.79098427112048\n"
     ]
    },
    {
     "name": "stderr",
     "output_type": "stream",
     "text": [
      "sampling: 100%|██████████| 6433/6433 [00:00<00:00, 23865.08it/s]\n",
      "training epoch 24: 100%|██████████| 386/386 [00:04<00:00, 85.07it/s]\n",
      "sampling: 100%|██████████| 2056/2056 [00:00<00:00, 25361.49it/s]\n",
      "evaluating: 100%|██████████| 124/124 [00:01<00:00, 83.89it/s]\n"
     ]
    },
    {
     "name": "stdout",
     "output_type": "stream",
     "text": [
      "epoch #24:\n",
      "train_loss: 1.2189125748289624; val_loss: 1.2259924427235327!\n",
      "f1: 0.6860884964980944\n",
      "recall: 0.7451151499132215\n",
      "precision: 0.6468019965021858\n",
      "auprc: 0.569678704103477\n",
      "aucroc: 0.7715288854608914\n",
      "accuracy: 0.7801556420233463\n"
     ]
    },
    {
     "name": "stderr",
     "output_type": "stream",
     "text": [
      "sampling: 100%|██████████| 6433/6433 [00:00<00:00, 23592.87it/s]\n",
      "training epoch 25: 100%|██████████| 386/386 [00:04<00:00, 81.35it/s]\n",
      "sampling: 100%|██████████| 2056/2056 [00:00<00:00, 24992.29it/s]\n",
      "evaluating: 100%|██████████| 124/124 [00:01<00:00, 84.73it/s]\n"
     ]
    },
    {
     "name": "stdout",
     "output_type": "stream",
     "text": [
      "epoch #25:\n",
      "train_loss: 1.2196667006710191; val_loss: 1.2257488034852846!\n",
      "f1: 0.6861714154483397\n",
      "recall: 0.756238451094451\n",
      "precision: 0.6395223128119886\n",
      "auprc: 0.5683144648880775\n",
      "aucroc: 0.7727860914022416\n",
      "accuracy: 0.7783363061456138\n"
     ]
    },
    {
     "name": "stderr",
     "output_type": "stream",
     "text": [
      "sampling: 100%|██████████| 6433/6433 [00:00<00:00, 24075.86it/s]\n",
      "training epoch 26: 100%|██████████| 386/386 [00:04<00:00, 84.96it/s]\n",
      "sampling: 100%|██████████| 2056/2056 [00:00<00:00, 24980.27it/s]\n",
      "evaluating: 100%|██████████| 124/124 [00:01<00:00, 85.11it/s]\n"
     ]
    },
    {
     "name": "stdout",
     "output_type": "stream",
     "text": [
      "epoch #26:\n",
      "train_loss: 1.21867317863528; val_loss: 1.2261903706218582!\n",
      "f1: 0.6861622776676572\n",
      "recall: 0.7495701376676875\n",
      "precision: 0.642893469055852\n",
      "auprc: 0.5686013838156778\n",
      "aucroc: 0.7697452959906899\n",
      "accuracy: 0.7760661585860223\n"
     ]
    },
    {
     "name": "stderr",
     "output_type": "stream",
     "text": [
      "sampling: 100%|██████████| 6433/6433 [00:00<00:00, 23516.62it/s]\n",
      "training epoch 27: 100%|██████████| 386/386 [00:04<00:00, 85.22it/s]\n",
      "sampling: 100%|██████████| 2056/2056 [00:00<00:00, 25418.23it/s]\n",
      "evaluating: 100%|██████████| 124/124 [00:01<00:00, 85.78it/s]\n"
     ]
    },
    {
     "name": "stdout",
     "output_type": "stream",
     "text": [
      "epoch #27:\n",
      "train_loss: 1.2172907477395203; val_loss: 1.227058143467291!\n",
      "f1: 0.6816707047252719\n",
      "recall: 0.7365070734856101\n",
      "precision: 0.6452680836409627\n",
      "auprc: 0.568228776075075\n",
      "aucroc: 0.7663220341134035\n",
      "accuracy: 0.7757782101167315\n"
     ]
    },
    {
     "name": "stderr",
     "output_type": "stream",
     "text": [
      "sampling: 100%|██████████| 6433/6433 [00:00<00:00, 24000.79it/s]\n",
      "training epoch 28: 100%|██████████| 386/386 [00:04<00:00, 85.46it/s]\n",
      "sampling: 100%|██████████| 2056/2056 [00:00<00:00, 25150.24it/s]\n",
      "evaluating: 100%|██████████| 124/124 [00:01<00:00, 85.82it/s]\n"
     ]
    },
    {
     "name": "stdout",
     "output_type": "stream",
     "text": [
      "epoch #28:\n",
      "train_loss: 1.216679175410643; val_loss: 1.2274216247617986!\n",
      "f1: 0.6814884115319626\n",
      "recall: 0.7485739024158825\n",
      "precision: 0.6352123528487269\n",
      "auprc: 0.5636121899129078\n",
      "aucroc: 0.7663117998663411\n",
      "accuracy: 0.7716509892961402\n"
     ]
    },
    {
     "name": "stderr",
     "output_type": "stream",
     "text": [
      "sampling: 100%|██████████| 6433/6433 [00:00<00:00, 24249.78it/s]\n",
      "training epoch 29: 100%|██████████| 386/386 [00:04<00:00, 84.82it/s]\n",
      "sampling: 100%|██████████| 2056/2056 [00:00<00:00, 24529.28it/s]\n",
      "evaluating: 100%|██████████| 124/124 [00:01<00:00, 82.11it/s]\n"
     ]
    },
    {
     "name": "stdout",
     "output_type": "stream",
     "text": [
      "epoch #29:\n",
      "train_loss: 1.2169008270820376; val_loss: 1.225281078373257!\n",
      "f1: 0.6862359941936597\n",
      "recall: 0.7193561576162552\n",
      "precision: 0.6669358842318881\n",
      "auprc: 0.5774278634316529\n",
      "aucroc: 0.7698709364452715\n",
      "accuracy: 0.7874513618677043\n"
     ]
    },
    {
     "name": "stderr",
     "output_type": "stream",
     "text": [
      "sampling: 100%|██████████| 6433/6433 [00:00<00:00, 23903.24it/s]\n",
      "training epoch 30: 100%|██████████| 386/386 [00:04<00:00, 86.50it/s]\n",
      "sampling: 100%|██████████| 2056/2056 [00:00<00:00, 25048.91it/s]\n",
      "evaluating: 100%|██████████| 124/124 [00:01<00:00, 86.57it/s]\n"
     ]
    },
    {
     "name": "stdout",
     "output_type": "stream",
     "text": [
      "epoch #30:\n",
      "train_loss: 1.2155752862990983; val_loss: 1.222227034391722!\n",
      "f1: 0.6925646946399241\n",
      "recall: 0.7355400851028117\n",
      "precision: 0.6647691193444257\n",
      "auprc: 0.5792730975040145\n",
      "aucroc: 0.7747265735505446\n",
      "accuracy: 0.7882276633695476\n"
     ]
    },
    {
     "name": "stderr",
     "output_type": "stream",
     "text": [
      "sampling: 100%|██████████| 6433/6433 [00:00<00:00, 23776.34it/s]\n",
      "training epoch 31: 100%|██████████| 386/386 [00:04<00:00, 84.72it/s]\n",
      "sampling: 100%|██████████| 2056/2056 [00:00<00:00, 24830.73it/s]\n",
      "evaluating: 100%|██████████| 124/124 [00:01<00:00, 85.94it/s]\n"
     ]
    },
    {
     "name": "stdout",
     "output_type": "stream",
     "text": [
      "epoch #31:\n",
      "train_loss: 1.2154914855166339; val_loss: 1.2254318059186526!\n",
      "f1: 0.6833869968382663\n",
      "recall: 0.7293845289886791\n",
      "precision: 0.6522293723115525\n",
      "auprc: 0.5705450152987681\n",
      "aucroc: 0.7671511031917893\n",
      "accuracy: 0.7808041504539559\n"
     ]
    },
    {
     "name": "stderr",
     "output_type": "stream",
     "text": [
      "sampling: 100%|██████████| 6433/6433 [00:00<00:00, 23631.01it/s]\n",
      "training epoch 32: 100%|██████████| 386/386 [00:04<00:00, 85.74it/s]\n",
      "sampling: 100%|██████████| 2056/2056 [00:00<00:00, 25404.82it/s]\n",
      "evaluating: 100%|██████████| 124/124 [00:01<00:00, 86.25it/s]\n"
     ]
    },
    {
     "name": "stdout",
     "output_type": "stream",
     "text": [
      "epoch #32:\n",
      "train_loss: 1.2156445727434064; val_loss: 1.2233512609960273!\n",
      "f1: 0.6893728732754935\n",
      "recall: 0.7341864017331566\n",
      "precision: 0.660237250913555\n",
      "auprc: 0.578417254609522\n",
      "aucroc: 0.7737227928537095\n",
      "accuracy: 0.7867682827955246\n"
     ]
    },
    {
     "name": "stderr",
     "output_type": "stream",
     "text": [
      "sampling: 100%|██████████| 6433/6433 [00:00<00:00, 24076.61it/s]\n",
      "training epoch 33: 100%|██████████| 386/386 [00:04<00:00, 82.58it/s]\n",
      "sampling: 100%|██████████| 2056/2056 [00:00<00:00, 23573.94it/s]\n",
      "evaluating: 100%|██████████| 124/124 [00:01<00:00, 84.80it/s]\n"
     ]
    },
    {
     "name": "stdout",
     "output_type": "stream",
     "text": [
      "epoch #33:\n",
      "train_loss: 1.215756395909986; val_loss: 1.2227934628111319!\n",
      "f1: 0.6898391669504957\n",
      "recall: 0.7487027480303895\n",
      "precision: 0.6486830055954177\n",
      "auprc: 0.572154469188864\n",
      "aucroc: 0.7729109105475906\n",
      "accuracy: 0.7815793740878871\n"
     ]
    },
    {
     "name": "stderr",
     "output_type": "stream",
     "text": [
      "sampling: 100%|██████████| 6433/6433 [00:00<00:00, 23580.27it/s]\n",
      "training epoch 34: 100%|██████████| 386/386 [00:04<00:00, 86.00it/s]\n",
      "sampling: 100%|██████████| 2056/2056 [00:00<00:00, 25426.02it/s]\n",
      "evaluating: 100%|██████████| 124/124 [00:01<00:00, 86.38it/s]\n"
     ]
    },
    {
     "name": "stdout",
     "output_type": "stream",
     "text": [
      "epoch #34:\n",
      "train_loss: 1.2144733262514251; val_loss: 1.2244193514877575!\n",
      "f1: 0.6919192755097646\n",
      "recall: 0.7431892012866248\n",
      "precision: 0.659945599906965\n",
      "auprc: 0.5795997438039306\n",
      "aucroc: 0.7743293040344681\n",
      "accuracy: 0.7836873682503649\n"
     ]
    },
    {
     "name": "stderr",
     "output_type": "stream",
     "text": [
      "sampling: 100%|██████████| 6433/6433 [00:00<00:00, 22273.48it/s]\n",
      "training epoch 35: 100%|██████████| 386/386 [00:04<00:00, 84.17it/s]\n",
      "sampling: 100%|██████████| 2056/2056 [00:00<00:00, 25189.54it/s]\n",
      "evaluating: 100%|██████████| 124/124 [00:01<00:00, 82.03it/s]\n"
     ]
    },
    {
     "name": "stdout",
     "output_type": "stream",
     "text": [
      "epoch #35:\n",
      "train_loss: 1.213991515914037; val_loss: 1.2239989442738732!\n",
      "f1: 0.6857469633137924\n",
      "recall: 0.7332344031750163\n",
      "precision: 0.6545902186598115\n",
      "auprc: 0.5722229578638496\n",
      "aucroc: 0.7695674353449203\n",
      "accuracy: 0.7819390402075227\n"
     ]
    },
    {
     "name": "stderr",
     "output_type": "stream",
     "text": [
      "sampling: 100%|██████████| 6433/6433 [00:00<00:00, 22958.13it/s]\n",
      "training epoch 36: 100%|██████████| 386/386 [00:04<00:00, 83.98it/s]\n",
      "sampling: 100%|██████████| 2056/2056 [00:00<00:00, 23660.68it/s]\n",
      "evaluating: 100%|██████████| 124/124 [00:01<00:00, 83.71it/s]\n"
     ]
    },
    {
     "name": "stdout",
     "output_type": "stream",
     "text": [
      "epoch #36:\n",
      "train_loss: 1.212680313374443; val_loss: 1.2205864188928977!\n",
      "f1: 0.6916516403147883\n",
      "recall: 0.739043512982898\n",
      "precision: 0.6592834759924484\n",
      "auprc: 0.5780323550874331\n",
      "aucroc: 0.7744013624965266\n",
      "accuracy: 0.7866061293984109\n"
     ]
    },
    {
     "name": "stderr",
     "output_type": "stream",
     "text": [
      "sampling: 100%|██████████| 6433/6433 [00:00<00:00, 23850.23it/s]\n",
      "training epoch 37: 100%|██████████| 386/386 [00:04<00:00, 79.42it/s]\n",
      "sampling: 100%|██████████| 2056/2056 [00:00<00:00, 25449.21it/s]\n",
      "evaluating: 100%|██████████| 124/124 [00:01<00:00, 83.05it/s]\n"
     ]
    },
    {
     "name": "stdout",
     "output_type": "stream",
     "text": [
      "epoch #37:\n",
      "train_loss: 1.21333128756866; val_loss: 1.2221337700632295!\n",
      "f1: 0.688936321456885\n",
      "recall: 0.7171997571211541\n",
      "precision: 0.6752773199282809\n",
      "auprc: 0.582418897486631\n",
      "aucroc: 0.7724152408536208\n",
      "accuracy: 0.789396887159533\n"
     ]
    },
    {
     "name": "stderr",
     "output_type": "stream",
     "text": [
      "sampling: 100%|██████████| 6433/6433 [00:00<00:00, 23735.24it/s]\n",
      "training epoch 38: 100%|██████████| 386/386 [00:04<00:00, 84.39it/s]\n",
      "sampling: 100%|██████████| 2056/2056 [00:00<00:00, 25349.19it/s]\n",
      "evaluating: 100%|██████████| 124/124 [00:01<00:00, 83.56it/s]\n"
     ]
    },
    {
     "name": "stdout",
     "output_type": "stream",
     "text": [
      "epoch #38:\n",
      "train_loss: 1.2137064091892522; val_loss: 1.2241244186223248!\n",
      "f1: 0.6792450872118894\n",
      "recall: 0.7024349561223276\n",
      "precision: 0.6698255705382774\n",
      "auprc: 0.5730259227348276\n",
      "aucroc: 0.7645835742697248\n",
      "accuracy: 0.7853437094682231\n"
     ]
    },
    {
     "name": "stderr",
     "output_type": "stream",
     "text": [
      "sampling: 100%|██████████| 6433/6433 [00:00<00:00, 23736.89it/s]\n",
      "training epoch 39: 100%|██████████| 386/386 [00:04<00:00, 84.30it/s]\n",
      "sampling: 100%|██████████| 2056/2056 [00:00<00:00, 25317.93it/s]\n",
      "evaluating: 100%|██████████| 124/124 [00:01<00:00, 81.98it/s]\n"
     ]
    },
    {
     "name": "stdout",
     "output_type": "stream",
     "text": [
      "epoch #39:\n",
      "train_loss: 1.2122599252228095; val_loss: 1.22137647165403!\n",
      "f1: 0.696500143232\n",
      "recall: 0.7421663775198696\n",
      "precision: 0.6681380581134232\n",
      "auprc: 0.5850676839581125\n",
      "aucroc: 0.7790767151924948\n",
      "accuracy: 0.7907881933181966\n"
     ]
    },
    {
     "name": "stderr",
     "output_type": "stream",
     "text": [
      "sampling: 100%|██████████| 6433/6433 [00:00<00:00, 23741.13it/s]\n",
      "training epoch 40: 100%|██████████| 386/386 [00:04<00:00, 84.52it/s]\n",
      "sampling: 100%|██████████| 2056/2056 [00:00<00:00, 25404.30it/s]\n",
      "evaluating: 100%|██████████| 124/124 [00:01<00:00, 86.20it/s]\n"
     ]
    },
    {
     "name": "stdout",
     "output_type": "stream",
     "text": [
      "epoch #40:\n",
      "train_loss: 1.212702164682334; val_loss: 1.2253069196428572!\n",
      "f1: 0.6822237794957101\n",
      "recall: 0.7247340619406701\n",
      "precision: 0.6567030387657754\n",
      "auprc: 0.5712552606404343\n",
      "aucroc: 0.7675853960604818\n",
      "accuracy: 0.7812550672936598\n"
     ]
    },
    {
     "name": "stderr",
     "output_type": "stream",
     "text": [
      "sampling: 100%|██████████| 6433/6433 [00:00<00:00, 23646.98it/s]\n",
      "training epoch 41: 100%|██████████| 386/386 [00:04<00:00, 86.27it/s]\n",
      "sampling: 100%|██████████| 2056/2056 [00:00<00:00, 24946.45it/s]\n",
      "evaluating: 100%|██████████| 124/124 [00:01<00:00, 85.79it/s]\n"
     ]
    },
    {
     "name": "stdout",
     "output_type": "stream",
     "text": [
      "epoch #41:\n",
      "train_loss: 1.2125170637825162; val_loss: 1.2231922746574508!\n",
      "f1: 0.6899307026960101\n",
      "recall: 0.7082024209361224\n",
      "precision: 0.6829106385827388\n",
      "auprc: 0.5851408192118654\n",
      "aucroc: 0.7723236399203585\n",
      "accuracy: 0.793416572077185\n"
     ]
    },
    {
     "name": "stderr",
     "output_type": "stream",
     "text": [
      "sampling: 100%|██████████| 6433/6433 [00:00<00:00, 24136.09it/s]\n",
      "training epoch 42: 100%|██████████| 386/386 [00:04<00:00, 84.38it/s]\n",
      "sampling: 100%|██████████| 2056/2056 [00:00<00:00, 25623.66it/s]\n",
      "evaluating: 100%|██████████| 124/124 [00:01<00:00, 86.93it/s]\n"
     ]
    },
    {
     "name": "stdout",
     "output_type": "stream",
     "text": [
      "epoch #42:\n",
      "train_loss: 1.2124587675860192; val_loss: 1.21974754426281!\n",
      "f1: 0.6929673655007322\n",
      "recall: 0.7376917665600423\n",
      "precision: 0.6652572365749237\n",
      "auprc: 0.582535907138185\n",
      "aucroc: 0.7758246730286276\n",
      "accuracy: 0.7879033565753203\n"
     ]
    },
    {
     "name": "stderr",
     "output_type": "stream",
     "text": [
      "sampling: 100%|██████████| 6433/6433 [00:00<00:00, 24219.18it/s]\n",
      "training epoch 43: 100%|██████████| 386/386 [00:04<00:00, 86.23it/s]\n",
      "sampling: 100%|██████████| 2056/2056 [00:00<00:00, 25273.93it/s]\n",
      "evaluating: 100%|██████████| 124/124 [00:01<00:00, 86.38it/s]\n"
     ]
    },
    {
     "name": "stdout",
     "output_type": "stream",
     "text": [
      "epoch #43:\n",
      "train_loss: 1.210942864337721; val_loss: 1.221766688325835!\n",
      "f1: 0.689268224657434\n",
      "recall: 0.7599608433592412\n",
      "precision: 0.6412336209884092\n",
      "auprc: 0.5696552297732379\n",
      "aucroc: 0.7734389334757453\n",
      "accuracy: 0.7777237354085603\n"
     ]
    },
    {
     "name": "stderr",
     "output_type": "stream",
     "text": [
      "sampling: 100%|██████████| 6433/6433 [00:00<00:00, 23934.94it/s]\n",
      "training epoch 44: 100%|██████████| 386/386 [00:04<00:00, 86.92it/s]\n",
      "sampling: 100%|██████████| 2056/2056 [00:00<00:00, 25605.10it/s]\n",
      "evaluating: 100%|██████████| 124/124 [00:01<00:00, 84.72it/s]\n"
     ]
    },
    {
     "name": "stdout",
     "output_type": "stream",
     "text": [
      "epoch #44:\n",
      "train_loss: 1.2117895316791025; val_loss: 1.221151191127594!\n",
      "f1: 0.6928348501362852\n",
      "recall: 0.7466055441399806\n",
      "precision: 0.658203531015598\n",
      "auprc: 0.5798025578683581\n",
      "aucroc: 0.7764512546830243\n",
      "accuracy: 0.7863164721141375\n"
     ]
    },
    {
     "name": "stderr",
     "output_type": "stream",
     "text": [
      "sampling: 100%|██████████| 6433/6433 [00:00<00:00, 23740.35it/s]\n",
      "training epoch 45: 100%|██████████| 386/386 [00:04<00:00, 84.40it/s]\n",
      "sampling: 100%|██████████| 2056/2056 [00:00<00:00, 24247.80it/s]\n",
      "evaluating: 100%|██████████| 124/124 [00:01<00:00, 82.40it/s]\n"
     ]
    },
    {
     "name": "stdout",
     "output_type": "stream",
     "text": [
      "epoch #45:\n",
      "train_loss: 1.2119204902500649; val_loss: 1.2176766995480708!\n",
      "f1: 0.7026105709944565\n",
      "recall: 0.7466957013772981\n",
      "precision: 0.6740736001310277\n",
      "auprc: 0.5911332247150913\n",
      "aucroc: 0.7823130981438658\n",
      "accuracy: 0.7940985732814526\n"
     ]
    },
    {
     "name": "stderr",
     "output_type": "stream",
     "text": [
      "sampling: 100%|██████████| 6433/6433 [00:00<00:00, 23239.09it/s]\n",
      "training epoch 46: 100%|██████████| 386/386 [00:04<00:00, 83.70it/s]\n",
      "sampling: 100%|██████████| 2056/2056 [00:00<00:00, 24925.04it/s]\n",
      "evaluating: 100%|██████████| 124/124 [00:01<00:00, 83.05it/s]\n"
     ]
    },
    {
     "name": "stdout",
     "output_type": "stream",
     "text": [
      "epoch #46:\n",
      "train_loss: 1.210471838888745; val_loss: 1.222215071107936!\n",
      "f1: 0.6926027315926298\n",
      "recall: 0.7263380327550826\n",
      "precision: 0.6747119477676519\n",
      "auprc: 0.5833469121663539\n",
      "aucroc: 0.7744683802185554\n",
      "accuracy: 0.7892347600518806\n"
     ]
    },
    {
     "name": "stderr",
     "output_type": "stream",
     "text": [
      "sampling: 100%|██████████| 6433/6433 [00:00<00:00, 23188.26it/s]\n",
      "training epoch 47: 100%|██████████| 386/386 [00:04<00:00, 83.81it/s]\n",
      "sampling: 100%|██████████| 2056/2056 [00:00<00:00, 24243.92it/s]\n",
      "evaluating: 100%|██████████| 124/124 [00:01<00:00, 81.98it/s]\n"
     ]
    },
    {
     "name": "stdout",
     "output_type": "stream",
     "text": [
      "epoch #47:\n",
      "train_loss: 1.210446612491579; val_loss: 1.2218991646566402!\n",
      "f1: 0.6901947700155426\n",
      "recall: 0.7218111882883566\n",
      "precision: 0.6738519239344523\n",
      "auprc: 0.5851876585667521\n",
      "aucroc: 0.7738482833808933\n",
      "accuracy: 0.7900113507377979\n"
     ]
    },
    {
     "name": "stderr",
     "output_type": "stream",
     "text": [
      "sampling: 100%|██████████| 6433/6433 [00:00<00:00, 23764.59it/s]\n",
      "training epoch 48: 100%|██████████| 386/386 [00:04<00:00, 84.05it/s]\n",
      "sampling: 100%|██████████| 2056/2056 [00:00<00:00, 24847.54it/s]\n",
      "evaluating: 100%|██████████| 124/124 [00:01<00:00, 78.90it/s]\n"
     ]
    },
    {
     "name": "stdout",
     "output_type": "stream",
     "text": [
      "epoch #48:\n",
      "train_loss: 1.2109165487187128; val_loss: 1.220887764512729!\n",
      "f1: 0.6938133209939087\n",
      "recall: 0.7199279269502414\n",
      "precision: 0.6807205954053467\n",
      "auprc: 0.5876888075713206\n",
      "aucroc: 0.7756490147906178\n",
      "accuracy: 0.795362412842549\n"
     ]
    },
    {
     "name": "stderr",
     "output_type": "stream",
     "text": [
      "sampling: 100%|██████████| 6433/6433 [00:00<00:00, 23212.32it/s]\n",
      "training epoch 49: 100%|██████████| 386/386 [00:04<00:00, 86.14it/s]\n",
      "sampling: 100%|██████████| 2056/2056 [00:00<00:00, 24707.79it/s]\n",
      "evaluating: 100%|██████████| 124/124 [00:01<00:00, 80.65it/s]\n"
     ]
    },
    {
     "name": "stdout",
     "output_type": "stream",
     "text": [
      "epoch #49:\n",
      "train_loss: 1.2092026821108406; val_loss: 1.222244861564426!\n",
      "f1: 0.691309156607073\n",
      "recall: 0.7162634213239166\n",
      "precision: 0.6808660313501169\n",
      "auprc: 0.5857700581170731\n",
      "aucroc: 0.7737805054717878\n",
      "accuracy: 0.7928965293545248\n"
     ]
    }
   ],
   "source": [
    "ConvTranModel = TemporalConvTran(config, num_classes=config['num_labels'])\n",
    "optimizer = RAdam(ConvTranModel.parameters(), lr=config['lr'], weight_decay=0)\n",
    "#pos_weight = torch.tensor([0.5]).to(device)\n",
    "#criterion = nn.BCEWithLogitsLoss(pos_weight=pos_weight)\n",
    "criterion = nn.CrossEntropyLoss()\n",
    "#criterion = get_loss_module()\n",
    "print(sum(p.numel() for p in ConvTranModel.parameters()))\n",
    "\n",
    "ConvTranModel.to(device)\n",
    "\n",
    "num_epochs = 50\n",
    "train_losses = []\n",
    "val_losses = []\n",
    "for epoch in range(num_epochs):\n",
    "    \n",
    "    batch_size = 50\n",
    "    file_path = Path('/kaggle/input/california-spatial-temporal-fire-dataset/numpy_california_spatialtemporal_dataset.npy')\n",
    "    train_numpy_array = np.load(file_path)[:,:,:700,:]\n",
    "    train_dataloader = temporal_dataloader(train_numpy_array, sequence_length, batch_size, radius = 0, train_or_test = True, pin_memory = False, num_workers=0)\n",
    "    loss, samples = train(ConvTranModel, train_dataloader, optimizer, criterion, device, epoch)\n",
    "    del train_numpy_array\n",
    "    del train_dataloader\n",
    "    #checkpoint_path = f'/kaggle/output/model_checkpoints/model_checkpoint_epoch_{epoch}.pt'\n",
    "    #torch.save(ConvTranModel.state_dict(), checkpoint_path)\n",
    "    train_losses.append(loss.item()/samples)\n",
    "    \n",
    "    batch_size = 50\n",
    "    val_numpy_array = np.load(file_path)[:,:,700:,:]\n",
    "    val_dataloader = temporal_dataloader(val_numpy_array, sequence_length, batch_size, radius = 0, train_or_test = True, pin_memory = False, num_workers=0)\n",
    "    f1, recall, precision, auprc, aucroc, accuracy, samples, loss, loss_samples = evaluate_model(ConvTranModel, val_dataloader, criterion, device)\n",
    "    del val_numpy_array\n",
    "    del val_dataloader\n",
    "    \n",
    "    val_losses.append(loss.item()/loss_samples)\n",
    "    \n",
    "    print(f'epoch #{epoch}:')\n",
    "    print(f'train_loss: {train_losses[epoch]}; val_loss: {val_losses[epoch]}!')\n",
    "    print(f'f1: {f1/samples}')\n",
    "    print(f'recall: {recall/samples}')\n",
    "    print(f'precision: {precision/samples}')\n",
    "    print(f'auprc: {auprc/samples}')\n",
    "    print(f'aucroc: {aucroc/samples}')\n",
    "    print(f'accuracy: {accuracy/samples}')"
   ]
  },
  {
   "cell_type": "code",
   "execution_count": 10,
   "id": "191c481a",
   "metadata": {
    "collapsed": true,
    "execution": {
     "iopub.execute_input": "2023-10-30T01:47:43.897776Z",
     "iopub.status.busy": "2023-10-30T01:47:43.896975Z",
     "iopub.status.idle": "2023-10-30T01:54:33.092464Z",
     "shell.execute_reply": "2023-10-30T01:54:33.091389Z"
    },
    "jupyter": {
     "outputs_hidden": true
    },
    "papermill": {
     "duration": 409.470275,
     "end_time": "2023-10-30T01:54:33.094608",
     "exception": false,
     "start_time": "2023-10-30T01:47:43.624333",
     "status": "completed"
    },
    "tags": []
   },
   "outputs": [
    {
     "name": "stderr",
     "output_type": "stream",
     "text": [
      "sampling: 100%|██████████| 6433/6433 [00:00<00:00, 23675.49it/s]\n",
      "training epoch 50: 100%|██████████| 386/386 [00:04<00:00, 85.92it/s]\n",
      "sampling: 100%|██████████| 2056/2056 [00:00<00:00, 25077.10it/s]\n",
      "evaluating: 100%|██████████| 124/124 [00:01<00:00, 84.46it/s]\n"
     ]
    },
    {
     "name": "stdout",
     "output_type": "stream",
     "text": [
      "epoch #50:\n",
      "train_loss: 1.210536591665803; val_loss: 1.2196370139198556!\n",
      "f1: 0.7003449676696054\n",
      "recall: 0.7610371017587431\n",
      "precision: 0.662722663764435\n",
      "auprc: 0.5868447044844936\n",
      "aucroc: 0.7845442504333819\n",
      "accuracy: 0.7895248905464569\n"
     ]
    },
    {
     "name": "stderr",
     "output_type": "stream",
     "text": [
      "sampling: 100%|██████████| 6433/6433 [00:00<00:00, 23324.99it/s]\n",
      "training epoch 51: 100%|██████████| 386/386 [00:04<00:00, 85.54it/s]\n",
      "sampling: 100%|██████████| 2056/2056 [00:00<00:00, 24862.80it/s]\n",
      "evaluating: 100%|██████████| 124/124 [00:01<00:00, 84.18it/s]\n"
     ]
    },
    {
     "name": "stdout",
     "output_type": "stream",
     "text": [
      "epoch #51:\n",
      "train_loss: 1.209321923420739; val_loss: 1.2171701315002836!\n",
      "f1: 0.7070323887593076\n",
      "recall: 0.7595078783107799\n",
      "precision: 0.6692585547736788\n",
      "auprc: 0.592083648384136\n",
      "aucroc: 0.785725799347442\n",
      "accuracy: 0.7955577172503242\n"
     ]
    },
    {
     "name": "stderr",
     "output_type": "stream",
     "text": [
      "sampling: 100%|██████████| 6433/6433 [00:00<00:00, 23689.04it/s]\n",
      "training epoch 52: 100%|██████████| 386/386 [00:04<00:00, 84.63it/s]\n",
      "sampling: 100%|██████████| 2056/2056 [00:00<00:00, 22401.58it/s]\n",
      "evaluating: 100%|██████████| 124/124 [00:01<00:00, 83.82it/s]\n"
     ]
    },
    {
     "name": "stdout",
     "output_type": "stream",
     "text": [
      "epoch #52:\n",
      "train_loss: 1.2098429281855632; val_loss: 1.2204546303755268!\n",
      "f1: 0.6940196248383658\n",
      "recall: 0.7168085001303675\n",
      "precision: 0.6834280253874041\n",
      "auprc: 0.5880623948711334\n",
      "aucroc: 0.7753372374140894\n",
      "accuracy: 0.7952334630350194\n"
     ]
    },
    {
     "name": "stderr",
     "output_type": "stream",
     "text": [
      "sampling: 100%|██████████| 6433/6433 [00:00<00:00, 23667.30it/s]\n",
      "training epoch 53: 100%|██████████| 386/386 [00:04<00:00, 86.07it/s]\n",
      "sampling: 100%|██████████| 2056/2056 [00:00<00:00, 23727.60it/s]\n",
      "evaluating: 100%|██████████| 124/124 [00:01<00:00, 86.91it/s]\n"
     ]
    },
    {
     "name": "stdout",
     "output_type": "stream",
     "text": [
      "epoch #53:\n",
      "train_loss: 1.2096671945437587; val_loss: 1.2190972222222223!\n",
      "f1: 0.695619092810665\n",
      "recall: 0.7553976798211007\n",
      "precision: 0.6540388983828223\n",
      "auprc: 0.5794763967874696\n",
      "aucroc: 0.7792250140788463\n",
      "accuracy: 0.7876723438767235\n"
     ]
    },
    {
     "name": "stderr",
     "output_type": "stream",
     "text": [
      "sampling: 100%|██████████| 6433/6433 [00:00<00:00, 23632.79it/s]\n",
      "training epoch 54: 100%|██████████| 386/386 [00:04<00:00, 86.58it/s]\n",
      "sampling: 100%|██████████| 2056/2056 [00:00<00:00, 24675.48it/s]\n",
      "evaluating: 100%|██████████| 124/124 [00:01<00:00, 84.93it/s]\n"
     ]
    },
    {
     "name": "stdout",
     "output_type": "stream",
     "text": [
      "epoch #54:\n",
      "train_loss: 1.2095506668782712; val_loss: 1.2196758186152319!\n",
      "f1: 0.6946920633645388\n",
      "recall: 0.7280263111999892\n",
      "precision: 0.6753920814345673\n",
      "auprc: 0.5865292958787631\n",
      "aucroc: 0.7762440665073985\n",
      "accuracy: 0.7916666666666666\n"
     ]
    },
    {
     "name": "stderr",
     "output_type": "stream",
     "text": [
      "sampling: 100%|██████████| 6433/6433 [00:00<00:00, 23417.41it/s]\n",
      "training epoch 55: 100%|██████████| 386/386 [00:04<00:00, 84.55it/s]\n",
      "sampling: 100%|██████████| 2056/2056 [00:00<00:00, 24100.21it/s]\n",
      "evaluating: 100%|██████████| 124/124 [00:01<00:00, 85.10it/s]\n"
     ]
    },
    {
     "name": "stdout",
     "output_type": "stream",
     "text": [
      "epoch #55:\n",
      "train_loss: 1.208036911501788; val_loss: 1.218786969413708!\n",
      "f1: 0.6977629338738046\n",
      "recall: 0.7292050378633772\n",
      "precision: 0.6816760594233003\n",
      "auprc: 0.5903142498176605\n",
      "aucroc: 0.7784333001570748\n",
      "accuracy: 0.7962062256809338\n"
     ]
    },
    {
     "name": "stderr",
     "output_type": "stream",
     "text": [
      "sampling: 100%|██████████| 6433/6433 [00:00<00:00, 24235.97it/s]\n",
      "training epoch 56: 100%|██████████| 386/386 [00:04<00:00, 83.69it/s]\n",
      "sampling: 100%|██████████| 2056/2056 [00:00<00:00, 22444.03it/s]\n",
      "evaluating: 100%|██████████| 124/124 [00:01<00:00, 85.26it/s]\n"
     ]
    },
    {
     "name": "stdout",
     "output_type": "stream",
     "text": [
      "epoch #56:\n",
      "train_loss: 1.2071265885713545; val_loss: 1.220319136063696!\n",
      "f1: 0.6953731123470507\n",
      "recall: 0.7356801376159416\n",
      "precision: 0.6694098497119745\n",
      "auprc: 0.5831668279966626\n",
      "aucroc: 0.7765537624993416\n",
      "accuracy: 0.7914369120986052\n"
     ]
    },
    {
     "name": "stderr",
     "output_type": "stream",
     "text": [
      "sampling: 100%|██████████| 6433/6433 [00:00<00:00, 23533.68it/s]\n",
      "training epoch 57: 100%|██████████| 386/386 [00:04<00:00, 84.61it/s]\n",
      "sampling: 100%|██████████| 2056/2056 [00:00<00:00, 24937.51it/s]\n",
      "evaluating: 100%|██████████| 124/124 [00:01<00:00, 85.50it/s]\n"
     ]
    },
    {
     "name": "stdout",
     "output_type": "stream",
     "text": [
      "epoch #57:\n",
      "train_loss: 1.208447536372234; val_loss: 1.2197809743765207!\n",
      "f1: 0.6912583743715924\n",
      "recall: 0.7427922151899674\n",
      "precision: 0.6588685501905618\n",
      "auprc: 0.5788384677085046\n",
      "aucroc: 0.776979208802663\n",
      "accuracy: 0.7897810218978102\n"
     ]
    },
    {
     "name": "stderr",
     "output_type": "stream",
     "text": [
      "sampling: 100%|██████████| 6433/6433 [00:00<00:00, 24101.62it/s]\n",
      "training epoch 58: 100%|██████████| 386/386 [00:04<00:00, 86.77it/s]\n",
      "sampling: 100%|██████████| 2056/2056 [00:00<00:00, 25789.49it/s]\n",
      "evaluating: 100%|██████████| 124/124 [00:01<00:00, 85.29it/s]\n"
     ]
    },
    {
     "name": "stdout",
     "output_type": "stream",
     "text": [
      "epoch #58:\n",
      "train_loss: 1.208099213405628; val_loss: 1.218764249452821!\n",
      "f1: 0.6971599083030765\n",
      "recall: 0.7369969710335122\n",
      "precision: 0.6729593771697766\n",
      "auprc: 0.5895720105753387\n",
      "aucroc: 0.7794263250847967\n",
      "accuracy: 0.7953955901426718\n"
     ]
    },
    {
     "name": "stderr",
     "output_type": "stream",
     "text": [
      "sampling: 100%|██████████| 6433/6433 [00:00<00:00, 23486.28it/s]\n",
      "training epoch 59: 100%|██████████| 386/386 [00:04<00:00, 86.81it/s]\n",
      "sampling: 100%|██████████| 2056/2056 [00:00<00:00, 24866.03it/s]\n",
      "evaluating: 100%|██████████| 124/124 [00:01<00:00, 81.91it/s]\n"
     ]
    },
    {
     "name": "stdout",
     "output_type": "stream",
     "text": [
      "epoch #59:\n",
      "train_loss: 1.2086521737018034; val_loss: 1.2219865257174125!\n",
      "f1: 0.690255996034514\n",
      "recall: 0.7266271453908009\n",
      "precision: 0.6683273357770257\n",
      "auprc: 0.5802419385580728\n",
      "aucroc: 0.7736057497954608\n",
      "accuracy: 0.7884241245136187\n"
     ]
    },
    {
     "name": "stderr",
     "output_type": "stream",
     "text": [
      "sampling: 100%|██████████| 6433/6433 [00:00<00:00, 23298.23it/s]\n",
      "training epoch 60: 100%|██████████| 386/386 [00:04<00:00, 83.30it/s]\n",
      "sampling: 100%|██████████| 2056/2056 [00:00<00:00, 25460.78it/s]\n",
      "evaluating: 100%|██████████| 124/124 [00:01<00:00, 84.77it/s]\n"
     ]
    },
    {
     "name": "stdout",
     "output_type": "stream",
     "text": [
      "epoch #60:\n",
      "train_loss: 1.2081534668778504; val_loss: 1.21831128321611!\n",
      "f1: 0.7008924259805857\n",
      "recall: 0.7416301230085599\n",
      "precision: 0.6763358907972341\n",
      "auprc: 0.5916072005732941\n",
      "aucroc: 0.7829014579814046\n",
      "accuracy: 0.7964974866223448\n"
     ]
    },
    {
     "name": "stderr",
     "output_type": "stream",
     "text": [
      "sampling: 100%|██████████| 6433/6433 [00:00<00:00, 23668.84it/s]\n",
      "training epoch 61: 100%|██████████| 386/386 [00:04<00:00, 84.97it/s]\n",
      "sampling: 100%|██████████| 2056/2056 [00:00<00:00, 25222.99it/s]\n",
      "evaluating: 100%|██████████| 124/124 [00:01<00:00, 83.97it/s]\n"
     ]
    },
    {
     "name": "stdout",
     "output_type": "stream",
     "text": [
      "epoch #61:\n",
      "train_loss: 1.2073525029797378; val_loss: 1.219247544896222!\n",
      "f1: 0.6988503041035165\n",
      "recall: 0.7277996401473776\n",
      "precision: 0.6835202938281355\n",
      "auprc: 0.5924268807892358\n",
      "aucroc: 0.7791056158365622\n",
      "accuracy: 0.7960110264310037\n"
     ]
    },
    {
     "name": "stderr",
     "output_type": "stream",
     "text": [
      "sampling: 100%|██████████| 6433/6433 [00:00<00:00, 23890.33it/s]\n",
      "training epoch 62: 100%|██████████| 386/386 [00:04<00:00, 84.76it/s]\n",
      "sampling: 100%|██████████| 2056/2056 [00:00<00:00, 24425.83it/s]\n",
      "evaluating: 100%|██████████| 124/124 [00:01<00:00, 83.28it/s]\n"
     ]
    },
    {
     "name": "stdout",
     "output_type": "stream",
     "text": [
      "epoch #62:\n",
      "train_loss: 1.207442237130162; val_loss: 1.2189851159715468!\n",
      "f1: 0.69382604525743\n",
      "recall: 0.7448754397443396\n",
      "precision: 0.659111314795856\n",
      "auprc: 0.5797523613421054\n",
      "aucroc: 0.7764751269332717\n",
      "accuracy: 0.7872892347600519\n"
     ]
    },
    {
     "name": "stderr",
     "output_type": "stream",
     "text": [
      "sampling: 100%|██████████| 6433/6433 [00:00<00:00, 23198.41it/s]\n",
      "training epoch 63: 100%|██████████| 386/386 [00:04<00:00, 84.41it/s]\n",
      "sampling: 100%|██████████| 2056/2056 [00:00<00:00, 24101.89it/s]\n",
      "evaluating: 100%|██████████| 124/124 [00:01<00:00, 82.65it/s]\n"
     ]
    },
    {
     "name": "stdout",
     "output_type": "stream",
     "text": [
      "epoch #63:\n",
      "train_loss: 1.2082743961485647; val_loss: 1.2213765208215097!\n",
      "f1: 0.6913744425828129\n",
      "recall: 0.7260507649672866\n",
      "precision: 0.6703036770839078\n",
      "auprc: 0.5822988491851602\n",
      "aucroc: 0.7745017013666156\n",
      "accuracy: 0.7901735041349116\n"
     ]
    },
    {
     "name": "stderr",
     "output_type": "stream",
     "text": [
      "sampling: 100%|██████████| 6433/6433 [00:00<00:00, 23270.70it/s]\n",
      "training epoch 64: 100%|██████████| 386/386 [00:04<00:00, 81.06it/s]\n",
      "sampling: 100%|██████████| 2056/2056 [00:00<00:00, 24861.51it/s]\n",
      "evaluating: 100%|██████████| 124/124 [00:01<00:00, 82.44it/s]\n"
     ]
    },
    {
     "name": "stdout",
     "output_type": "stream",
     "text": [
      "epoch #64:\n",
      "train_loss: 1.2084671242680969; val_loss: 1.2167326732986787!\n",
      "f1: 0.7047187007799128\n",
      "recall: 0.7472497242295381\n",
      "precision: 0.6767533660510111\n",
      "auprc: 0.5929449750040623\n",
      "aucroc: 0.7846046323707643\n",
      "accuracy: 0.7963683527885862\n"
     ]
    },
    {
     "name": "stderr",
     "output_type": "stream",
     "text": [
      "sampling: 100%|██████████| 6433/6433 [00:00<00:00, 23404.26it/s]\n",
      "training epoch 65: 100%|██████████| 386/386 [00:04<00:00, 82.66it/s]\n",
      "sampling: 100%|██████████| 2056/2056 [00:00<00:00, 24768.18it/s]\n",
      "evaluating: 100%|██████████| 124/124 [00:01<00:00, 79.52it/s]\n"
     ]
    },
    {
     "name": "stdout",
     "output_type": "stream",
     "text": [
      "epoch #65:\n",
      "train_loss: 1.2079664181521401; val_loss: 1.2193756301424692!\n",
      "f1: 0.6960992315673941\n",
      "recall: 0.7720551745330678\n",
      "precision: 0.6437636248582908\n",
      "auprc: 0.575642367095688\n",
      "aucroc: 0.7795964222092541\n",
      "accuracy: 0.7825875486381323\n"
     ]
    },
    {
     "name": "stderr",
     "output_type": "stream",
     "text": [
      "sampling: 100%|██████████| 6433/6433 [00:00<00:00, 23370.71it/s]\n",
      "training epoch 66: 100%|██████████| 386/386 [00:04<00:00, 84.11it/s]\n",
      "sampling: 100%|██████████| 2056/2056 [00:00<00:00, 24183.75it/s]\n",
      "evaluating: 100%|██████████| 124/124 [00:01<00:00, 84.43it/s]\n"
     ]
    },
    {
     "name": "stdout",
     "output_type": "stream",
     "text": [
      "epoch #66:\n",
      "train_loss: 1.2072742394359812; val_loss: 1.2196331039639092!\n",
      "f1: 0.6943844806119733\n",
      "recall: 0.7411523586513912\n",
      "precision: 0.6643066618771793\n",
      "auprc: 0.582525012934601\n",
      "aucroc: 0.7772317588365664\n",
      "accuracy: 0.7891321978913219\n"
     ]
    },
    {
     "name": "stderr",
     "output_type": "stream",
     "text": [
      "sampling: 100%|██████████| 6433/6433 [00:00<00:00, 23427.57it/s]\n",
      "training epoch 67: 100%|██████████| 386/386 [00:04<00:00, 83.30it/s]\n",
      "sampling: 100%|██████████| 2056/2056 [00:00<00:00, 23703.28it/s]\n",
      "evaluating: 100%|██████████| 124/124 [00:01<00:00, 81.87it/s]\n"
     ]
    },
    {
     "name": "stdout",
     "output_type": "stream",
     "text": [
      "epoch #67:\n",
      "train_loss: 1.2075286409748134; val_loss: 1.2196911763588278!\n",
      "f1: 0.6980112145174171\n",
      "recall: 0.7484135921805084\n",
      "precision: 0.6626210365760901\n",
      "auprc: 0.5834993941209007\n",
      "aucroc: 0.7797157590185211\n",
      "accuracy: 0.7905317769130998\n"
     ]
    },
    {
     "name": "stderr",
     "output_type": "stream",
     "text": [
      "sampling: 100%|██████████| 6433/6433 [00:00<00:00, 21687.43it/s]\n",
      "training epoch 68: 100%|██████████| 386/386 [00:04<00:00, 79.83it/s]\n",
      "sampling: 100%|██████████| 2056/2056 [00:00<00:00, 24911.64it/s]\n",
      "evaluating: 100%|██████████| 124/124 [00:01<00:00, 74.17it/s]\n"
     ]
    },
    {
     "name": "stdout",
     "output_type": "stream",
     "text": [
      "epoch #68:\n",
      "train_loss: 1.2065056733534563; val_loss: 1.2189334816179451!\n",
      "f1: 0.6951232667672628\n",
      "recall: 0.7482705338093111\n",
      "precision: 0.6616414284492438\n",
      "auprc: 0.5814596188478048\n",
      "aucroc: 0.7781815793886746\n",
      "accuracy: 0.7873824197210509\n"
     ]
    },
    {
     "name": "stderr",
     "output_type": "stream",
     "text": [
      "sampling: 100%|██████████| 6433/6433 [00:00<00:00, 23306.14it/s]\n",
      "training epoch 69: 100%|██████████| 386/386 [00:04<00:00, 84.03it/s]\n",
      "sampling: 100%|██████████| 2056/2056 [00:00<00:00, 24910.56it/s]\n",
      "evaluating: 100%|██████████| 124/124 [00:01<00:00, 80.57it/s]\n"
     ]
    },
    {
     "name": "stdout",
     "output_type": "stream",
     "text": [
      "epoch #69:\n",
      "train_loss: 1.206275968800197; val_loss: 1.219353739255595!\n",
      "f1: 0.6963729038949381\n",
      "recall: 0.7359895114515507\n",
      "precision: 0.6708582956298769\n",
      "auprc: 0.5850556166084574\n",
      "aucroc: 0.7781148393403486\n",
      "accuracy: 0.7927343496594227\n"
     ]
    },
    {
     "name": "stderr",
     "output_type": "stream",
     "text": [
      "sampling: 100%|██████████| 6433/6433 [00:00<00:00, 23474.49it/s]\n",
      "training epoch 70: 100%|██████████| 386/386 [00:04<00:00, 83.26it/s]\n",
      "sampling: 100%|██████████| 2056/2056 [00:00<00:00, 21098.25it/s]\n",
      "evaluating: 100%|██████████| 124/124 [00:01<00:00, 85.34it/s]\n"
     ]
    },
    {
     "name": "stdout",
     "output_type": "stream",
     "text": [
      "epoch #70:\n",
      "train_loss: 1.2068551469064153; val_loss: 1.220596095776589!\n",
      "f1: 0.6918384292131421\n",
      "recall: 0.745851248625051\n",
      "precision: 0.6549713844877436\n",
      "auprc: 0.5767821968341011\n",
      "aucroc: 0.7744882783577722\n",
      "accuracy: 0.7843709468223087\n"
     ]
    },
    {
     "name": "stderr",
     "output_type": "stream",
     "text": [
      "sampling: 100%|██████████| 6433/6433 [00:00<00:00, 23776.40it/s]\n",
      "training epoch 71: 100%|██████████| 386/386 [00:04<00:00, 86.19it/s]\n",
      "sampling: 100%|██████████| 2056/2056 [00:00<00:00, 24692.30it/s]\n",
      "evaluating: 100%|██████████| 124/124 [00:01<00:00, 83.58it/s]\n"
     ]
    },
    {
     "name": "stdout",
     "output_type": "stream",
     "text": [
      "epoch #71:\n",
      "train_loss: 1.2060007855014252; val_loss: 1.220021225901111!\n",
      "f1: 0.6950806112841837\n",
      "recall: 0.7228990104537771\n",
      "precision: 0.6795627478583198\n",
      "auprc: 0.5867911400572131\n",
      "aucroc: 0.7765025833822118\n",
      "accuracy: 0.795004865390853\n"
     ]
    },
    {
     "name": "stderr",
     "output_type": "stream",
     "text": [
      "sampling: 100%|██████████| 6433/6433 [00:00<00:00, 21495.47it/s]\n",
      "training epoch 72: 100%|██████████| 386/386 [00:04<00:00, 85.12it/s]\n",
      "sampling: 100%|██████████| 2056/2056 [00:00<00:00, 24515.82it/s]\n",
      "evaluating: 100%|██████████| 124/124 [00:01<00:00, 84.38it/s]\n"
     ]
    },
    {
     "name": "stdout",
     "output_type": "stream",
     "text": [
      "epoch #72:\n",
      "train_loss: 1.206204982381594; val_loss: 1.2195458319400534!\n",
      "f1: 0.6988053260027044\n",
      "recall: 0.7336268308430502\n",
      "precision: 0.6765036335207484\n",
      "auprc: 0.5886799002056722\n",
      "aucroc: 0.7785021959979934\n",
      "accuracy: 0.7944228274967574\n"
     ]
    },
    {
     "name": "stderr",
     "output_type": "stream",
     "text": [
      "sampling: 100%|██████████| 6433/6433 [00:00<00:00, 23570.57it/s]\n",
      "training epoch 73: 100%|██████████| 386/386 [00:04<00:00, 86.20it/s]\n",
      "sampling: 100%|██████████| 2056/2056 [00:00<00:00, 24973.25it/s]\n",
      "evaluating: 100%|██████████| 124/124 [00:01<00:00, 84.83it/s]\n"
     ]
    },
    {
     "name": "stdout",
     "output_type": "stream",
     "text": [
      "epoch #73:\n",
      "train_loss: 1.206003880745414; val_loss: 1.2175983783393465!\n",
      "f1: 0.7033504298182818\n",
      "recall: 0.735918536868664\n",
      "precision: 0.6858033509128721\n",
      "auprc: 0.5951156686760986\n",
      "aucroc: 0.7830660349458844\n",
      "accuracy: 0.7987676341819361\n"
     ]
    },
    {
     "name": "stderr",
     "output_type": "stream",
     "text": [
      "sampling: 100%|██████████| 6433/6433 [00:00<00:00, 23671.04it/s]\n",
      "training epoch 74: 100%|██████████| 386/386 [00:04<00:00, 84.58it/s]\n",
      "sampling: 100%|██████████| 2056/2056 [00:00<00:00, 23878.79it/s]\n",
      "evaluating: 100%|██████████| 124/124 [00:01<00:00, 83.13it/s]\n"
     ]
    },
    {
     "name": "stdout",
     "output_type": "stream",
     "text": [
      "epoch #74:\n",
      "train_loss: 1.2050185130907347; val_loss: 1.2184274350879682!\n",
      "f1: 0.6957525850955963\n",
      "recall: 0.7302192767340471\n",
      "precision: 0.6770739781057911\n",
      "auprc: 0.588734698105104\n",
      "aucroc: 0.7785852555762438\n",
      "accuracy: 0.794389492459867\n"
     ]
    },
    {
     "name": "stderr",
     "output_type": "stream",
     "text": [
      "sampling: 100%|██████████| 6433/6433 [00:00<00:00, 23614.17it/s]\n",
      "training epoch 75: 100%|██████████| 386/386 [00:04<00:00, 84.83it/s]\n",
      "sampling: 100%|██████████| 2056/2056 [00:00<00:00, 24044.50it/s]\n",
      "evaluating: 100%|██████████| 124/124 [00:01<00:00, 79.97it/s]\n"
     ]
    },
    {
     "name": "stdout",
     "output_type": "stream",
     "text": [
      "epoch #75:\n",
      "train_loss: 1.2065047272650702; val_loss: 1.215641956848857!\n",
      "f1: 0.6999386254669525\n",
      "recall: 0.7374416706618063\n",
      "precision: 0.6768294958939225\n",
      "auprc: 0.589745445438087\n",
      "aucroc: 0.780926124848191\n",
      "accuracy: 0.7952334630350194\n"
     ]
    },
    {
     "name": "stderr",
     "output_type": "stream",
     "text": [
      "sampling: 100%|██████████| 6433/6433 [00:00<00:00, 23197.06it/s]\n",
      "training epoch 76: 100%|██████████| 386/386 [00:04<00:00, 84.96it/s]\n",
      "sampling: 100%|██████████| 2056/2056 [00:00<00:00, 25421.67it/s]\n",
      "evaluating: 100%|██████████| 124/124 [00:01<00:00, 81.75it/s]\n"
     ]
    },
    {
     "name": "stdout",
     "output_type": "stream",
     "text": [
      "epoch #76:\n",
      "train_loss: 1.205750925404166; val_loss: 1.2176541379144374!\n",
      "f1: 0.6988683270560534\n",
      "recall: 0.720785315469565\n",
      "precision: 0.6902063985394292\n",
      "auprc: 0.5963214733276302\n",
      "aucroc: 0.7808481509665508\n",
      "accuracy: 0.8002594033722439\n"
     ]
    },
    {
     "name": "stderr",
     "output_type": "stream",
     "text": [
      "sampling: 100%|██████████| 6433/6433 [00:00<00:00, 22936.20it/s]\n",
      "training epoch 77: 100%|██████████| 386/386 [00:04<00:00, 82.81it/s]\n",
      "sampling: 100%|██████████| 2056/2056 [00:00<00:00, 25177.85it/s]\n",
      "evaluating: 100%|██████████| 124/124 [00:01<00:00, 81.20it/s]\n"
     ]
    },
    {
     "name": "stdout",
     "output_type": "stream",
     "text": [
      "epoch #77:\n",
      "train_loss: 1.206217835883252; val_loss: 1.2201184068175368!\n",
      "f1: 0.6855774318168582\n",
      "recall: 0.7215766427054671\n",
      "precision: 0.6687495031673454\n",
      "auprc: 0.5782075648478552\n",
      "aucroc: 0.7722203526617782\n",
      "accuracy: 0.7882276633695476\n"
     ]
    },
    {
     "name": "stderr",
     "output_type": "stream",
     "text": [
      "sampling: 100%|██████████| 6433/6433 [00:00<00:00, 23016.69it/s]\n",
      "training epoch 78: 100%|██████████| 386/386 [00:04<00:00, 84.02it/s]\n",
      "sampling: 100%|██████████| 2056/2056 [00:00<00:00, 24689.33it/s]\n",
      "evaluating: 100%|██████████| 124/124 [00:01<00:00, 79.69it/s]\n"
     ]
    },
    {
     "name": "stdout",
     "output_type": "stream",
     "text": [
      "epoch #78:\n",
      "train_loss: 1.2050689150106229; val_loss: 1.218493505843537!\n",
      "f1: 0.6983972372601402\n",
      "recall: 0.7427174051548092\n",
      "precision: 0.6704880097635225\n",
      "auprc: 0.5881169799676246\n",
      "aucroc: 0.7807619483174233\n",
      "accuracy: 0.7933830684398313\n"
     ]
    },
    {
     "name": "stderr",
     "output_type": "stream",
     "text": [
      "sampling: 100%|██████████| 6433/6433 [00:00<00:00, 23174.84it/s]\n",
      "training epoch 79: 100%|██████████| 386/386 [00:04<00:00, 81.89it/s]\n",
      "sampling: 100%|██████████| 2056/2056 [00:00<00:00, 24478.03it/s]\n",
      "evaluating: 100%|██████████| 124/124 [00:01<00:00, 81.56it/s]\n"
     ]
    },
    {
     "name": "stdout",
     "output_type": "stream",
     "text": [
      "epoch #79:\n",
      "train_loss: 1.2059444712534977; val_loss: 1.2199838068296984!\n",
      "f1: 0.6869429410399871\n",
      "recall: 0.6881370085480205\n",
      "precision: 0.6995764654755581\n",
      "auprc: 0.5915752705105305\n",
      "aucroc: 0.7703475042389564\n",
      "accuracy: 0.7989297875790498\n"
     ]
    },
    {
     "name": "stderr",
     "output_type": "stream",
     "text": [
      "sampling: 100%|██████████| 6433/6433 [00:00<00:00, 23305.79it/s]\n",
      "training epoch 80: 100%|██████████| 386/386 [00:04<00:00, 81.30it/s]\n",
      "sampling: 100%|██████████| 2056/2056 [00:00<00:00, 24765.05it/s]\n",
      "evaluating: 100%|██████████| 124/124 [00:01<00:00, 81.19it/s]\n"
     ]
    },
    {
     "name": "stdout",
     "output_type": "stream",
     "text": [
      "epoch #80:\n",
      "train_loss: 1.2051855240995077; val_loss: 1.2216754119709745!\n",
      "f1: 0.6903264360735822\n",
      "recall: 0.7133470539369284\n",
      "precision: 0.6809421861987279\n",
      "auprc: 0.5850178411713803\n",
      "aucroc: 0.7721175871693067\n",
      "accuracy: 0.791470731311821\n"
     ]
    },
    {
     "name": "stderr",
     "output_type": "stream",
     "text": [
      "sampling: 100%|██████████| 6433/6433 [00:00<00:00, 23376.38it/s]\n",
      "training epoch 81: 100%|██████████| 386/386 [00:04<00:00, 85.12it/s]\n",
      "sampling: 100%|██████████| 2056/2056 [00:00<00:00, 23634.87it/s]\n",
      "evaluating: 100%|██████████| 124/124 [00:01<00:00, 81.31it/s]\n"
     ]
    },
    {
     "name": "stdout",
     "output_type": "stream",
     "text": [
      "epoch #81:\n",
      "train_loss: 1.20434881529174; val_loss: 1.2179309450261515!\n",
      "f1: 0.6969533986840301\n",
      "recall: 0.736245592048319\n",
      "precision: 0.6720938918646463\n",
      "auprc: 0.5852209121725808\n",
      "aucroc: 0.7781852021544168\n",
      "accuracy: 0.7932208887447292\n"
     ]
    },
    {
     "name": "stderr",
     "output_type": "stream",
     "text": [
      "sampling: 100%|██████████| 6433/6433 [00:00<00:00, 23416.25it/s]\n",
      "training epoch 82: 100%|██████████| 386/386 [00:04<00:00, 83.10it/s]\n",
      "sampling: 100%|██████████| 2056/2056 [00:00<00:00, 24948.04it/s]\n",
      "evaluating: 100%|██████████| 124/124 [00:01<00:00, 80.96it/s]\n"
     ]
    },
    {
     "name": "stdout",
     "output_type": "stream",
     "text": [
      "epoch #82:\n",
      "train_loss: 1.203164477520083; val_loss: 1.2158920463758716!\n",
      "f1: 0.709506276069343\n",
      "recall: 0.7491504478358637\n",
      "precision: 0.6876944583450557\n",
      "auprc: 0.602478177823527\n",
      "aucroc: 0.789935301947367\n",
      "accuracy: 0.8023350089184368\n"
     ]
    },
    {
     "name": "stderr",
     "output_type": "stream",
     "text": [
      "sampling: 100%|██████████| 6433/6433 [00:00<00:00, 21510.40it/s]\n",
      "training epoch 83: 100%|██████████| 386/386 [00:04<00:00, 83.04it/s]\n",
      "sampling: 100%|██████████| 2056/2056 [00:00<00:00, 24398.25it/s]\n",
      "evaluating: 100%|██████████| 124/124 [00:01<00:00, 70.85it/s]\n"
     ]
    },
    {
     "name": "stdout",
     "output_type": "stream",
     "text": [
      "epoch #83:\n",
      "train_loss: 1.2047693373341797; val_loss: 1.2178247355301557!\n",
      "f1: 0.693672140493088\n",
      "recall: 0.7231135059902137\n",
      "precision: 0.6782513525912728\n",
      "auprc: 0.5866062912143737\n",
      "aucroc: 0.7762874286638999\n",
      "accuracy: 0.793450064850843\n"
     ]
    },
    {
     "name": "stderr",
     "output_type": "stream",
     "text": [
      "sampling: 100%|██████████| 6433/6433 [00:00<00:00, 22871.09it/s]\n",
      "training epoch 84: 100%|██████████| 386/386 [00:04<00:00, 85.07it/s]\n",
      "sampling: 100%|██████████| 2056/2056 [00:00<00:00, 25185.64it/s]\n",
      "evaluating: 100%|██████████| 124/124 [00:01<00:00, 82.69it/s]\n"
     ]
    },
    {
     "name": "stdout",
     "output_type": "stream",
     "text": [
      "epoch #84:\n",
      "train_loss: 1.2058856690136284; val_loss: 1.2190319473862898!\n",
      "f1: 0.6875531566539363\n",
      "recall: 0.6928711611002546\n",
      "precision: 0.6948224435764702\n",
      "auprc: 0.5889620229162612\n",
      "aucroc: 0.7709944835038596\n",
      "accuracy: 0.7966596400194584\n"
     ]
    },
    {
     "name": "stderr",
     "output_type": "stream",
     "text": [
      "sampling: 100%|██████████| 6433/6433 [00:00<00:00, 23453.33it/s]\n",
      "training epoch 85: 100%|██████████| 386/386 [00:04<00:00, 82.34it/s]\n",
      "sampling: 100%|██████████| 2056/2056 [00:00<00:00, 24353.74it/s]\n",
      "evaluating: 100%|██████████| 124/124 [00:01<00:00, 82.06it/s]\n"
     ]
    },
    {
     "name": "stdout",
     "output_type": "stream",
     "text": [
      "epoch #85:\n",
      "train_loss: 1.203894489552026; val_loss: 1.2195280201240273!\n",
      "f1: 0.6910787592002688\n",
      "recall: 0.7179784015110272\n",
      "precision: 0.680340383463878\n",
      "auprc: 0.5859314868592388\n",
      "aucroc: 0.7749559224968895\n",
      "accuracy: 0.791828793774319\n"
     ]
    },
    {
     "name": "stderr",
     "output_type": "stream",
     "text": [
      "sampling: 100%|██████████| 6433/6433 [00:00<00:00, 23012.92it/s]\n",
      "training epoch 86: 100%|██████████| 386/386 [00:04<00:00, 83.23it/s]\n",
      "sampling: 100%|██████████| 2056/2056 [00:00<00:00, 24350.51it/s]\n",
      "evaluating: 100%|██████████| 124/124 [00:01<00:00, 81.04it/s]\n"
     ]
    },
    {
     "name": "stdout",
     "output_type": "stream",
     "text": [
      "epoch #86:\n",
      "train_loss: 1.204860784926661; val_loss: 1.221297661063929!\n",
      "f1: 0.6886101975958405\n",
      "recall: 0.7408494764153762\n",
      "precision: 0.6554413873931758\n",
      "auprc: 0.5760013905891194\n",
      "aucroc: 0.7730644585545607\n",
      "accuracy: 0.7835252148532512\n"
     ]
    },
    {
     "name": "stderr",
     "output_type": "stream",
     "text": [
      "sampling: 100%|██████████| 6433/6433 [00:00<00:00, 22874.19it/s]\n",
      "training epoch 87: 100%|██████████| 386/386 [00:04<00:00, 80.57it/s]\n",
      "sampling: 100%|██████████| 2056/2056 [00:00<00:00, 25577.68it/s]\n",
      "evaluating: 100%|██████████| 124/124 [00:01<00:00, 80.60it/s]\n"
     ]
    },
    {
     "name": "stdout",
     "output_type": "stream",
     "text": [
      "epoch #87:\n",
      "train_loss: 1.2042567314793222; val_loss: 1.2188558417690094!\n",
      "f1: 0.6881446979476168\n",
      "recall: 0.7064534545832942\n",
      "precision: 0.6843531339500281\n",
      "auprc: 0.5859793749465702\n",
      "aucroc: 0.7715341359212479\n",
      "accuracy: 0.7929636835278858\n"
     ]
    },
    {
     "name": "stderr",
     "output_type": "stream",
     "text": [
      "sampling: 100%|██████████| 6433/6433 [00:00<00:00, 22779.87it/s]\n",
      "training epoch 88: 100%|██████████| 386/386 [00:04<00:00, 83.92it/s]\n",
      "sampling: 100%|██████████| 2056/2056 [00:00<00:00, 24722.24it/s]\n",
      "evaluating: 100%|██████████| 124/124 [00:01<00:00, 80.69it/s]\n"
     ]
    },
    {
     "name": "stdout",
     "output_type": "stream",
     "text": [
      "epoch #88:\n",
      "train_loss: 1.2036756763978131; val_loss: 1.2179251941725437!\n",
      "f1: 0.696399316457196\n",
      "recall: 0.7440379289820128\n",
      "precision: 0.6649724584037202\n",
      "auprc: 0.5840666495695277\n",
      "aucroc: 0.7775150142821322\n",
      "accuracy: 0.7895590142671854\n"
     ]
    },
    {
     "name": "stderr",
     "output_type": "stream",
     "text": [
      "sampling: 100%|██████████| 6433/6433 [00:00<00:00, 22490.34it/s]\n",
      "training epoch 89: 100%|██████████| 386/386 [00:04<00:00, 83.86it/s]\n",
      "sampling: 100%|██████████| 2056/2056 [00:00<00:00, 24292.20it/s]\n",
      "evaluating: 100%|██████████| 124/124 [00:01<00:00, 82.12it/s]\n"
     ]
    },
    {
     "name": "stdout",
     "output_type": "stream",
     "text": [
      "epoch #89:\n",
      "train_loss: 1.2043018946901394; val_loss: 1.219156096080955!\n",
      "f1: 0.6920276561419005\n",
      "recall: 0.7541722247695761\n",
      "precision: 0.651622860804844\n",
      "auprc: 0.5765323694887395\n",
      "aucroc: 0.7758525311954608\n",
      "accuracy: 0.7827144478676828\n"
     ]
    },
    {
     "name": "stderr",
     "output_type": "stream",
     "text": [
      "sampling: 100%|██████████| 6433/6433 [00:00<00:00, 23303.68it/s]\n",
      "training epoch 90: 100%|██████████| 386/386 [00:04<00:00, 82.62it/s]\n",
      "sampling: 100%|██████████| 2056/2056 [00:00<00:00, 24317.14it/s]\n",
      "evaluating: 100%|██████████| 124/124 [00:01<00:00, 81.39it/s]\n"
     ]
    },
    {
     "name": "stdout",
     "output_type": "stream",
     "text": [
      "epoch #90:\n",
      "train_loss: 1.2039779739000311; val_loss: 1.217211692404345!\n",
      "f1: 0.7004805084640249\n",
      "recall: 0.7508719587800472\n",
      "precision: 0.6649243830708425\n",
      "auprc: 0.58658081024848\n",
      "aucroc: 0.7804966407460807\n",
      "accuracy: 0.7905317769130998\n"
     ]
    },
    {
     "name": "stderr",
     "output_type": "stream",
     "text": [
      "sampling: 100%|██████████| 6433/6433 [00:00<00:00, 20606.92it/s]\n",
      "training epoch 91: 100%|██████████| 386/386 [00:04<00:00, 83.30it/s]\n",
      "sampling: 100%|██████████| 2056/2056 [00:00<00:00, 24631.57it/s]\n",
      "evaluating: 100%|██████████| 124/124 [00:01<00:00, 81.48it/s]\n"
     ]
    },
    {
     "name": "stdout",
     "output_type": "stream",
     "text": [
      "epoch #91:\n",
      "train_loss: 1.2034983781481579; val_loss: 1.2202312306207441!\n",
      "f1: 0.6913534888034576\n",
      "recall: 0.739876903139021\n",
      "precision: 0.6601146471517156\n",
      "auprc: 0.5791256991768703\n",
      "aucroc: 0.7742814366384861\n",
      "accuracy: 0.7850194552529183\n"
     ]
    },
    {
     "name": "stderr",
     "output_type": "stream",
     "text": [
      "sampling: 100%|██████████| 6433/6433 [00:00<00:00, 22942.50it/s]\n",
      "training epoch 92: 100%|██████████| 386/386 [00:04<00:00, 83.85it/s]\n",
      "sampling: 100%|██████████| 2056/2056 [00:00<00:00, 24262.68it/s]\n",
      "evaluating: 100%|██████████| 124/124 [00:01<00:00, 81.53it/s]\n"
     ]
    },
    {
     "name": "stdout",
     "output_type": "stream",
     "text": [
      "epoch #92:\n",
      "train_loss: 1.2035937216601027; val_loss: 1.219725058391091!\n",
      "f1: 0.6899510235350086\n",
      "recall: 0.7067018352969591\n",
      "precision: 0.6868634308998423\n",
      "auprc: 0.5856374955633249\n",
      "aucroc: 0.7738442166221259\n",
      "accuracy: 0.7953955901426718\n"
     ]
    },
    {
     "name": "stderr",
     "output_type": "stream",
     "text": [
      "sampling: 100%|██████████| 6433/6433 [00:00<00:00, 23051.79it/s]\n",
      "training epoch 93: 100%|██████████| 386/386 [00:04<00:00, 84.01it/s]\n",
      "sampling: 100%|██████████| 2056/2056 [00:00<00:00, 24390.59it/s]\n",
      "evaluating: 100%|██████████| 124/124 [00:01<00:00, 79.68it/s]\n"
     ]
    },
    {
     "name": "stdout",
     "output_type": "stream",
     "text": [
      "epoch #93:\n",
      "train_loss: 1.2042042999520626; val_loss: 1.2181998027555943!\n",
      "f1: 0.69706910429939\n",
      "recall: 0.729346194388419\n",
      "precision: 0.6788212199639212\n",
      "auprc: 0.5889148677534185\n",
      "aucroc: 0.7791771042059463\n",
      "accuracy: 0.794875952651208\n"
     ]
    },
    {
     "name": "stderr",
     "output_type": "stream",
     "text": [
      "sampling: 100%|██████████| 6433/6433 [00:00<00:00, 23326.25it/s]\n",
      "training epoch 94: 100%|██████████| 386/386 [00:04<00:00, 83.86it/s]\n",
      "sampling: 100%|██████████| 2056/2056 [00:00<00:00, 24751.19it/s]\n",
      "evaluating: 100%|██████████| 124/124 [00:01<00:00, 74.29it/s]\n"
     ]
    },
    {
     "name": "stdout",
     "output_type": "stream",
     "text": [
      "epoch #94:\n",
      "train_loss: 1.2040956414857231; val_loss: 1.2177648878283074!\n",
      "f1: 0.6934870244625391\n",
      "recall: 0.7212276293035399\n",
      "precision: 0.6818752093716661\n",
      "auprc: 0.5872951910692692\n",
      "aucroc: 0.7769204515749991\n",
      "accuracy: 0.7940985732814526\n"
     ]
    },
    {
     "name": "stderr",
     "output_type": "stream",
     "text": [
      "sampling: 100%|██████████| 6433/6433 [00:00<00:00, 23624.06it/s]\n",
      "training epoch 95: 100%|██████████| 386/386 [00:04<00:00, 84.03it/s]\n",
      "sampling: 100%|██████████| 2056/2056 [00:00<00:00, 24853.27it/s]\n",
      "evaluating: 100%|██████████| 124/124 [00:01<00:00, 82.41it/s]\n"
     ]
    },
    {
     "name": "stdout",
     "output_type": "stream",
     "text": [
      "epoch #95:\n",
      "train_loss: 1.2044267122156294; val_loss: 1.216959107573577!\n",
      "f1: 0.6999267045817299\n",
      "recall: 0.7531800331667536\n",
      "precision: 0.6668769505015525\n",
      "auprc: 0.5877868763371882\n",
      "aucroc: 0.7823928986259044\n",
      "accuracy: 0.7911464245175936\n"
     ]
    },
    {
     "name": "stderr",
     "output_type": "stream",
     "text": [
      "sampling: 100%|██████████| 6433/6433 [00:00<00:00, 23539.33it/s]\n",
      "training epoch 96: 100%|██████████| 386/386 [00:04<00:00, 83.32it/s]\n",
      "sampling: 100%|██████████| 2056/2056 [00:00<00:00, 25285.56it/s]\n",
      "evaluating: 100%|██████████| 124/124 [00:01<00:00, 82.51it/s]\n"
     ]
    },
    {
     "name": "stdout",
     "output_type": "stream",
     "text": [
      "epoch #96:\n",
      "train_loss: 1.2031260120343024; val_loss: 1.2164695856055385!\n",
      "f1: 0.6983603385435126\n",
      "recall: 0.7168870064478547\n",
      "precision: 0.6933783568584966\n",
      "auprc: 0.5944143444932579\n",
      "aucroc: 0.7797689115733673\n",
      "accuracy: 0.8023029516704508\n"
     ]
    },
    {
     "name": "stderr",
     "output_type": "stream",
     "text": [
      "sampling: 100%|██████████| 6433/6433 [00:00<00:00, 23821.95it/s]\n",
      "training epoch 97: 100%|██████████| 386/386 [00:04<00:00, 83.06it/s]\n",
      "sampling: 100%|██████████| 2056/2056 [00:00<00:00, 24094.42it/s]\n",
      "evaluating: 100%|██████████| 124/124 [00:01<00:00, 79.77it/s]\n"
     ]
    },
    {
     "name": "stdout",
     "output_type": "stream",
     "text": [
      "epoch #97:\n",
      "train_loss: 1.2031456465695927; val_loss: 1.218810421439142!\n",
      "f1: 0.6932927117593394\n",
      "recall: 0.7224388530627813\n",
      "precision: 0.6781329839025404\n",
      "auprc: 0.5851498539966363\n",
      "aucroc: 0.7736366869561548\n",
      "accuracy: 0.7922478105741161\n"
     ]
    },
    {
     "name": "stderr",
     "output_type": "stream",
     "text": [
      "sampling: 100%|██████████| 6433/6433 [00:00<00:00, 23276.88it/s]\n",
      "training epoch 98: 100%|██████████| 386/386 [00:04<00:00, 79.12it/s]\n",
      "sampling: 100%|██████████| 2056/2056 [00:00<00:00, 24656.79it/s]\n",
      "evaluating: 100%|██████████| 124/124 [00:01<00:00, 82.62it/s]\n"
     ]
    },
    {
     "name": "stdout",
     "output_type": "stream",
     "text": [
      "epoch #98:\n",
      "train_loss: 1.2033432957990051; val_loss: 1.219166840911395!\n",
      "f1: 0.6925029008681919\n",
      "recall: 0.7204001948164981\n",
      "precision: 0.6777524123808277\n",
      "auprc: 0.5839072469615839\n",
      "aucroc: 0.7743582302951161\n",
      "accuracy: 0.7931873479318735\n"
     ]
    },
    {
     "name": "stderr",
     "output_type": "stream",
     "text": [
      "sampling: 100%|██████████| 6433/6433 [00:00<00:00, 23566.22it/s]\n",
      "training epoch 99: 100%|██████████| 386/386 [00:04<00:00, 82.73it/s]\n",
      "sampling: 100%|██████████| 2056/2056 [00:00<00:00, 25170.43it/s]\n",
      "evaluating: 100%|██████████| 124/124 [00:01<00:00, 83.35it/s]\n"
     ]
    },
    {
     "name": "stdout",
     "output_type": "stream",
     "text": [
      "epoch #99:\n",
      "train_loss: 1.2040511605801119; val_loss: 1.2197051848548728!\n",
      "f1: 0.6911323852224927\n",
      "recall: 0.695184947848886\n",
      "precision: 0.699903813245379\n",
      "auprc: 0.5941013322743257\n",
      "aucroc: 0.7731094006592825\n",
      "accuracy: 0.7989297875790498\n"
     ]
    }
   ],
   "source": [
    "for epoch in range(50,100):\n",
    "    batch_size = 50\n",
    "    file_path = Path('/kaggle/input/california-spatial-temporal-fire-dataset/numpy_california_spatialtemporal_dataset.npy')\n",
    "    train_numpy_array = np.load(file_path)[:,:,:700,:]\n",
    "    train_dataloader = temporal_dataloader(train_numpy_array, sequence_length, batch_size, radius = 0, train_or_test = True, pin_memory = False, num_workers=0)\n",
    "    loss, samples = train(ConvTranModel, train_dataloader, optimizer, criterion, device, epoch)\n",
    "    del train_numpy_array\n",
    "    del train_dataloader\n",
    "    #checkpoint_path = f'/kaggle/output/model_checkpoints/model_checkpoint_epoch_{epoch}.pt'\n",
    "    #torch.save(ConvTranModel.state_dict(), checkpoint_path)\n",
    "    train_losses.append(loss.item()/samples)\n",
    "    \n",
    "    batch_size = 50\n",
    "    val_numpy_array = np.load(file_path)[:,:,700:,:]\n",
    "    val_dataloader = temporal_dataloader(val_numpy_array, sequence_length, batch_size, radius = 0, train_or_test = True, pin_memory = False, num_workers=0)\n",
    "    f1, recall, precision, auprc, aucroc, accuracy, samples, loss, loss_samples = evaluate_model(ConvTranModel, val_dataloader, criterion, device)\n",
    "    del val_numpy_array\n",
    "    del val_dataloader\n",
    "    \n",
    "    val_losses.append(loss.item()/loss_samples)\n",
    "    \n",
    "    print(f'epoch #{epoch}:')\n",
    "    print(f'train_loss: {train_losses[epoch]}; val_loss: {val_losses[epoch]}!')\n",
    "    print(f'f1: {f1/samples}')\n",
    "    print(f'recall: {recall/samples}')\n",
    "    print(f'precision: {precision/samples}')\n",
    "    print(f'auprc: {auprc/samples}')\n",
    "    print(f'aucroc: {aucroc/samples}')\n",
    "    print(f'accuracy: {accuracy/samples}')"
   ]
  },
  {
   "cell_type": "code",
   "execution_count": 11,
   "id": "0c0f2976",
   "metadata": {
    "execution": {
     "iopub.execute_input": "2023-10-30T01:54:34.230771Z",
     "iopub.status.busy": "2023-10-30T01:54:34.230410Z",
     "iopub.status.idle": "2023-10-30T02:01:14.180141Z",
     "shell.execute_reply": "2023-10-30T02:01:14.179184Z"
    },
    "papermill": {
     "duration": 400.493903,
     "end_time": "2023-10-30T02:01:14.182138",
     "exception": false,
     "start_time": "2023-10-30T01:54:33.688235",
     "status": "completed"
    },
    "tags": []
   },
   "outputs": [
    {
     "name": "stderr",
     "output_type": "stream",
     "text": [
      "sampling: 100%|██████████| 6433/6433 [00:00<00:00, 23797.29it/s]\n",
      "training epoch 100: 100%|██████████| 386/386 [00:04<00:00, 84.96it/s]\n",
      "sampling: 100%|██████████| 2056/2056 [00:00<00:00, 25010.99it/s]\n",
      "evaluating: 100%|██████████| 124/124 [00:01<00:00, 84.90it/s]\n"
     ]
    },
    {
     "name": "stdout",
     "output_type": "stream",
     "text": [
      "epoch #100:\n",
      "train_loss: 1.2035874463971084; val_loss: 1.224452342609674!\n",
      "f1: 0.6749461938467001\n",
      "recall: 0.7021647149348635\n",
      "precision: 0.6616256866533126\n",
      "auprc: 0.5683593168976651\n",
      "aucroc: 0.7612213849285984\n",
      "accuracy: 0.7815439506973727\n"
     ]
    },
    {
     "name": "stderr",
     "output_type": "stream",
     "text": [
      "sampling: 100%|██████████| 6433/6433 [00:00<00:00, 24058.70it/s]\n",
      "training epoch 101: 100%|██████████| 386/386 [00:04<00:00, 84.83it/s]\n",
      "sampling: 100%|██████████| 2056/2056 [00:00<00:00, 25230.45it/s]\n",
      "evaluating: 100%|██████████| 124/124 [00:01<00:00, 86.08it/s]\n"
     ]
    },
    {
     "name": "stdout",
     "output_type": "stream",
     "text": [
      "epoch #101:\n",
      "train_loss: 1.2044542789582793; val_loss: 1.219510920780642!\n",
      "f1: 0.6857521430409718\n",
      "recall: 0.7002732078358023\n",
      "precision: 0.6835375198764488\n",
      "auprc: 0.5827867655530998\n",
      "aucroc: 0.7699793471034331\n",
      "accuracy: 0.7937743190661478\n"
     ]
    },
    {
     "name": "stderr",
     "output_type": "stream",
     "text": [
      "sampling: 100%|██████████| 6433/6433 [00:00<00:00, 23607.98it/s]\n",
      "training epoch 102: 100%|██████████| 386/386 [00:04<00:00, 83.94it/s]\n",
      "sampling: 100%|██████████| 2056/2056 [00:00<00:00, 25163.89it/s]\n",
      "evaluating: 100%|██████████| 124/124 [00:01<00:00, 85.43it/s]\n"
     ]
    },
    {
     "name": "stdout",
     "output_type": "stream",
     "text": [
      "epoch #102:\n",
      "train_loss: 1.2029564700909514; val_loss: 1.2171870247871046!\n",
      "f1: 0.7000661127855387\n",
      "recall: 0.7392241430268615\n",
      "precision: 0.6757706369680754\n",
      "auprc: 0.5895663029138002\n",
      "aucroc: 0.7800603114032608\n",
      "accuracy: 0.7943227899432279\n"
     ]
    },
    {
     "name": "stderr",
     "output_type": "stream",
     "text": [
      "sampling: 100%|██████████| 6433/6433 [00:00<00:00, 23772.02it/s]\n",
      "training epoch 103: 100%|██████████| 386/386 [00:04<00:00, 85.82it/s]\n",
      "sampling: 100%|██████████| 2056/2056 [00:00<00:00, 25181.82it/s]\n",
      "evaluating: 100%|██████████| 124/124 [00:01<00:00, 84.66it/s]\n"
     ]
    },
    {
     "name": "stdout",
     "output_type": "stream",
     "text": [
      "epoch #103:\n",
      "train_loss: 1.201815967004353; val_loss: 1.2192885664581983!\n",
      "f1: 0.6935091586655314\n",
      "recall: 0.713830778720633\n",
      "precision: 0.6853425244046633\n",
      "auprc: 0.5876721412298321\n",
      "aucroc: 0.7744166767330996\n",
      "accuracy: 0.7946805060006488\n"
     ]
    },
    {
     "name": "stderr",
     "output_type": "stream",
     "text": [
      "sampling: 100%|██████████| 6433/6433 [00:00<00:00, 23810.71it/s]\n",
      "training epoch 104: 100%|██████████| 386/386 [00:04<00:00, 84.36it/s]\n",
      "sampling: 100%|██████████| 2056/2056 [00:00<00:00, 24798.74it/s]\n",
      "evaluating: 100%|██████████| 124/124 [00:01<00:00, 84.46it/s]\n"
     ]
    },
    {
     "name": "stdout",
     "output_type": "stream",
     "text": [
      "epoch #104:\n",
      "train_loss: 1.2032535416774628; val_loss: 1.2218985749280562!\n",
      "f1: 0.6854841265204006\n",
      "recall: 0.7169987936763198\n",
      "precision: 0.6679461430873287\n",
      "auprc: 0.577471474027999\n",
      "aucroc: 0.769357045603391\n",
      "accuracy: 0.7861543450064851\n"
     ]
    },
    {
     "name": "stderr",
     "output_type": "stream",
     "text": [
      "sampling: 100%|██████████| 6433/6433 [00:00<00:00, 23462.90it/s]\n",
      "training epoch 105: 100%|██████████| 386/386 [00:04<00:00, 84.98it/s]\n",
      "sampling: 100%|██████████| 2056/2056 [00:00<00:00, 25043.17it/s]\n",
      "evaluating: 100%|██████████| 124/124 [00:01<00:00, 84.40it/s]\n"
     ]
    },
    {
     "name": "stdout",
     "output_type": "stream",
     "text": [
      "epoch #105:\n",
      "train_loss: 1.2024790527672695; val_loss: 1.2193127863020918!\n",
      "f1: 0.69311302084766\n",
      "recall: 0.7255928387923353\n",
      "precision: 0.6738483422113393\n",
      "auprc: 0.5851048341365018\n",
      "aucroc: 0.7746155561608684\n",
      "accuracy: 0.7922814982973894\n"
     ]
    },
    {
     "name": "stderr",
     "output_type": "stream",
     "text": [
      "sampling: 100%|██████████| 6433/6433 [00:00<00:00, 23305.61it/s]\n",
      "training epoch 106: 100%|██████████| 386/386 [00:04<00:00, 82.42it/s]\n",
      "sampling: 100%|██████████| 2056/2056 [00:00<00:00, 25040.04it/s]\n",
      "evaluating: 100%|██████████| 124/124 [00:01<00:00, 83.75it/s]\n"
     ]
    },
    {
     "name": "stdout",
     "output_type": "stream",
     "text": [
      "epoch #106:\n",
      "train_loss: 1.2029481884456938; val_loss: 1.2184588681439517!\n",
      "f1: 0.6948644444855148\n",
      "recall: 0.7277108253815662\n",
      "precision: 0.6764259577946979\n",
      "auprc: 0.5879826772511076\n",
      "aucroc: 0.7763891075299537\n",
      "accuracy: 0.791470731311821\n"
     ]
    },
    {
     "name": "stderr",
     "output_type": "stream",
     "text": [
      "sampling: 100%|██████████| 6433/6433 [00:00<00:00, 23881.20it/s]\n",
      "training epoch 107: 100%|██████████| 386/386 [00:04<00:00, 85.86it/s]\n",
      "sampling: 100%|██████████| 2056/2056 [00:00<00:00, 25428.19it/s]\n",
      "evaluating: 100%|██████████| 124/124 [00:01<00:00, 84.13it/s]\n"
     ]
    },
    {
     "name": "stdout",
     "output_type": "stream",
     "text": [
      "epoch #107:\n",
      "train_loss: 1.2036537141154524; val_loss: 1.218466040070728!\n",
      "f1: 0.6988256488962098\n",
      "recall: 0.7595733129811199\n",
      "precision: 0.65835792325827\n",
      "auprc: 0.5820295815932816\n",
      "aucroc: 0.7806233111650943\n",
      "accuracy: 0.7871271076523995\n"
     ]
    },
    {
     "name": "stderr",
     "output_type": "stream",
     "text": [
      "sampling: 100%|██████████| 6433/6433 [00:00<00:00, 23687.35it/s]\n",
      "training epoch 108: 100%|██████████| 386/386 [00:04<00:00, 84.23it/s]\n",
      "sampling: 100%|██████████| 2056/2056 [00:00<00:00, 25395.84it/s]\n",
      "evaluating: 100%|██████████| 124/124 [00:01<00:00, 85.76it/s]\n"
     ]
    },
    {
     "name": "stdout",
     "output_type": "stream",
     "text": [
      "epoch #108:\n",
      "train_loss: 1.2027583019705135; val_loss: 1.2204492472489057!\n",
      "f1: 0.6848694060216912\n",
      "recall: 0.6970717809787341\n",
      "precision: 0.6843876208209759\n",
      "auprc: 0.5831090695465381\n",
      "aucroc: 0.7689707305732403\n",
      "accuracy: 0.794260700389105\n"
     ]
    },
    {
     "name": "stderr",
     "output_type": "stream",
     "text": [
      "sampling: 100%|██████████| 6433/6433 [00:00<00:00, 23870.30it/s]\n",
      "training epoch 109: 100%|██████████| 386/386 [00:04<00:00, 85.48it/s]\n",
      "sampling: 100%|██████████| 2056/2056 [00:00<00:00, 24727.70it/s]\n",
      "evaluating: 100%|██████████| 124/124 [00:01<00:00, 85.21it/s]\n"
     ]
    },
    {
     "name": "stdout",
     "output_type": "stream",
     "text": [
      "epoch #109:\n",
      "train_loss: 1.2030337050448257; val_loss: 1.2193864755593384!\n",
      "f1: 0.6961421462148255\n",
      "recall: 0.7059280048752227\n",
      "precision: 0.6966374326994099\n",
      "auprc: 0.5969739046539292\n",
      "aucroc: 0.7760948053617405\n",
      "accuracy: 0.8002594033722439\n"
     ]
    },
    {
     "name": "stderr",
     "output_type": "stream",
     "text": [
      "sampling: 100%|██████████| 6433/6433 [00:00<00:00, 23857.95it/s]\n",
      "training epoch 110: 100%|██████████| 386/386 [00:04<00:00, 86.46it/s]\n",
      "sampling: 100%|██████████| 2056/2056 [00:00<00:00, 25424.00it/s]\n",
      "evaluating: 100%|██████████| 124/124 [00:01<00:00, 83.77it/s]\n"
     ]
    },
    {
     "name": "stdout",
     "output_type": "stream",
     "text": [
      "epoch #110:\n",
      "train_loss: 1.2024591826325197; val_loss: 1.218249683927558!\n",
      "f1: 0.6918403887801533\n",
      "recall: 0.7156323005787748\n",
      "precision: 0.6813642670227984\n",
      "auprc: 0.5879214373485263\n",
      "aucroc: 0.774410318551361\n",
      "accuracy: 0.7940651856656397\n"
     ]
    },
    {
     "name": "stderr",
     "output_type": "stream",
     "text": [
      "sampling: 100%|██████████| 6433/6433 [00:00<00:00, 23455.84it/s]\n",
      "training epoch 111: 100%|██████████| 386/386 [00:04<00:00, 81.82it/s]\n",
      "sampling: 100%|██████████| 2056/2056 [00:00<00:00, 24330.45it/s]\n",
      "evaluating: 100%|██████████| 124/124 [00:01<00:00, 85.41it/s]\n"
     ]
    },
    {
     "name": "stdout",
     "output_type": "stream",
     "text": [
      "epoch #111:\n",
      "train_loss: 1.202282596549982; val_loss: 1.220496078548119!\n",
      "f1: 0.6907959532307854\n",
      "recall: 0.7056414393021534\n",
      "precision: 0.6880779306302134\n",
      "auprc: 0.5876529912899758\n",
      "aucroc: 0.7723028960576681\n",
      "accuracy: 0.794389492459867\n"
     ]
    },
    {
     "name": "stderr",
     "output_type": "stream",
     "text": [
      "sampling: 100%|██████████| 6433/6433 [00:00<00:00, 23650.52it/s]\n",
      "training epoch 112: 100%|██████████| 386/386 [00:04<00:00, 86.01it/s]\n",
      "sampling: 100%|██████████| 2056/2056 [00:00<00:00, 25468.45it/s]\n",
      "evaluating: 100%|██████████| 124/124 [00:01<00:00, 83.80it/s]\n"
     ]
    },
    {
     "name": "stdout",
     "output_type": "stream",
     "text": [
      "epoch #112:\n",
      "train_loss: 1.2031422054746606; val_loss: 1.2174859943711496!\n",
      "f1: 0.6953618126722051\n",
      "recall: 0.7299566540576446\n",
      "precision: 0.6756121260726351\n",
      "auprc: 0.5872699267711661\n",
      "aucroc: 0.7776344593195287\n",
      "accuracy: 0.7937743190661478\n"
     ]
    },
    {
     "name": "stderr",
     "output_type": "stream",
     "text": [
      "sampling: 100%|██████████| 6433/6433 [00:00<00:00, 23065.15it/s]\n",
      "training epoch 113: 100%|██████████| 386/386 [00:04<00:00, 86.09it/s]\n",
      "sampling: 100%|██████████| 2056/2056 [00:00<00:00, 25309.90it/s]\n",
      "evaluating: 100%|██████████| 124/124 [00:01<00:00, 85.89it/s]\n"
     ]
    },
    {
     "name": "stdout",
     "output_type": "stream",
     "text": [
      "epoch #113:\n",
      "train_loss: 1.2024756114940147; val_loss: 1.2189195718015005!\n",
      "f1: 0.691862624773918\n",
      "recall: 0.73298828950022\n",
      "precision: 0.6678835356879808\n",
      "auprc: 0.5800947789445747\n",
      "aucroc: 0.7741884230882481\n",
      "accuracy: 0.7883211678832117\n"
     ]
    },
    {
     "name": "stderr",
     "output_type": "stream",
     "text": [
      "sampling: 100%|██████████| 6433/6433 [00:00<00:00, 20745.39it/s]\n",
      "training epoch 114: 100%|██████████| 386/386 [00:04<00:00, 86.57it/s]\n",
      "sampling: 100%|██████████| 2056/2056 [00:00<00:00, 25508.45it/s]\n",
      "evaluating: 100%|██████████| 124/124 [00:01<00:00, 87.54it/s]\n"
     ]
    },
    {
     "name": "stdout",
     "output_type": "stream",
     "text": [
      "epoch #114:\n",
      "train_loss: 1.202630746819289; val_loss: 1.2204398267773184!\n",
      "f1: 0.6863775319771537\n",
      "recall: 0.7201535325231232\n",
      "precision: 0.6656670189719749\n",
      "auprc: 0.5763284226638026\n",
      "aucroc: 0.7705658376542418\n",
      "accuracy: 0.7882619974059663\n"
     ]
    },
    {
     "name": "stderr",
     "output_type": "stream",
     "text": [
      "sampling: 100%|██████████| 6433/6433 [00:00<00:00, 23610.83it/s]\n",
      "training epoch 115: 100%|██████████| 386/386 [00:04<00:00, 85.18it/s]\n",
      "sampling: 100%|██████████| 2056/2056 [00:00<00:00, 24503.77it/s]\n",
      "evaluating: 100%|██████████| 124/124 [00:01<00:00, 81.95it/s]\n"
     ]
    },
    {
     "name": "stdout",
     "output_type": "stream",
     "text": [
      "epoch #115:\n",
      "train_loss: 1.2023494379275055; val_loss: 1.2196748602693774!\n",
      "f1: 0.6937609421186901\n",
      "recall: 0.7279383798815274\n",
      "precision: 0.6712908953520462\n",
      "auprc: 0.5829475066308174\n",
      "aucroc: 0.7743373786935762\n",
      "accuracy: 0.7901735041349116\n"
     ]
    },
    {
     "name": "stderr",
     "output_type": "stream",
     "text": [
      "sampling: 100%|██████████| 6433/6433 [00:00<00:00, 23594.95it/s]\n",
      "training epoch 116: 100%|██████████| 386/386 [00:04<00:00, 86.96it/s]\n",
      "sampling: 100%|██████████| 2056/2056 [00:00<00:00, 23984.12it/s]\n",
      "evaluating: 100%|██████████| 124/124 [00:01<00:00, 84.99it/s]\n"
     ]
    },
    {
     "name": "stdout",
     "output_type": "stream",
     "text": [
      "epoch #116:\n",
      "train_loss: 1.2017205556563197; val_loss: 1.2192207069248542!\n",
      "f1: 0.6949461587070073\n",
      "recall: 0.7369872788888677\n",
      "precision: 0.6680573688802742\n",
      "auprc: 0.5851159989183382\n",
      "aucroc: 0.7785820228261259\n",
      "accuracy: 0.792639429312581\n"
     ]
    },
    {
     "name": "stderr",
     "output_type": "stream",
     "text": [
      "sampling: 100%|██████████| 6433/6433 [00:00<00:00, 23062.33it/s]\n",
      "training epoch 117: 100%|██████████| 386/386 [00:04<00:00, 86.14it/s]\n",
      "sampling: 100%|██████████| 2056/2056 [00:00<00:00, 25013.24it/s]\n",
      "evaluating: 100%|██████████| 124/124 [00:01<00:00, 78.90it/s]\n"
     ]
    },
    {
     "name": "stdout",
     "output_type": "stream",
     "text": [
      "epoch #117:\n",
      "train_loss: 1.2024245347639653; val_loss: 1.2172167477855926!\n",
      "f1: 0.6989427556062453\n",
      "recall: 0.7134774328728734\n",
      "precision: 0.6984672280988902\n",
      "auprc: 0.5971895213981809\n",
      "aucroc: 0.7800659151677406\n",
      "accuracy: 0.8016863953299822\n"
     ]
    },
    {
     "name": "stderr",
     "output_type": "stream",
     "text": [
      "sampling: 100%|██████████| 6433/6433 [00:00<00:00, 22779.02it/s]\n",
      "training epoch 118: 100%|██████████| 386/386 [00:04<00:00, 85.46it/s]\n",
      "sampling: 100%|██████████| 2056/2056 [00:00<00:00, 25009.90it/s]\n",
      "evaluating: 100%|██████████| 124/124 [00:01<00:00, 82.42it/s]\n"
     ]
    },
    {
     "name": "stdout",
     "output_type": "stream",
     "text": [
      "epoch #118:\n",
      "train_loss: 1.2034289139009793; val_loss: 1.2175937360672018!\n",
      "f1: 0.6925809247189729\n",
      "recall: 0.7189557117984479\n",
      "precision: 0.6798211268989421\n",
      "auprc: 0.5875783232372945\n",
      "aucroc: 0.776509108565676\n",
      "accuracy: 0.7949092088197146\n"
     ]
    },
    {
     "name": "stderr",
     "output_type": "stream",
     "text": [
      "sampling: 100%|██████████| 6433/6433 [00:00<00:00, 23617.05it/s]\n",
      "training epoch 119: 100%|██████████| 386/386 [00:04<00:00, 83.19it/s]\n",
      "sampling: 100%|██████████| 2056/2056 [00:00<00:00, 25586.03it/s]\n",
      "evaluating: 100%|██████████| 124/124 [00:01<00:00, 85.38it/s]\n"
     ]
    },
    {
     "name": "stdout",
     "output_type": "stream",
     "text": [
      "epoch #119:\n",
      "train_loss: 1.2030818761661657; val_loss: 1.2192328963773111!\n",
      "f1: 0.6898843047854081\n",
      "recall: 0.7076746976748782\n",
      "precision: 0.6839652855399477\n",
      "auprc: 0.5845585838012206\n",
      "aucroc: 0.7714363627679638\n",
      "accuracy: 0.7922478105741161\n"
     ]
    },
    {
     "name": "stderr",
     "output_type": "stream",
     "text": [
      "sampling: 100%|██████████| 6433/6433 [00:00<00:00, 23981.68it/s]\n",
      "training epoch 120: 100%|██████████| 386/386 [00:04<00:00, 85.30it/s]\n",
      "sampling: 100%|██████████| 2056/2056 [00:00<00:00, 24449.30it/s]\n",
      "evaluating: 100%|██████████| 124/124 [00:01<00:00, 81.05it/s]\n"
     ]
    },
    {
     "name": "stdout",
     "output_type": "stream",
     "text": [
      "epoch #120:\n",
      "train_loss: 1.2022308213610218; val_loss: 1.2227405866090253!\n",
      "f1: 0.6836347225520614\n",
      "recall: 0.7080485479354872\n",
      "precision: 0.6699376794132669\n",
      "auprc: 0.5749207994095962\n",
      "aucroc: 0.7663501197466532\n",
      "accuracy: 0.7865715212455401\n"
     ]
    },
    {
     "name": "stderr",
     "output_type": "stream",
     "text": [
      "sampling: 100%|██████████| 6433/6433 [00:00<00:00, 23573.68it/s]\n",
      "training epoch 121: 100%|██████████| 386/386 [00:04<00:00, 85.93it/s]\n",
      "sampling: 100%|██████████| 2056/2056 [00:00<00:00, 24163.69it/s]\n",
      "evaluating: 100%|██████████| 124/124 [00:01<00:00, 71.72it/s]\n"
     ]
    },
    {
     "name": "stdout",
     "output_type": "stream",
     "text": [
      "epoch #121:\n",
      "train_loss: 1.2012389798284708; val_loss: 1.2199243453056592!\n",
      "f1: 0.6850162079548789\n",
      "recall: 0.7123256423559329\n",
      "precision: 0.6724909401576857\n",
      "auprc: 0.5781326482266854\n",
      "aucroc: 0.7691207172687047\n",
      "accuracy: 0.788065509972434\n"
     ]
    },
    {
     "name": "stderr",
     "output_type": "stream",
     "text": [
      "sampling: 100%|██████████| 6433/6433 [00:00<00:00, 23796.72it/s]\n",
      "training epoch 122: 100%|██████████| 386/386 [00:04<00:00, 85.50it/s]\n",
      "sampling: 100%|██████████| 2056/2056 [00:00<00:00, 25645.23it/s]\n",
      "evaluating: 100%|██████████| 124/124 [00:01<00:00, 83.66it/s]\n"
     ]
    },
    {
     "name": "stdout",
     "output_type": "stream",
     "text": [
      "epoch #122:\n",
      "train_loss: 1.2010998144237746; val_loss: 1.219743514509653!\n",
      "f1: 0.6923954438482524\n",
      "recall: 0.7565880353594392\n",
      "precision: 0.6479202032341018\n",
      "auprc: 0.5760746320172093\n",
      "aucroc: 0.7757561442281696\n",
      "accuracy: 0.780986372485399\n"
     ]
    },
    {
     "name": "stderr",
     "output_type": "stream",
     "text": [
      "sampling: 100%|██████████| 6433/6433 [00:00<00:00, 23188.66it/s]\n",
      "training epoch 123: 100%|██████████| 386/386 [00:04<00:00, 86.00it/s]\n",
      "sampling: 100%|██████████| 2056/2056 [00:00<00:00, 24826.73it/s]\n",
      "evaluating: 100%|██████████| 124/124 [00:01<00:00, 85.62it/s]\n"
     ]
    },
    {
     "name": "stdout",
     "output_type": "stream",
     "text": [
      "epoch #123:\n",
      "train_loss: 1.2008256221822045; val_loss: 1.2193240293598995!\n",
      "f1: 0.6885329924736723\n",
      "recall: 0.703102692163703\n",
      "precision: 0.6893733425644802\n",
      "auprc: 0.5875312681171939\n",
      "aucroc: 0.7731833193531081\n",
      "accuracy: 0.794875952651208\n"
     ]
    },
    {
     "name": "stderr",
     "output_type": "stream",
     "text": [
      "sampling: 100%|██████████| 6433/6433 [00:00<00:00, 24179.14it/s]\n",
      "training epoch 124: 100%|██████████| 386/386 [00:04<00:00, 84.87it/s]\n",
      "sampling: 100%|██████████| 2056/2056 [00:00<00:00, 24003.81it/s]\n",
      "evaluating: 100%|██████████| 124/124 [00:01<00:00, 85.00it/s]\n"
     ]
    },
    {
     "name": "stdout",
     "output_type": "stream",
     "text": [
      "epoch #124:\n",
      "train_loss: 1.201521026834292; val_loss: 1.2161342471775174!\n",
      "f1: 0.7017821364605606\n",
      "recall: 0.7328592844822559\n",
      "precision: 0.685235059557154\n",
      "auprc: 0.595085767169502\n",
      "aucroc: 0.7823054886419126\n",
      "accuracy: 0.7982811739905951\n"
     ]
    },
    {
     "name": "stderr",
     "output_type": "stream",
     "text": [
      "sampling: 100%|██████████| 6433/6433 [00:00<00:00, 23341.28it/s]\n",
      "training epoch 125: 100%|██████████| 386/386 [00:04<00:00, 86.19it/s]\n",
      "sampling: 100%|██████████| 2056/2056 [00:00<00:00, 25315.03it/s]\n",
      "evaluating: 100%|██████████| 124/124 [00:01<00:00, 78.47it/s]\n"
     ]
    },
    {
     "name": "stdout",
     "output_type": "stream",
     "text": [
      "epoch #125:\n",
      "train_loss: 1.2015921587522673; val_loss: 1.2181615605237555!\n",
      "f1: 0.702334354658363\n",
      "recall: 0.7112133797454063\n",
      "precision: 0.7032438610340709\n",
      "auprc: 0.6013088848484741\n",
      "aucroc: 0.7799235254335805\n",
      "accuracy: 0.8033079293011188\n"
     ]
    },
    {
     "name": "stderr",
     "output_type": "stream",
     "text": [
      "sampling: 100%|██████████| 6433/6433 [00:00<00:00, 23548.18it/s]\n",
      "training epoch 126: 100%|██████████| 386/386 [00:04<00:00, 85.81it/s]\n",
      "sampling: 100%|██████████| 2056/2056 [00:00<00:00, 24962.99it/s]\n",
      "evaluating: 100%|██████████| 124/124 [00:01<00:00, 77.49it/s]\n"
     ]
    },
    {
     "name": "stdout",
     "output_type": "stream",
     "text": [
      "epoch #126:\n",
      "train_loss: 1.2010198516932684; val_loss: 1.2183798500334442!\n",
      "f1: 0.6954149908556589\n",
      "recall: 0.7208327406246957\n",
      "precision: 0.6844858580889205\n",
      "auprc: 0.590550703117438\n",
      "aucroc: 0.7783810325497903\n",
      "accuracy: 0.7966596400194584\n"
     ]
    },
    {
     "name": "stderr",
     "output_type": "stream",
     "text": [
      "sampling: 100%|██████████| 6433/6433 [00:00<00:00, 23899.88it/s]\n",
      "training epoch 127: 100%|██████████| 386/386 [00:04<00:00, 85.79it/s]\n",
      "sampling: 100%|██████████| 2056/2056 [00:00<00:00, 25297.13it/s]\n",
      "evaluating: 100%|██████████| 124/124 [00:01<00:00, 84.97it/s]\n"
     ]
    },
    {
     "name": "stdout",
     "output_type": "stream",
     "text": [
      "epoch #127:\n",
      "train_loss: 1.20248974852301; val_loss: 1.2166603969074254!\n",
      "f1: 0.6982127310230424\n",
      "recall: 0.7183663435637542\n",
      "precision: 0.692073432854947\n",
      "auprc: 0.5956124187630071\n",
      "aucroc: 0.7791429716749433\n",
      "accuracy: 0.7983138780804151\n"
     ]
    },
    {
     "name": "stderr",
     "output_type": "stream",
     "text": [
      "sampling: 100%|██████████| 6433/6433 [00:00<00:00, 23785.50it/s]\n",
      "training epoch 128: 100%|██████████| 386/386 [00:04<00:00, 86.07it/s]\n",
      "sampling: 100%|██████████| 2056/2056 [00:00<00:00, 25317.48it/s]\n",
      "evaluating: 100%|██████████| 124/124 [00:01<00:00, 85.14it/s]\n"
     ]
    },
    {
     "name": "stdout",
     "output_type": "stream",
     "text": [
      "epoch #128:\n",
      "train_loss: 1.202335794173663; val_loss: 1.2192903709164236!\n",
      "f1: 0.6952063125874095\n",
      "recall: 0.7359985791284555\n",
      "precision: 0.6697938548025762\n",
      "auprc: 0.5844427540429271\n",
      "aucroc: 0.7778019134861809\n",
      "accuracy: 0.7919909208819714\n"
     ]
    },
    {
     "name": "stderr",
     "output_type": "stream",
     "text": [
      "sampling: 100%|██████████| 6433/6433 [00:00<00:00, 23711.73it/s]\n",
      "training epoch 129: 100%|██████████| 386/386 [00:04<00:00, 84.68it/s]\n",
      "sampling: 100%|██████████| 2056/2056 [00:00<00:00, 25412.53it/s]\n",
      "evaluating: 100%|██████████| 124/124 [00:01<00:00, 86.48it/s]\n"
     ]
    },
    {
     "name": "stdout",
     "output_type": "stream",
     "text": [
      "epoch #129:\n",
      "train_loss: 1.202140493030727; val_loss: 1.2186550036478598!\n",
      "f1: 0.6972419741322866\n",
      "recall: 0.7314558439034796\n",
      "precision: 0.6789426517295043\n",
      "auprc: 0.5886301148021156\n",
      "aucroc: 0.777983715656897\n",
      "accuracy: 0.7937743190661478\n"
     ]
    },
    {
     "name": "stderr",
     "output_type": "stream",
     "text": [
      "sampling: 100%|██████████| 6433/6433 [00:00<00:00, 23895.58it/s]\n",
      "training epoch 130: 100%|██████████| 386/386 [00:04<00:00, 85.72it/s]\n",
      "sampling: 100%|██████████| 2056/2056 [00:00<00:00, 25574.11it/s]\n",
      "evaluating: 100%|██████████| 124/124 [00:01<00:00, 83.18it/s]\n"
     ]
    },
    {
     "name": "stdout",
     "output_type": "stream",
     "text": [
      "epoch #130:\n",
      "train_loss: 1.2020715189073998; val_loss: 1.2191705963491002!\n",
      "f1: 0.6966258448362673\n",
      "recall: 0.7089449391579054\n",
      "precision: 0.6988940414719288\n",
      "auprc: 0.59614973996747\n",
      "aucroc: 0.776936440345318\n",
      "accuracy: 0.7994487678339819\n"
     ]
    },
    {
     "name": "stderr",
     "output_type": "stream",
     "text": [
      "sampling: 100%|██████████| 6433/6433 [00:00<00:00, 23758.27it/s]\n",
      "training epoch 131: 100%|██████████| 386/386 [00:04<00:00, 87.02it/s]\n",
      "sampling: 100%|██████████| 2056/2056 [00:00<00:00, 25250.02it/s]\n",
      "evaluating: 100%|██████████| 124/124 [00:01<00:00, 84.20it/s]\n"
     ]
    },
    {
     "name": "stdout",
     "output_type": "stream",
     "text": [
      "epoch #131:\n",
      "train_loss: 1.2007005985696517; val_loss: 1.2185425912978276!\n",
      "f1: 0.6931428034428855\n",
      "recall: 0.7274291834480757\n",
      "precision: 0.6725211918029231\n",
      "auprc: 0.585435385338877\n",
      "aucroc: 0.7751933818327036\n",
      "accuracy: 0.7911802853437094\n"
     ]
    },
    {
     "name": "stderr",
     "output_type": "stream",
     "text": [
      "sampling: 100%|██████████| 6433/6433 [00:00<00:00, 23838.58it/s]\n",
      "training epoch 132: 100%|██████████| 386/386 [00:04<00:00, 85.50it/s]\n",
      "sampling: 100%|██████████| 2056/2056 [00:00<00:00, 24579.20it/s]\n",
      "evaluating: 100%|██████████| 124/124 [00:01<00:00, 85.04it/s]\n"
     ]
    },
    {
     "name": "stdout",
     "output_type": "stream",
     "text": [
      "epoch #132:\n",
      "train_loss: 1.2011936359926414; val_loss: 1.2209372085833603!\n",
      "f1: 0.6882805691191352\n",
      "recall: 0.7098620233878632\n",
      "precision: 0.6787456122246702\n",
      "auprc: 0.5846421276654932\n",
      "aucroc: 0.7716533765556073\n",
      "accuracy: 0.7922478105741161\n"
     ]
    },
    {
     "name": "stderr",
     "output_type": "stream",
     "text": [
      "sampling: 100%|██████████| 6433/6433 [00:00<00:00, 23572.42it/s]\n",
      "training epoch 133: 100%|██████████| 386/386 [00:04<00:00, 82.51it/s]\n",
      "sampling: 100%|██████████| 2056/2056 [00:00<00:00, 24327.08it/s]\n",
      "evaluating: 100%|██████████| 124/124 [00:01<00:00, 85.66it/s]\n"
     ]
    },
    {
     "name": "stdout",
     "output_type": "stream",
     "text": [
      "epoch #133:\n",
      "train_loss: 1.2018632314553321; val_loss: 1.2205141307817822!\n",
      "f1: 0.6894158405307275\n",
      "recall: 0.7240938676581289\n",
      "precision: 0.6691162748311943\n",
      "auprc: 0.5798432801426409\n",
      "aucroc: 0.7724708495829841\n",
      "accuracy: 0.7900113507377979\n"
     ]
    },
    {
     "name": "stderr",
     "output_type": "stream",
     "text": [
      "sampling: 100%|██████████| 6433/6433 [00:00<00:00, 23341.34it/s]\n",
      "training epoch 134: 100%|██████████| 386/386 [00:04<00:00, 85.38it/s]\n",
      "sampling: 100%|██████████| 2056/2056 [00:00<00:00, 23442.95it/s]\n",
      "evaluating: 100%|██████████| 124/124 [00:01<00:00, 85.04it/s]\n"
     ]
    },
    {
     "name": "stdout",
     "output_type": "stream",
     "text": [
      "epoch #134:\n",
      "train_loss: 1.2021797664550402; val_loss: 1.2214174975680934!\n",
      "f1: 0.6825665401928932\n",
      "recall: 0.6891935393993857\n",
      "precision: 0.6873540306355315\n",
      "auprc: 0.5818559544766096\n",
      "aucroc: 0.7658112194060906\n",
      "accuracy: 0.7921530479896238\n"
     ]
    },
    {
     "name": "stderr",
     "output_type": "stream",
     "text": [
      "sampling: 100%|██████████| 6433/6433 [00:00<00:00, 23996.08it/s]\n",
      "training epoch 135: 100%|██████████| 386/386 [00:04<00:00, 86.24it/s]\n",
      "sampling: 100%|██████████| 2056/2056 [00:00<00:00, 24977.81it/s]\n",
      "evaluating: 100%|██████████| 124/124 [00:01<00:00, 84.60it/s]\n"
     ]
    },
    {
     "name": "stdout",
     "output_type": "stream",
     "text": [
      "epoch #135:\n",
      "train_loss: 1.2009578186534875; val_loss: 1.220311850647705!\n",
      "f1: 0.6867735328383806\n",
      "recall: 0.711915383147761\n",
      "precision: 0.6770849837514102\n",
      "auprc: 0.5827354057704471\n",
      "aucroc: 0.7719082484861124\n",
      "accuracy: 0.7922478105741161\n"
     ]
    },
    {
     "name": "stderr",
     "output_type": "stream",
     "text": [
      "sampling: 100%|██████████| 6433/6433 [00:00<00:00, 22210.59it/s]\n",
      "training epoch 136: 100%|██████████| 386/386 [00:04<00:00, 85.80it/s]\n",
      "sampling: 100%|██████████| 2056/2056 [00:00<00:00, 24598.69it/s]\n",
      "evaluating: 100%|██████████| 124/124 [00:01<00:00, 85.02it/s]\n"
     ]
    },
    {
     "name": "stdout",
     "output_type": "stream",
     "text": [
      "epoch #136:\n",
      "train_loss: 1.2013703452106437; val_loss: 1.2193987719413815!\n",
      "f1: 0.6846578392096871\n",
      "recall: 0.673776945601106\n",
      "precision: 0.7119750318343439\n",
      "auprc: 0.5914436418907792\n",
      "aucroc: 0.7679583797083499\n",
      "accuracy: 0.8002270147559591\n"
     ]
    },
    {
     "name": "stderr",
     "output_type": "stream",
     "text": [
      "sampling: 100%|██████████| 6433/6433 [00:00<00:00, 23622.28it/s]\n",
      "training epoch 137: 100%|██████████| 386/386 [00:04<00:00, 81.45it/s]\n",
      "sampling: 100%|██████████| 2056/2056 [00:00<00:00, 24786.98it/s]\n",
      "evaluating: 100%|██████████| 124/124 [00:01<00:00, 84.67it/s]\n"
     ]
    },
    {
     "name": "stdout",
     "output_type": "stream",
     "text": [
      "epoch #137:\n",
      "train_loss: 1.2006777486461626; val_loss: 1.2171295744993513!\n",
      "f1: 0.6945058375724252\n",
      "recall: 0.7234188847302833\n",
      "precision: 0.6818747701994055\n",
      "auprc: 0.5883885761829575\n",
      "aucroc: 0.7767372463047277\n",
      "accuracy: 0.7947137992540944\n"
     ]
    },
    {
     "name": "stderr",
     "output_type": "stream",
     "text": [
      "sampling: 100%|██████████| 6433/6433 [00:00<00:00, 23792.29it/s]\n",
      "training epoch 138: 100%|██████████| 386/386 [00:04<00:00, 84.29it/s]\n",
      "sampling: 100%|██████████| 2056/2056 [00:00<00:00, 25426.17it/s]\n",
      "evaluating: 100%|██████████| 124/124 [00:01<00:00, 86.60it/s]\n"
     ]
    },
    {
     "name": "stdout",
     "output_type": "stream",
     "text": [
      "epoch #138:\n",
      "train_loss: 1.2004905382034408; val_loss: 1.22057770948192!\n",
      "f1: 0.6862630575073189\n",
      "recall: 0.7047635863979802\n",
      "precision: 0.6810268014677247\n",
      "auprc: 0.5833815220267881\n",
      "aucroc: 0.7712791535565908\n",
      "accuracy: 0.7940651856656397\n"
     ]
    },
    {
     "name": "stderr",
     "output_type": "stream",
     "text": [
      "sampling: 100%|██████████| 6433/6433 [00:00<00:00, 24124.57it/s]\n",
      "training epoch 139: 100%|██████████| 386/386 [00:04<00:00, 86.63it/s]\n",
      "sampling: 100%|██████████| 2056/2056 [00:00<00:00, 24269.30it/s]\n",
      "evaluating: 100%|██████████| 124/124 [00:01<00:00, 84.70it/s]\n"
     ]
    },
    {
     "name": "stdout",
     "output_type": "stream",
     "text": [
      "epoch #139:\n",
      "train_loss: 1.2012944387047881; val_loss: 1.2150767285536235!\n",
      "f1: 0.7045811812303446\n",
      "recall: 0.73345631510638\n",
      "precision: 0.689304251537593\n",
      "auprc: 0.5989730360810079\n",
      "aucroc: 0.7841556283690841\n",
      "accuracy: 0.8002594033722439\n"
     ]
    },
    {
     "name": "stderr",
     "output_type": "stream",
     "text": [
      "sampling: 100%|██████████| 6433/6433 [00:00<00:00, 23915.70it/s]\n",
      "training epoch 140: 100%|██████████| 386/386 [00:04<00:00, 86.08it/s]\n",
      "sampling: 100%|██████████| 2056/2056 [00:00<00:00, 25536.85it/s]\n",
      "evaluating: 100%|██████████| 124/124 [00:01<00:00, 85.32it/s]\n"
     ]
    },
    {
     "name": "stdout",
     "output_type": "stream",
     "text": [
      "epoch #140:\n",
      "train_loss: 1.2007697937716981; val_loss: 1.2166323463089832!\n",
      "f1: 0.6962628982034071\n",
      "recall: 0.7156745059035928\n",
      "precision: 0.6874473946497379\n",
      "auprc: 0.5920648984692849\n",
      "aucroc: 0.7765211066727977\n",
      "accuracy: 0.7973082536079131\n"
     ]
    },
    {
     "name": "stderr",
     "output_type": "stream",
     "text": [
      "sampling: 100%|██████████| 6433/6433 [00:00<00:00, 22484.29it/s]\n",
      "training epoch 141: 100%|██████████| 386/386 [00:04<00:00, 83.73it/s]\n",
      "sampling: 100%|██████████| 2056/2056 [00:00<00:00, 25164.04it/s]\n",
      "evaluating: 100%|██████████| 124/124 [00:01<00:00, 85.00it/s]\n"
     ]
    },
    {
     "name": "stdout",
     "output_type": "stream",
     "text": [
      "epoch #141:\n",
      "train_loss: 1.2003765960237873; val_loss: 1.219078265617399!\n",
      "f1: 0.6921511359024507\n",
      "recall: 0.6990241089253221\n",
      "precision: 0.7006105794181451\n",
      "auprc: 0.593018648986747\n",
      "aucroc: 0.7740029135728658\n",
      "accuracy: 0.7989297875790498\n"
     ]
    },
    {
     "name": "stderr",
     "output_type": "stream",
     "text": [
      "sampling: 100%|██████████| 6433/6433 [00:00<00:00, 23747.12it/s]\n",
      "training epoch 142: 100%|██████████| 386/386 [00:04<00:00, 81.48it/s]\n",
      "sampling: 100%|██████████| 2056/2056 [00:00<00:00, 25595.98it/s]\n",
      "evaluating: 100%|██████████| 124/124 [00:01<00:00, 85.72it/s]\n"
     ]
    },
    {
     "name": "stdout",
     "output_type": "stream",
     "text": [
      "epoch #142:\n",
      "train_loss: 1.1996896739623277; val_loss: 1.2171171437945922!\n",
      "f1: 0.6999033771576127\n",
      "recall: 0.7516344977387748\n",
      "precision: 0.6649191861834934\n",
      "auprc: 0.5857477499186181\n",
      "aucroc: 0.7808536145791269\n",
      "accuracy: 0.791957191503162\n"
     ]
    },
    {
     "name": "stderr",
     "output_type": "stream",
     "text": [
      "sampling: 100%|██████████| 6433/6433 [00:00<00:00, 23906.87it/s]\n",
      "training epoch 143: 100%|██████████| 386/386 [00:04<00:00, 85.46it/s]\n",
      "sampling: 100%|██████████| 2056/2056 [00:00<00:00, 25254.31it/s]\n",
      "evaluating: 100%|██████████| 124/124 [00:01<00:00, 83.96it/s]\n"
     ]
    },
    {
     "name": "stdout",
     "output_type": "stream",
     "text": [
      "epoch #143:\n",
      "train_loss: 1.2001060371968284; val_loss: 1.2166945164305691!\n",
      "f1: 0.6960685522019993\n",
      "recall: 0.7078657140331293\n",
      "precision: 0.6988058414335417\n",
      "auprc: 0.5940396147985467\n",
      "aucroc: 0.7764464223564785\n",
      "accuracy: 0.8000972762645915\n"
     ]
    },
    {
     "name": "stderr",
     "output_type": "stream",
     "text": [
      "sampling: 100%|██████████| 6433/6433 [00:00<00:00, 22471.33it/s]\n",
      "training epoch 144: 100%|██████████| 386/386 [00:04<00:00, 84.97it/s]\n",
      "sampling: 100%|██████████| 2056/2056 [00:00<00:00, 25796.82it/s]\n",
      "evaluating: 100%|██████████| 124/124 [00:01<00:00, 83.82it/s]\n"
     ]
    },
    {
     "name": "stdout",
     "output_type": "stream",
     "text": [
      "epoch #144:\n",
      "train_loss: 1.2005675266880862; val_loss: 1.219615618284747!\n",
      "f1: 0.6922583671312558\n",
      "recall: 0.7346761865301784\n",
      "precision: 0.667303869896351\n",
      "auprc: 0.5825410332024025\n",
      "aucroc: 0.7746218388238517\n",
      "accuracy: 0.7885176775867662\n"
     ]
    },
    {
     "name": "stderr",
     "output_type": "stream",
     "text": [
      "sampling: 100%|██████████| 6433/6433 [00:00<00:00, 23560.32it/s]\n",
      "training epoch 145: 100%|██████████| 386/386 [00:04<00:00, 81.73it/s]\n",
      "sampling: 100%|██████████| 2056/2056 [00:00<00:00, 25866.54it/s]\n",
      "evaluating: 100%|██████████| 124/124 [00:01<00:00, 82.81it/s]\n"
     ]
    },
    {
     "name": "stdout",
     "output_type": "stream",
     "text": [
      "epoch #145:\n",
      "train_loss: 1.201176732764651; val_loss: 1.2147042410714286!\n",
      "f1: 0.7086374279933546\n",
      "recall: 0.7433741090602033\n",
      "precision: 0.6862423136695127\n",
      "auprc: 0.599498744083672\n",
      "aucroc: 0.7866850581501011\n",
      "accuracy: 0.8010377817415275\n"
     ]
    },
    {
     "name": "stderr",
     "output_type": "stream",
     "text": [
      "sampling: 100%|██████████| 6433/6433 [00:00<00:00, 23497.72it/s]\n",
      "training epoch 146: 100%|██████████| 386/386 [00:04<00:00, 82.75it/s]\n",
      "sampling: 100%|██████████| 2056/2056 [00:00<00:00, 25370.89it/s]\n",
      "evaluating: 100%|██████████| 124/124 [00:01<00:00, 84.60it/s]\n"
     ]
    },
    {
     "name": "stdout",
     "output_type": "stream",
     "text": [
      "epoch #146:\n",
      "train_loss: 1.2012443404109234; val_loss: 1.219148005443156!\n",
      "f1: 0.6923015896283446\n",
      "recall: 0.7049907177018401\n",
      "precision: 0.6921778376701493\n",
      "auprc: 0.5911005544503216\n",
      "aucroc: 0.7742859492094233\n",
      "accuracy: 0.7969510217320791\n"
     ]
    },
    {
     "name": "stderr",
     "output_type": "stream",
     "text": [
      "sampling: 100%|██████████| 6433/6433 [00:00<00:00, 23359.42it/s]\n",
      "training epoch 147: 100%|██████████| 386/386 [00:04<00:00, 86.50it/s]\n",
      "sampling: 100%|██████████| 2056/2056 [00:00<00:00, 24632.84it/s]\n",
      "evaluating: 100%|██████████| 124/124 [00:01<00:00, 84.44it/s]\n"
     ]
    },
    {
     "name": "stdout",
     "output_type": "stream",
     "text": [
      "epoch #147:\n",
      "train_loss: 1.1997726650753964; val_loss: 1.2157249994933528!\n",
      "f1: 0.7078346850100491\n",
      "recall: 0.7556191324625642\n",
      "precision: 0.6761760910201341\n",
      "auprc: 0.5983989006815651\n",
      "aucroc: 0.7873308651948949\n",
      "accuracy: 0.7973411154345007\n"
     ]
    },
    {
     "name": "stderr",
     "output_type": "stream",
     "text": [
      "sampling: 100%|██████████| 6433/6433 [00:00<00:00, 24028.28it/s]\n",
      "training epoch 148: 100%|██████████| 386/386 [00:04<00:00, 84.81it/s]\n",
      "sampling: 100%|██████████| 2056/2056 [00:00<00:00, 24773.59it/s]\n",
      "evaluating: 100%|██████████| 124/124 [00:01<00:00, 86.06it/s]\n"
     ]
    },
    {
     "name": "stdout",
     "output_type": "stream",
     "text": [
      "epoch #148:\n",
      "train_loss: 1.2008248957037728; val_loss: 1.216833844413708!\n",
      "f1: 0.6975542653013372\n",
      "recall: 0.7118013366477426\n",
      "precision: 0.6961990633067702\n",
      "auprc: 0.5965869137102189\n",
      "aucroc: 0.7776390192214363\n",
      "accuracy: 0.7984760051880675\n"
     ]
    },
    {
     "name": "stderr",
     "output_type": "stream",
     "text": [
      "sampling: 100%|██████████| 6433/6433 [00:00<00:00, 23909.79it/s]\n",
      "training epoch 149: 100%|██████████| 386/386 [00:04<00:00, 82.78it/s]\n",
      "sampling: 100%|██████████| 2056/2056 [00:00<00:00, 24399.15it/s]\n",
      "evaluating: 100%|██████████| 124/124 [00:01<00:00, 85.81it/s]\n"
     ]
    },
    {
     "name": "stdout",
     "output_type": "stream",
     "text": [
      "epoch #149:\n",
      "train_loss: 1.1994071091037466; val_loss: 1.217028149449692!\n",
      "f1: 0.6947734907329376\n",
      "recall: 0.7455882977641175\n",
      "precision: 0.6666085126943893\n",
      "auprc: 0.5847573384773094\n",
      "aucroc: 0.7803158397098141\n",
      "accuracy: 0.7898491973406843\n"
     ]
    }
   ],
   "source": [
    "for epoch in range(100,150):\n",
    "    batch_size = 50\n",
    "    file_path = Path('/kaggle/input/california-spatial-temporal-fire-dataset/numpy_california_spatialtemporal_dataset.npy')\n",
    "    train_numpy_array = np.load(file_path)[:,:,:700,:]\n",
    "    train_dataloader = temporal_dataloader(train_numpy_array, sequence_length, batch_size, radius = 0, train_or_test = True, pin_memory = False, num_workers=0)\n",
    "    loss, samples = train(ConvTranModel, train_dataloader, optimizer, criterion, device, epoch)\n",
    "    del train_numpy_array\n",
    "    del train_dataloader\n",
    "    #checkpoint_path = f'/kaggle/output/model_checkpoints/model_checkpoint_epoch_{epoch}.pt'\n",
    "    #torch.save(ConvTranModel.state_dict(), checkpoint_path)\n",
    "    train_losses.append(loss.item()/samples)\n",
    "    \n",
    "    batch_size = 50\n",
    "    val_numpy_array = np.load(file_path)[:,:,700:,:]\n",
    "    val_dataloader = temporal_dataloader(val_numpy_array, sequence_length, batch_size, radius = 0, train_or_test = True, pin_memory = False, num_workers=0)\n",
    "    f1, recall, precision, auprc, aucroc, accuracy, samples, loss, loss_samples = evaluate_model(ConvTranModel, val_dataloader, criterion, device)\n",
    "    del val_numpy_array\n",
    "    del val_dataloader\n",
    "    \n",
    "    val_losses.append(loss.item()/loss_samples)\n",
    "    \n",
    "    print(f'epoch #{epoch}:')\n",
    "    print(f'train_loss: {train_losses[epoch]}; val_loss: {val_losses[epoch]}!')\n",
    "    print(f'f1: {f1/samples}')\n",
    "    print(f'recall: {recall/samples}')\n",
    "    print(f'precision: {precision/samples}')\n",
    "    print(f'auprc: {auprc/samples}')\n",
    "    print(f'aucroc: {aucroc/samples}')\n",
    "    print(f'accuracy: {accuracy/samples}')"
   ]
  },
  {
   "cell_type": "code",
   "execution_count": 12,
   "id": "f9ee9cf2",
   "metadata": {
    "execution": {
     "iopub.execute_input": "2023-10-30T02:01:15.842888Z",
     "iopub.status.busy": "2023-10-30T02:01:15.842519Z",
     "iopub.status.idle": "2023-10-30T02:01:16.130265Z",
     "shell.execute_reply": "2023-10-30T02:01:16.129303Z"
    },
    "papermill": {
     "duration": 1.150321,
     "end_time": "2023-10-30T02:01:16.132770",
     "exception": false,
     "start_time": "2023-10-30T02:01:14.982449",
     "status": "completed"
    },
    "tags": []
   },
   "outputs": [
    {
     "data": {
      "image/png": "[encoded data removed]",
      "text/plain": [
       "<Figure size 640x480 with 1 Axes>"
      ]
     },
     "metadata": {},
     "output_type": "display_data"
    }
   ],
   "source": [
    "plt.plot(train_losses, label = 'train')\n",
    "plt.plot(val_losses, label = 'val')\n",
    "plt.legend()\n",
    "plt.show()"
   ]
  },
  {
   "cell_type": "code",
   "execution_count": 13,
   "id": "9ffdab50",
   "metadata": {
    "execution": {
     "iopub.execute_input": "2023-10-30T02:01:17.809129Z",
     "iopub.status.busy": "2023-10-30T02:01:17.808769Z",
     "iopub.status.idle": "2023-10-30T02:01:45.140439Z",
     "shell.execute_reply": "2023-10-30T02:01:45.139462Z"
    },
    "papermill": {
     "duration": 28.206166,
     "end_time": "2023-10-30T02:01:45.142677",
     "exception": false,
     "start_time": "2023-10-30T02:01:16.936511",
     "status": "completed"
    },
    "tags": []
   },
   "outputs": [
    {
     "name": "stderr",
     "output_type": "stream",
     "text": [
      "evaluating: 100%|██████████| 3706/3706 [00:26<00:00, 137.43it/s]"
     ]
    },
    {
     "name": "stdout",
     "output_type": "stream",
     "text": [
      "epoch #149:\n",
      "val_loss: 0.038296014070510864!\n",
      "f1: 0.17723688944160398\n",
      "recall: 0.7387191987954635\n",
      "precision: 0.10363673216813674\n",
      "auprc: 0.10465261534454953\n",
      "aucroc: 0.7793171732568965\n",
      "accuracy: 0.8178863453147193\n"
     ]
    },
    {
     "name": "stderr",
     "output_type": "stream",
     "text": [
      "\n"
     ]
    }
   ],
   "source": [
    "batch_size = 50\n",
    "file_path = Path(\"/kaggle/input/california-spatial-temporal-fire-dataset/numpy_california_spatialtemporal_dataset.npy\")\n",
    "numpy_array = np.load(file_path)[:,:,700:,:]\n",
    "dataloader = temporal_dataloader(numpy_array, sequence_length, batch_size, radius = 2, train_or_test = False, pin_memory = False, num_workers=0)\n",
    "f1, recall, precision, auprc, aucroc, accuracy, samples, loss, loss_samples = evaluate_model(ConvTranModel, dataloader, criterion, device)\n",
    "del numpy_array\n",
    "del dataloader\n",
    "\n",
    "print(f'epoch #{epoch}:')\n",
    "print(f'val_loss: {loss/loss_samples}!')\n",
    "print(f'f1: {f1/samples}')\n",
    "print(f'recall: {recall/samples}')\n",
    "print(f'precision: {precision/samples}')\n",
    "print(f'auprc: {auprc/samples}')\n",
    "print(f'aucroc: {aucroc/samples}')\n",
    "print(f'accuracy: {accuracy/samples}')"
   ]
  },
  {
   "cell_type": "markdown",
   "id": "80697b13",
   "metadata": {
    "papermill": {
     "duration": 0.883753,
     "end_time": "2023-10-30T02:01:46.849393",
     "exception": false,
     "start_time": "2023-10-30T02:01:45.965640",
     "status": "completed"
    },
    "tags": []
   },
   "source": [
    "simple tran"
   ]
  },
  {
   "cell_type": "code",
   "execution_count": 14,
   "id": "5b4966c6",
   "metadata": {
    "execution": {
     "iopub.execute_input": "2023-10-30T02:01:48.489693Z",
     "iopub.status.busy": "2023-10-30T02:01:48.489297Z",
     "iopub.status.idle": "2023-10-30T02:16:47.916695Z",
     "shell.execute_reply": "2023-10-30T02:16:47.915551Z"
    },
    "papermill": {
     "duration": 900.253998,
     "end_time": "2023-10-30T02:16:47.918929",
     "exception": false,
     "start_time": "2023-10-30T02:01:47.664931",
     "status": "completed"
    },
    "tags": []
   },
   "outputs": [
    {
     "name": "stdout",
     "output_type": "stream",
     "text": [
      "4374275\n"
     ]
    },
    {
     "name": "stderr",
     "output_type": "stream",
     "text": [
      "sampling: 100%|██████████| 6433/6433 [00:00<00:00, 23452.62it/s]\n",
      "training epoch 0: 100%|██████████| 386/386 [00:13<00:00, 27.94it/s]\n",
      "sampling: 100%|██████████| 2056/2056 [00:00<00:00, 25419.87it/s]\n",
      "evaluating: 100%|██████████| 124/124 [00:01<00:00, 62.47it/s]\n"
     ]
    },
    {
     "name": "stdout",
     "output_type": "stream",
     "text": [
      "epoch #0:\n",
      "train_loss: 0.025269198278064117; val_loss: 0.02454688669642586!\n",
      "f1: 0.5469513793767942\n",
      "recall: 0.8048538311419837\n",
      "precision: 0.4200505425028224\n",
      "auprc: 0.40574591709164043\n",
      "aucroc: 0.6247417891140321\n",
      "accuracy: 0.564526588845655\n"
     ]
    },
    {
     "name": "stderr",
     "output_type": "stream",
     "text": [
      "sampling: 100%|██████████| 6433/6433 [00:00<00:00, 23760.51it/s]\n",
      "training epoch 1: 100%|██████████| 386/386 [00:13<00:00, 27.84it/s]\n",
      "sampling: 100%|██████████| 2056/2056 [00:00<00:00, 23769.40it/s]\n",
      "evaluating: 100%|██████████| 124/124 [00:02<00:00, 61.44it/s]\n"
     ]
    },
    {
     "name": "stdout",
     "output_type": "stream",
     "text": [
      "epoch #1:\n",
      "train_loss: 0.02401432587732723; val_loss: 0.023643612397783925!\n",
      "f1: 0.5818680399619113\n",
      "recall: 0.798941445731471\n",
      "precision: 0.4641486223862827\n",
      "auprc: 0.4406350105747129\n",
      "aucroc: 0.6711512325342108\n",
      "accuracy: 0.6284046692607004\n"
     ]
    },
    {
     "name": "stderr",
     "output_type": "stream",
     "text": [
      "sampling: 100%|██████████| 6433/6433 [00:00<00:00, 23416.35it/s]\n",
      "training epoch 2: 100%|██████████| 386/386 [00:13<00:00, 28.10it/s]\n",
      "sampling: 100%|██████████| 2056/2056 [00:00<00:00, 25401.90it/s]\n",
      "evaluating: 100%|██████████| 124/124 [00:02<00:00, 61.11it/s]\n"
     ]
    },
    {
     "name": "stdout",
     "output_type": "stream",
     "text": [
      "epoch #2:\n",
      "train_loss: 0.0229820513565915; val_loss: 0.02301995954535203!\n",
      "f1: 0.6203087270791551\n",
      "recall: 0.7809354090817423\n",
      "precision: 0.5211144470650997\n",
      "auprc: 0.48316693939138367\n",
      "aucroc: 0.7106380745365578\n",
      "accuracy: 0.68731754784301\n"
     ]
    },
    {
     "name": "stderr",
     "output_type": "stream",
     "text": [
      "sampling: 100%|██████████| 6433/6433 [00:00<00:00, 24057.22it/s]\n",
      "training epoch 3: 100%|██████████| 386/386 [00:13<00:00, 28.15it/s]\n",
      "sampling: 100%|██████████| 2056/2056 [00:00<00:00, 25421.22it/s]\n",
      "evaluating: 100%|██████████| 124/124 [00:02<00:00, 61.14it/s]\n"
     ]
    },
    {
     "name": "stdout",
     "output_type": "stream",
     "text": [
      "epoch #3:\n",
      "train_loss: 0.022483808286549837; val_loss: 0.02296328494358202!\n",
      "f1: 0.6205983201246388\n",
      "recall: 0.803347002115039\n",
      "precision: 0.5125674177854279\n",
      "auprc: 0.48058637391457865\n",
      "aucroc: 0.7103067910096541\n",
      "accuracy: 0.6787741203178207\n"
     ]
    },
    {
     "name": "stderr",
     "output_type": "stream",
     "text": [
      "sampling: 100%|██████████| 6433/6433 [00:00<00:00, 22532.85it/s]\n",
      "training epoch 4: 100%|██████████| 386/386 [00:13<00:00, 28.05it/s]\n",
      "sampling: 100%|██████████| 2056/2056 [00:00<00:00, 25482.52it/s]\n",
      "evaluating: 100%|██████████| 124/124 [00:02<00:00, 61.85it/s]\n"
     ]
    },
    {
     "name": "stdout",
     "output_type": "stream",
     "text": [
      "epoch #4:\n",
      "train_loss: 0.022316560163091706; val_loss: 0.023001578067527208!\n",
      "f1: 0.6178927873931787\n",
      "recall: 0.7757576119951598\n",
      "precision: 0.5226906835175283\n",
      "auprc: 0.482338916609647\n",
      "aucroc: 0.7086841731137814\n",
      "accuracy: 0.6869325551232166\n"
     ]
    },
    {
     "name": "stderr",
     "output_type": "stream",
     "text": [
      "sampling: 100%|██████████| 6433/6433 [00:00<00:00, 22251.56it/s]\n",
      "training epoch 5: 100%|██████████| 386/386 [00:13<00:00, 28.10it/s]\n",
      "sampling: 100%|██████████| 2056/2056 [00:00<00:00, 25546.84it/s]\n",
      "evaluating: 100%|██████████| 124/124 [00:02<00:00, 61.86it/s]\n"
     ]
    },
    {
     "name": "stdout",
     "output_type": "stream",
     "text": [
      "epoch #5:\n",
      "train_loss: 0.022183059762750822; val_loss: 0.022980617166280706!\n",
      "f1: 0.6164366853650062\n",
      "recall: 0.7203267310439367\n",
      "precision: 0.5471910697361823\n",
      "auprc: 0.49394997615232283\n",
      "aucroc: 0.7104829149356454\n",
      "accuracy: 0.7086103453867358\n"
     ]
    },
    {
     "name": "stderr",
     "output_type": "stream",
     "text": [
      "sampling: 100%|██████████| 6433/6433 [00:00<00:00, 23982.62it/s]\n",
      "training epoch 6: 100%|██████████| 386/386 [00:13<00:00, 28.03it/s]\n",
      "sampling: 100%|██████████| 2056/2056 [00:00<00:00, 25408.19it/s]\n",
      "evaluating: 100%|██████████| 124/124 [00:02<00:00, 59.81it/s]\n"
     ]
    },
    {
     "name": "stdout",
     "output_type": "stream",
     "text": [
      "epoch #6:\n",
      "train_loss: 0.022149023434969783; val_loss: 0.022695171170012768!\n",
      "f1: 0.6357621901533411\n",
      "recall: 0.7711357405964075\n",
      "precision: 0.5487945194561185\n",
      "auprc: 0.504197670289362\n",
      "aucroc: 0.7275930414000443\n",
      "accuracy: 0.7128263337116912\n"
     ]
    },
    {
     "name": "stderr",
     "output_type": "stream",
     "text": [
      "sampling: 100%|██████████| 6433/6433 [00:00<00:00, 24028.13it/s]\n",
      "training epoch 7: 100%|██████████| 386/386 [00:13<00:00, 28.26it/s]\n",
      "sampling: 100%|██████████| 2056/2056 [00:00<00:00, 25745.99it/s]\n",
      "evaluating: 100%|██████████| 124/124 [00:01<00:00, 63.00it/s]\n"
     ]
    },
    {
     "name": "stdout",
     "output_type": "stream",
     "text": [
      "epoch #7:\n",
      "train_loss: 0.022059154876193452; val_loss: 0.02325637114805625!\n",
      "f1: 0.5998636906271948\n",
      "recall: 0.6185230776667423\n",
      "precision: 0.5972431053591805\n",
      "auprc: 0.5018748528389557\n",
      "aucroc: 0.7037350646865577\n",
      "accuracy: 0.7323281452658884\n"
     ]
    },
    {
     "name": "stderr",
     "output_type": "stream",
     "text": [
      "sampling: 100%|██████████| 6433/6433 [00:00<00:00, 24005.36it/s]\n",
      "training epoch 8: 100%|██████████| 386/386 [00:13<00:00, 27.95it/s]\n",
      "sampling: 100%|██████████| 2056/2056 [00:00<00:00, 25598.03it/s]\n",
      "evaluating: 100%|██████████| 124/124 [00:02<00:00, 61.65it/s]\n"
     ]
    },
    {
     "name": "stdout",
     "output_type": "stream",
     "text": [
      "epoch #8:\n",
      "train_loss: 0.02199280838304446; val_loss: 0.02285593622426031!\n",
      "f1: 0.6206393106427477\n",
      "recall: 0.7538673728247546\n",
      "precision: 0.5363425996185398\n",
      "auprc: 0.48983415556475507\n",
      "aucroc: 0.7133518354608236\n",
      "accuracy: 0.6998053843658774\n"
     ]
    },
    {
     "name": "stderr",
     "output_type": "stream",
     "text": [
      "sampling: 100%|██████████| 6433/6433 [00:00<00:00, 23996.74it/s]\n",
      "training epoch 9: 100%|██████████| 386/386 [00:13<00:00, 27.94it/s]\n",
      "sampling: 100%|██████████| 2056/2056 [00:00<00:00, 25516.45it/s]\n",
      "evaluating: 100%|██████████| 124/124 [00:01<00:00, 62.82it/s]\n"
     ]
    },
    {
     "name": "stdout",
     "output_type": "stream",
     "text": [
      "epoch #9:\n",
      "train_loss: 0.02196583608758469; val_loss: 0.02266635836011609!\n",
      "f1: 0.633054124871523\n",
      "recall: 0.7854646579175828\n",
      "precision: 0.5397203695586471\n",
      "auprc: 0.49773108298252544\n",
      "aucroc: 0.7247471146602568\n",
      "accuracy: 0.7029349764877574\n"
     ]
    },
    {
     "name": "stderr",
     "output_type": "stream",
     "text": [
      "sampling: 100%|██████████| 6433/6433 [00:00<00:00, 24012.76it/s]\n",
      "training epoch 10: 100%|██████████| 386/386 [00:13<00:00, 28.15it/s]\n",
      "sampling: 100%|██████████| 2056/2056 [00:00<00:00, 25165.95it/s]\n",
      "evaluating: 100%|██████████| 124/124 [00:02<00:00, 61.29it/s]\n"
     ]
    },
    {
     "name": "stdout",
     "output_type": "stream",
     "text": [
      "epoch #10:\n",
      "train_loss: 0.021980811032651464; val_loss: 0.022825768021757963!\n",
      "f1: 0.6233339755133656\n",
      "recall: 0.7687806681554497\n",
      "precision: 0.5315824335528285\n",
      "auprc: 0.4896872214629989\n",
      "aucroc: 0.7145117628038877\n",
      "accuracy: 0.6968223086900129\n"
     ]
    },
    {
     "name": "stderr",
     "output_type": "stream",
     "text": [
      "sampling: 100%|██████████| 6433/6433 [00:00<00:00, 23598.50it/s]\n",
      "training epoch 11: 100%|██████████| 386/386 [00:13<00:00, 28.04it/s]\n",
      "sampling: 100%|██████████| 2056/2056 [00:00<00:00, 25609.35it/s]\n",
      "evaluating: 100%|██████████| 124/124 [00:02<00:00, 60.71it/s]\n"
     ]
    },
    {
     "name": "stdout",
     "output_type": "stream",
     "text": [
      "epoch #11:\n",
      "train_loss: 0.02192509431348709; val_loss: 0.02276980855652499!\n",
      "f1: 0.6299438219975309\n",
      "recall: 0.7466098078382817\n",
      "precision: 0.5537723006104662\n",
      "auprc: 0.5029905811207896\n",
      "aucroc: 0.7233798566799708\n",
      "accuracy: 0.7153284671532847\n"
     ]
    },
    {
     "name": "stderr",
     "output_type": "stream",
     "text": [
      "sampling: 100%|██████████| 6433/6433 [00:00<00:00, 24001.97it/s]\n",
      "training epoch 12: 100%|██████████| 386/386 [00:13<00:00, 27.78it/s]\n",
      "sampling: 100%|██████████| 2056/2056 [00:00<00:00, 25255.50it/s]\n",
      "evaluating: 100%|██████████| 124/124 [00:02<00:00, 61.86it/s]\n"
     ]
    },
    {
     "name": "stdout",
     "output_type": "stream",
     "text": [
      "epoch #12:\n",
      "train_loss: 0.021831553962542265; val_loss: 0.022838510891806756!\n",
      "f1: 0.6246888612739209\n",
      "recall: 0.73065963063621\n",
      "precision: 0.5560283204786427\n",
      "auprc: 0.49908630215289196\n",
      "aucroc: 0.7196365268329897\n",
      "accuracy: 0.7151426718547341\n"
     ]
    },
    {
     "name": "stderr",
     "output_type": "stream",
     "text": [
      "sampling: 100%|██████████| 6433/6433 [00:00<00:00, 23870.09it/s]\n",
      "training epoch 13: 100%|██████████| 386/386 [00:13<00:00, 28.14it/s]\n",
      "sampling: 100%|██████████| 2056/2056 [00:00<00:00, 25360.22it/s]\n",
      "evaluating: 100%|██████████| 124/124 [00:02<00:00, 61.87it/s]\n"
     ]
    },
    {
     "name": "stdout",
     "output_type": "stream",
     "text": [
      "epoch #13:\n",
      "train_loss: 0.021789841786348206; val_loss: 0.022692317937907852!\n",
      "f1: 0.633662596811909\n",
      "recall: 0.7380073184058433\n",
      "precision: 0.5644609686312646\n",
      "auprc: 0.5067089736230193\n",
      "aucroc: 0.7271709611068504\n",
      "accuracy: 0.7235732814526589\n"
     ]
    },
    {
     "name": "stderr",
     "output_type": "stream",
     "text": [
      "sampling: 100%|██████████| 6433/6433 [00:00<00:00, 23741.15it/s]\n",
      "training epoch 14: 100%|██████████| 386/386 [00:13<00:00, 28.13it/s]\n",
      "sampling: 100%|██████████| 2056/2056 [00:00<00:00, 24610.91it/s]\n",
      "evaluating: 100%|██████████| 124/124 [00:01<00:00, 62.18it/s]\n"
     ]
    },
    {
     "name": "stdout",
     "output_type": "stream",
     "text": [
      "epoch #14:\n",
      "train_loss: 0.021704850190414002; val_loss: 0.023529369491591998!\n",
      "f1: 0.5784643057698673\n",
      "recall: 0.5599969987941855\n",
      "precision: 0.6156927705745467\n",
      "auprc: 0.49911774265542835\n",
      "aucroc: 0.6941582505287296\n",
      "accuracy: 0.7392150502757054\n"
     ]
    },
    {
     "name": "stderr",
     "output_type": "stream",
     "text": [
      "sampling: 100%|██████████| 6433/6433 [00:00<00:00, 24258.18it/s]\n",
      "training epoch 15: 100%|██████████| 386/386 [00:13<00:00, 27.87it/s]\n",
      "sampling: 100%|██████████| 2056/2056 [00:00<00:00, 25848.78it/s]\n",
      "evaluating: 100%|██████████| 124/124 [00:02<00:00, 61.74it/s]\n"
     ]
    },
    {
     "name": "stdout",
     "output_type": "stream",
     "text": [
      "epoch #15:\n",
      "train_loss: 0.021668827879050175; val_loss: 0.023515545440555084!\n",
      "f1: 0.5826681845660046\n",
      "recall: 0.5727501151307199\n",
      "precision: 0.6088824354307473\n",
      "auprc: 0.49682396524153494\n",
      "aucroc: 0.6944406707849005\n",
      "accuracy: 0.7350843060959793\n"
     ]
    },
    {
     "name": "stderr",
     "output_type": "stream",
     "text": [
      "sampling: 100%|██████████| 6433/6433 [00:00<00:00, 24063.90it/s]\n",
      "training epoch 16: 100%|██████████| 386/386 [00:13<00:00, 28.18it/s]\n",
      "sampling: 100%|██████████| 2056/2056 [00:00<00:00, 25219.53it/s]\n",
      "evaluating: 100%|██████████| 124/124 [00:02<00:00, 61.81it/s]\n"
     ]
    },
    {
     "name": "stdout",
     "output_type": "stream",
     "text": [
      "epoch #16:\n",
      "train_loss: 0.021690233415849; val_loss: 0.02277886069186294!\n",
      "f1: 0.6278003249621018\n",
      "recall: 0.6933295129747911\n",
      "precision: 0.584656617367693\n",
      "auprc: 0.5131161100088207\n",
      "aucroc: 0.7229918772231735\n",
      "accuracy: 0.7332576617480137\n"
     ]
    },
    {
     "name": "stderr",
     "output_type": "stream",
     "text": [
      "sampling: 100%|██████████| 6433/6433 [00:00<00:00, 23819.51it/s]\n",
      "training epoch 17: 100%|██████████| 386/386 [00:13<00:00, 28.02it/s]\n",
      "sampling: 100%|██████████| 2056/2056 [00:00<00:00, 25700.10it/s]\n",
      "evaluating: 100%|██████████| 124/124 [00:02<00:00, 60.73it/s]\n"
     ]
    },
    {
     "name": "stdout",
     "output_type": "stream",
     "text": [
      "epoch #17:\n",
      "train_loss: 0.021601868782751128; val_loss: 0.02291425069173177!\n",
      "f1: 0.6240682163657391\n",
      "recall: 0.6764186884312582\n",
      "precision: 0.5918741027690503\n",
      "auprc: 0.5140340831398638\n",
      "aucroc: 0.7211803043348486\n",
      "accuracy: 0.7360570687418937\n"
     ]
    },
    {
     "name": "stderr",
     "output_type": "stream",
     "text": [
      "sampling: 100%|██████████| 6433/6433 [00:00<00:00, 23791.18it/s]\n",
      "training epoch 18: 100%|██████████| 386/386 [00:13<00:00, 27.95it/s]\n",
      "sampling: 100%|██████████| 2056/2056 [00:00<00:00, 25436.07it/s]\n",
      "evaluating: 100%|██████████| 124/124 [00:02<00:00, 61.46it/s]\n"
     ]
    },
    {
     "name": "stdout",
     "output_type": "stream",
     "text": [
      "epoch #18:\n",
      "train_loss: 0.021532413656429755; val_loss: 0.022656372703621513!\n",
      "f1: 0.6348255058602774\n",
      "recall: 0.725460661413664\n",
      "precision: 0.5753902102308862\n",
      "auprc: 0.514535888276555\n",
      "aucroc: 0.7290062166743904\n",
      "accuracy: 0.7295719844357976\n"
     ]
    },
    {
     "name": "stderr",
     "output_type": "stream",
     "text": [
      "sampling: 100%|██████████| 6433/6433 [00:00<00:00, 23472.29it/s]\n",
      "training epoch 19: 100%|██████████| 386/386 [00:13<00:00, 28.00it/s]\n",
      "sampling: 100%|██████████| 2056/2056 [00:00<00:00, 25316.29it/s]\n",
      "evaluating: 100%|██████████| 124/124 [00:01<00:00, 62.64it/s]\n"
     ]
    },
    {
     "name": "stdout",
     "output_type": "stream",
     "text": [
      "epoch #19:\n",
      "train_loss: 0.021472641727307763; val_loss: 0.023285993362953776!\n",
      "f1: 0.6047409764077308\n",
      "recall: 0.5795545560028201\n",
      "precision: 0.6459716876428518\n",
      "auprc: 0.5224723808414787\n",
      "aucroc: 0.7106292963512474\n",
      "accuracy: 0.7535268363872223\n"
     ]
    },
    {
     "name": "stderr",
     "output_type": "stream",
     "text": [
      "sampling: 100%|██████████| 6433/6433 [00:00<00:00, 24221.92it/s]\n",
      "training epoch 20: 100%|██████████| 386/386 [00:13<00:00, 27.95it/s]\n",
      "sampling: 100%|██████████| 2056/2056 [00:00<00:00, 25343.97it/s]\n",
      "evaluating: 100%|██████████| 124/124 [00:02<00:00, 59.40it/s]\n"
     ]
    },
    {
     "name": "stdout",
     "output_type": "stream",
     "text": [
      "epoch #20:\n",
      "train_loss: 0.02139734344688002; val_loss: 0.022808372577998278!\n",
      "f1: 0.6291659956675877\n",
      "recall: 0.6800892535777625\n",
      "precision: 0.5976597546527272\n",
      "auprc: 0.5190895759084784\n",
      "aucroc: 0.7269620537893184\n",
      "accuracy: 0.7422546634225466\n"
     ]
    },
    {
     "name": "stderr",
     "output_type": "stream",
     "text": [
      "sampling: 100%|██████████| 6433/6433 [00:00<00:00, 23991.02it/s]\n",
      "training epoch 21: 100%|██████████| 386/386 [00:13<00:00, 28.18it/s]\n",
      "sampling: 100%|██████████| 2056/2056 [00:00<00:00, 24568.06it/s]\n",
      "evaluating: 100%|██████████| 124/124 [00:02<00:00, 61.78it/s]\n"
     ]
    },
    {
     "name": "stdout",
     "output_type": "stream",
     "text": [
      "epoch #21:\n",
      "train_loss: 0.021354050153152532; val_loss: 0.02289434451231099!\n",
      "f1: 0.6280317647715543\n",
      "recall: 0.6295193663551938\n",
      "precision: 0.6421796614979375\n",
      "auprc: 0.5328100290816518\n",
      "aucroc: 0.7262708630582283\n",
      "accuracy: 0.758067131506405\n"
     ]
    },
    {
     "name": "stderr",
     "output_type": "stream",
     "text": [
      "sampling: 100%|██████████| 6433/6433 [00:00<00:00, 23856.64it/s]\n",
      "training epoch 22: 100%|██████████| 386/386 [00:13<00:00, 27.74it/s]\n",
      "sampling: 100%|██████████| 2056/2056 [00:00<00:00, 25304.78it/s]\n",
      "evaluating: 100%|██████████| 124/124 [00:01<00:00, 62.76it/s]\n"
     ]
    },
    {
     "name": "stdout",
     "output_type": "stream",
     "text": [
      "epoch #22:\n",
      "train_loss: 0.021302734046037716; val_loss: 0.022980424173651086!\n",
      "f1: 0.6171763049856068\n",
      "recall: 0.5916317986511822\n",
      "precision: 0.6612421823782417\n",
      "auprc: 0.5324512793159544\n",
      "aucroc: 0.7198002168600633\n",
      "accuracy: 0.7629317334198151\n"
     ]
    },
    {
     "name": "stderr",
     "output_type": "stream",
     "text": [
      "sampling: 100%|██████████| 6433/6433 [00:00<00:00, 24217.72it/s]\n",
      "training epoch 23: 100%|██████████| 386/386 [00:13<00:00, 28.19it/s]\n",
      "sampling: 100%|██████████| 2056/2056 [00:00<00:00, 25291.42it/s]\n",
      "evaluating: 100%|██████████| 124/124 [00:01<00:00, 62.65it/s]\n"
     ]
    },
    {
     "name": "stdout",
     "output_type": "stream",
     "text": [
      "epoch #23:\n",
      "train_loss: 0.021223230617417838; val_loss: 0.02291930251565414!\n",
      "f1: 0.6213561412873075\n",
      "recall: 0.6149134184586026\n",
      "precision: 0.6418434965716555\n",
      "auprc: 0.5286618609663628\n",
      "aucroc: 0.7224084808713156\n",
      "accuracy: 0.7583522542977619\n"
     ]
    },
    {
     "name": "stderr",
     "output_type": "stream",
     "text": [
      "sampling: 100%|██████████| 6433/6433 [00:00<00:00, 23678.02it/s]\n",
      "training epoch 24: 100%|██████████| 386/386 [00:13<00:00, 27.75it/s]\n",
      "sampling: 100%|██████████| 2056/2056 [00:00<00:00, 22515.34it/s]\n",
      "evaluating: 100%|██████████| 124/124 [00:02<00:00, 61.73it/s]\n"
     ]
    },
    {
     "name": "stdout",
     "output_type": "stream",
     "text": [
      "epoch #24:\n",
      "train_loss: 0.021158634881205306; val_loss: 0.02266350937199032!\n",
      "f1: 0.6389446072170325\n",
      "recall: 0.6204353717488522\n",
      "precision: 0.6757754051334023\n",
      "auprc: 0.5518005960058567\n",
      "aucroc: 0.7368148142008855\n",
      "accuracy: 0.7753446877534469\n"
     ]
    },
    {
     "name": "stderr",
     "output_type": "stream",
     "text": [
      "sampling: 100%|██████████| 6433/6433 [00:00<00:00, 23551.72it/s]\n",
      "training epoch 25: 100%|██████████| 386/386 [00:13<00:00, 27.98it/s]\n",
      "sampling: 100%|██████████| 2056/2056 [00:00<00:00, 25390.24it/s]\n",
      "evaluating: 100%|██████████| 124/124 [00:02<00:00, 61.27it/s]\n"
     ]
    },
    {
     "name": "stdout",
     "output_type": "stream",
     "text": [
      "epoch #25:\n",
      "train_loss: 0.02111069282291343; val_loss: 0.022363101152749067!\n",
      "f1: 0.6598950413947537\n",
      "recall: 0.7134077534336662\n",
      "precision: 0.625836708937147\n",
      "auprc: 0.5457450448029976\n",
      "aucroc: 0.7503638671483864\n",
      "accuracy: 0.7624837872892347\n"
     ]
    },
    {
     "name": "stderr",
     "output_type": "stream",
     "text": [
      "sampling: 100%|██████████| 6433/6433 [00:00<00:00, 24018.78it/s]\n",
      "training epoch 26: 100%|██████████| 386/386 [00:13<00:00, 27.94it/s]\n",
      "sampling: 100%|██████████| 2056/2056 [00:00<00:00, 25598.64it/s]\n",
      "evaluating: 100%|██████████| 124/124 [00:02<00:00, 61.87it/s]\n"
     ]
    },
    {
     "name": "stdout",
     "output_type": "stream",
     "text": [
      "epoch #26:\n",
      "train_loss: 0.021074480550623574; val_loss: 0.02263448735931926!\n",
      "f1: 0.6416982905948326\n",
      "recall: 0.6241570444629291\n",
      "precision: 0.6801958049092317\n",
      "auprc: 0.5565560378758798\n",
      "aucroc: 0.7406269720816956\n",
      "accuracy: 0.7783363061456138\n"
     ]
    },
    {
     "name": "stderr",
     "output_type": "stream",
     "text": [
      "sampling: 100%|██████████| 6433/6433 [00:00<00:00, 23464.00it/s]\n",
      "training epoch 27: 100%|██████████| 386/386 [00:13<00:00, 28.03it/s]\n",
      "sampling: 100%|██████████| 2056/2056 [00:00<00:00, 25642.17it/s]\n",
      "evaluating: 100%|██████████| 124/124 [00:02<00:00, 59.84it/s]\n"
     ]
    },
    {
     "name": "stdout",
     "output_type": "stream",
     "text": [
      "epoch #27:\n",
      "train_loss: 0.02101118807496648; val_loss: 0.022834751852254184!\n",
      "f1: 0.6349754454735664\n",
      "recall: 0.6079044246499822\n",
      "precision: 0.6823647692835905\n",
      "auprc: 0.5498136410834185\n",
      "aucroc: 0.7327786544357917\n",
      "accuracy: 0.77330955083509\n"
     ]
    },
    {
     "name": "stderr",
     "output_type": "stream",
     "text": [
      "sampling: 100%|██████████| 6433/6433 [00:00<00:00, 23832.98it/s]\n",
      "training epoch 28: 100%|██████████| 386/386 [00:13<00:00, 27.87it/s]\n",
      "sampling: 100%|██████████| 2056/2056 [00:00<00:00, 24493.89it/s]\n",
      "evaluating: 100%|██████████| 124/124 [00:02<00:00, 61.10it/s]\n"
     ]
    },
    {
     "name": "stdout",
     "output_type": "stream",
     "text": [
      "epoch #28:\n",
      "train_loss: 0.021002683042090103; val_loss: 0.022459559334683344!\n",
      "f1: 0.6541787462402839\n",
      "recall: 0.6656184840438076\n",
      "precision: 0.6571237259996366\n",
      "auprc: 0.5542202982248552\n",
      "aucroc: 0.7467334742586321\n",
      "accuracy: 0.7729852440408627\n"
     ]
    },
    {
     "name": "stderr",
     "output_type": "stream",
     "text": [
      "sampling: 100%|██████████| 6433/6433 [00:00<00:00, 23957.49it/s]\n",
      "training epoch 29: 100%|██████████| 386/386 [00:13<00:00, 27.96it/s]\n",
      "sampling: 100%|██████████| 2056/2056 [00:00<00:00, 25759.52it/s]\n",
      "evaluating: 100%|██████████| 124/124 [00:02<00:00, 58.64it/s]\n"
     ]
    },
    {
     "name": "stdout",
     "output_type": "stream",
     "text": [
      "epoch #29:\n",
      "train_loss: 0.02101180874515033; val_loss: 0.022468072121863854!\n",
      "f1: 0.6580173070267549\n",
      "recall: 0.6732111164980414\n",
      "precision: 0.6541285387279824\n",
      "auprc: 0.5555328957887854\n",
      "aucroc: 0.7478887465438095\n",
      "accuracy: 0.772697795071336\n"
     ]
    },
    {
     "name": "stderr",
     "output_type": "stream",
     "text": [
      "sampling: 100%|██████████| 6433/6433 [00:00<00:00, 23891.43it/s]\n",
      "training epoch 30: 100%|██████████| 386/386 [00:13<00:00, 28.07it/s]\n",
      "sampling: 100%|██████████| 2056/2056 [00:00<00:00, 24983.60it/s]\n",
      "evaluating: 100%|██████████| 124/124 [00:02<00:00, 61.71it/s]\n"
     ]
    },
    {
     "name": "stdout",
     "output_type": "stream",
     "text": [
      "epoch #30:\n",
      "train_loss: 0.02089216509239947; val_loss: 0.02270979236326858!\n",
      "f1: 0.6407629570170208\n",
      "recall: 0.6068585139776242\n",
      "precision: 0.6964131730989414\n",
      "auprc: 0.5586360520872585\n",
      "aucroc: 0.7378106921613438\n",
      "accuracy: 0.780895231916964\n"
     ]
    },
    {
     "name": "stderr",
     "output_type": "stream",
     "text": [
      "sampling: 100%|██████████| 6433/6433 [00:00<00:00, 22406.10it/s]\n",
      "training epoch 31: 100%|██████████| 386/386 [00:13<00:00, 27.68it/s]\n",
      "sampling: 100%|██████████| 2056/2056 [00:00<00:00, 24953.24it/s]\n",
      "evaluating: 100%|██████████| 124/124 [00:02<00:00, 61.21it/s]\n"
     ]
    },
    {
     "name": "stdout",
     "output_type": "stream",
     "text": [
      "epoch #31:\n",
      "train_loss: 0.02084485952539609; val_loss: 0.02245553442838225!\n",
      "f1: 0.6516629942725667\n",
      "recall: 0.6624587150866997\n",
      "precision: 0.6558554123046486\n",
      "auprc: 0.5498976657584034\n",
      "aucroc: 0.7445973048956868\n",
      "accuracy: 0.7730738037307381\n"
     ]
    },
    {
     "name": "stderr",
     "output_type": "stream",
     "text": [
      "sampling: 100%|██████████| 6433/6433 [00:00<00:00, 24075.99it/s]\n",
      "training epoch 32: 100%|██████████| 386/386 [00:13<00:00, 27.89it/s]\n",
      "sampling: 100%|██████████| 2056/2056 [00:00<00:00, 24892.44it/s]\n",
      "evaluating: 100%|██████████| 124/124 [00:02<00:00, 60.40it/s]\n"
     ]
    },
    {
     "name": "stdout",
     "output_type": "stream",
     "text": [
      "epoch #32:\n",
      "train_loss: 0.020932866906964092; val_loss: 0.022352346980399708!\n",
      "f1: 0.6634346659978221\n",
      "recall: 0.6647444169445953\n",
      "precision: 0.6775576307588038\n",
      "auprc: 0.5652841944395947\n",
      "aucroc: 0.7520121917013819\n",
      "accuracy: 0.7814172206907735\n"
     ]
    },
    {
     "name": "stderr",
     "output_type": "stream",
     "text": [
      "sampling: 100%|██████████| 6433/6433 [00:00<00:00, 23636.60it/s]\n",
      "training epoch 33: 100%|██████████| 386/386 [00:13<00:00, 27.75it/s]\n",
      "sampling: 100%|██████████| 2056/2056 [00:00<00:00, 24995.19it/s]\n",
      "evaluating: 100%|██████████| 124/124 [00:02<00:00, 61.20it/s]\n"
     ]
    },
    {
     "name": "stdout",
     "output_type": "stream",
     "text": [
      "epoch #33:\n",
      "train_loss: 0.02074640562453039; val_loss: 0.0223423726518485!\n",
      "f1: 0.6572583868219566\n",
      "recall: 0.6803960274581131\n",
      "precision: 0.6484648793916232\n",
      "auprc: 0.5523316036571932\n",
      "aucroc: 0.7489482656946552\n",
      "accuracy: 0.7733463035019456\n"
     ]
    },
    {
     "name": "stderr",
     "output_type": "stream",
     "text": [
      "sampling: 100%|██████████| 6433/6433 [00:00<00:00, 22569.68it/s]\n",
      "training epoch 34: 100%|██████████| 386/386 [00:14<00:00, 27.22it/s]\n",
      "sampling: 100%|██████████| 2056/2056 [00:00<00:00, 19035.85it/s]\n",
      "evaluating: 100%|██████████| 124/124 [00:02<00:00, 59.19it/s]\n"
     ]
    },
    {
     "name": "stdout",
     "output_type": "stream",
     "text": [
      "epoch #34:\n",
      "train_loss: 0.02076756062764371; val_loss: 0.022699228015148596!\n",
      "f1: 0.6482832388453942\n",
      "recall: 0.6221230253180803\n",
      "precision: 0.6934478440930241\n",
      "auprc: 0.5615579125521832\n",
      "aucroc: 0.7406227583168068\n",
      "accuracy: 0.7795977943561466\n"
     ]
    },
    {
     "name": "stderr",
     "output_type": "stream",
     "text": [
      "sampling: 100%|██████████| 6433/6433 [00:00<00:00, 23444.92it/s]\n",
      "training epoch 35: 100%|██████████| 386/386 [00:14<00:00, 27.21it/s]\n",
      "sampling: 100%|██████████| 2056/2056 [00:00<00:00, 25417.18it/s]\n",
      "evaluating: 100%|██████████| 124/124 [00:02<00:00, 59.00it/s]\n"
     ]
    },
    {
     "name": "stdout",
     "output_type": "stream",
     "text": [
      "epoch #35:\n",
      "train_loss: 0.020729151526751245; val_loss: 0.022393559775412797!\n",
      "f1: 0.6621227672968545\n",
      "recall: 0.6578960074935651\n",
      "precision: 0.6802379474852966\n",
      "auprc: 0.5648846296213289\n",
      "aucroc: 0.751489340760196\n",
      "accuracy: 0.7838144664288031\n"
     ]
    },
    {
     "name": "stderr",
     "output_type": "stream",
     "text": [
      "sampling: 100%|██████████| 6433/6433 [00:00<00:00, 23017.12it/s]\n",
      "training epoch 36: 100%|██████████| 386/386 [00:14<00:00, 27.32it/s]\n",
      "sampling: 100%|██████████| 2056/2056 [00:00<00:00, 23890.10it/s]\n",
      "evaluating: 100%|██████████| 124/124 [00:02<00:00, 60.03it/s]\n"
     ]
    },
    {
     "name": "stdout",
     "output_type": "stream",
     "text": [
      "epoch #36:\n",
      "train_loss: 0.02064962110822359; val_loss: 0.02237713537945976!\n",
      "f1: 0.6682340452366675\n",
      "recall: 0.6633686439821846\n",
      "precision: 0.68709192732173\n",
      "auprc: 0.5740248048896738\n",
      "aucroc: 0.7556804284585447\n",
      "accuracy: 0.7855058365758755\n"
     ]
    },
    {
     "name": "stderr",
     "output_type": "stream",
     "text": [
      "sampling: 100%|██████████| 6433/6433 [00:00<00:00, 23671.56it/s]\n",
      "training epoch 37: 100%|██████████| 386/386 [00:14<00:00, 27.43it/s]\n",
      "sampling: 100%|██████████| 2056/2056 [00:00<00:00, 24703.40it/s]\n",
      "evaluating: 100%|██████████| 124/124 [00:02<00:00, 56.53it/s]\n"
     ]
    },
    {
     "name": "stdout",
     "output_type": "stream",
     "text": [
      "epoch #37:\n",
      "train_loss: 0.020679345171696846; val_loss: 0.022446832092235657!\n",
      "f1: 0.6563105363333201\n",
      "recall: 0.6516111669996084\n",
      "precision: 0.677132505272564\n",
      "auprc: 0.5619140246041087\n",
      "aucroc: 0.7480834478722487\n",
      "accuracy: 0.781184103811841\n"
     ]
    },
    {
     "name": "stderr",
     "output_type": "stream",
     "text": [
      "sampling: 100%|██████████| 6433/6433 [00:00<00:00, 23993.05it/s]\n",
      "training epoch 38: 100%|██████████| 386/386 [00:13<00:00, 27.58it/s]\n",
      "sampling: 100%|██████████| 2056/2056 [00:00<00:00, 24830.59it/s]\n",
      "evaluating: 100%|██████████| 124/124 [00:02<00:00, 60.33it/s]\n"
     ]
    },
    {
     "name": "stdout",
     "output_type": "stream",
     "text": [
      "epoch #38:\n",
      "train_loss: 0.020625178190522495; val_loss: 0.02228080857142224!\n",
      "f1: 0.6604802272144458\n",
      "recall: 0.7215291026715247\n",
      "precision: 0.6212948605201736\n",
      "auprc: 0.5459180895093872\n",
      "aucroc: 0.7519230243842338\n",
      "accuracy: 0.7619588130371331\n"
     ]
    },
    {
     "name": "stderr",
     "output_type": "stream",
     "text": [
      "sampling: 100%|██████████| 6433/6433 [00:00<00:00, 22937.00it/s]\n",
      "training epoch 39: 100%|██████████| 386/386 [00:14<00:00, 27.28it/s]\n",
      "sampling: 100%|██████████| 2056/2056 [00:00<00:00, 25685.56it/s]\n",
      "evaluating: 100%|██████████| 124/124 [00:02<00:00, 60.13it/s]\n"
     ]
    },
    {
     "name": "stdout",
     "output_type": "stream",
     "text": [
      "epoch #39:\n",
      "train_loss: 0.02064567136571795; val_loss: 0.02231626597205334!\n",
      "f1: 0.6586023759039098\n",
      "recall: 0.7175692511393339\n",
      "precision: 0.6175789172233105\n",
      "auprc: 0.5425518613623759\n",
      "aucroc: 0.7478908205128108\n",
      "accuracy: 0.7594033722438391\n"
     ]
    },
    {
     "name": "stderr",
     "output_type": "stream",
     "text": [
      "sampling: 100%|██████████| 6433/6433 [00:00<00:00, 23569.27it/s]\n",
      "training epoch 40: 100%|██████████| 386/386 [00:14<00:00, 27.49it/s]\n",
      "sampling: 100%|██████████| 2056/2056 [00:00<00:00, 25673.70it/s]\n",
      "evaluating: 100%|██████████| 124/124 [00:02<00:00, 60.36it/s]\n"
     ]
    },
    {
     "name": "stdout",
     "output_type": "stream",
     "text": [
      "epoch #40:\n",
      "train_loss: 0.020568267287757312; val_loss: 0.022382673720744303!\n",
      "f1: 0.6594465574129311\n",
      "recall: 0.6717519536204143\n",
      "precision: 0.6595935099004783\n",
      "auprc: 0.5575219743609184\n",
      "aucroc: 0.7491449925568769\n",
      "accuracy: 0.775218942588388\n"
     ]
    },
    {
     "name": "stderr",
     "output_type": "stream",
     "text": [
      "sampling: 100%|██████████| 6433/6433 [00:00<00:00, 22616.44it/s]\n",
      "training epoch 41: 100%|██████████| 386/386 [00:14<00:00, 27.03it/s]\n",
      "sampling: 100%|██████████| 2056/2056 [00:00<00:00, 24956.77it/s]\n",
      "evaluating: 100%|██████████| 124/124 [00:02<00:00, 59.13it/s]\n"
     ]
    },
    {
     "name": "stdout",
     "output_type": "stream",
     "text": [
      "epoch #41:\n",
      "train_loss: 0.020557756249979756; val_loss: 0.022555917090683022!\n",
      "f1: 0.651151429709843\n",
      "recall: 0.6144961259299924\n",
      "precision: 0.7100023134100198\n",
      "auprc: 0.5708900368629245\n",
      "aucroc: 0.7459538333715614\n",
      "accuracy: 0.7896870439435706\n"
     ]
    },
    {
     "name": "stderr",
     "output_type": "stream",
     "text": [
      "sampling: 100%|██████████| 6433/6433 [00:00<00:00, 23262.84it/s]\n",
      "training epoch 42: 100%|██████████| 386/386 [00:14<00:00, 27.22it/s]\n",
      "sampling: 100%|██████████| 2056/2056 [00:00<00:00, 24290.97it/s]\n",
      "evaluating: 100%|██████████| 124/124 [00:02<00:00, 61.24it/s]\n"
     ]
    },
    {
     "name": "stdout",
     "output_type": "stream",
     "text": [
      "epoch #42:\n",
      "train_loss: 0.020647395075955085; val_loss: 0.02265252227313093!\n",
      "f1: 0.6476074041881278\n",
      "recall: 0.6307337777001951\n",
      "precision: 0.6802434666754257\n",
      "auprc: 0.5578883416875207\n",
      "aucroc: 0.741001828255324\n",
      "accuracy: 0.7768769255715907\n"
     ]
    },
    {
     "name": "stderr",
     "output_type": "stream",
     "text": [
      "sampling: 100%|██████████| 6433/6433 [00:00<00:00, 23313.99it/s]\n",
      "training epoch 43: 100%|██████████| 386/386 [00:14<00:00, 27.14it/s]\n",
      "sampling: 100%|██████████| 2056/2056 [00:00<00:00, 25581.55it/s]\n",
      "evaluating: 100%|██████████| 124/124 [00:02<00:00, 60.05it/s]\n"
     ]
    },
    {
     "name": "stdout",
     "output_type": "stream",
     "text": [
      "epoch #43:\n",
      "train_loss: 0.020487996712369474; val_loss: 0.022557649075820647!\n",
      "f1: 0.652970186591604\n",
      "recall: 0.6438636385116927\n",
      "precision: 0.6752868029403979\n",
      "auprc: 0.5576207466098398\n",
      "aucroc: 0.7442672500626508\n",
      "accuracy: 0.7781741527485001\n"
     ]
    },
    {
     "name": "stderr",
     "output_type": "stream",
     "text": [
      "sampling: 100%|██████████| 6433/6433 [00:00<00:00, 23366.63it/s]\n",
      "training epoch 44: 100%|██████████| 386/386 [00:14<00:00, 27.32it/s]\n",
      "sampling: 100%|██████████| 2056/2056 [00:00<00:00, 24879.87it/s]\n",
      "evaluating: 100%|██████████| 124/124 [00:02<00:00, 60.47it/s]\n"
     ]
    },
    {
     "name": "stdout",
     "output_type": "stream",
     "text": [
      "epoch #44:\n",
      "train_loss: 0.020488590173470777; val_loss: 0.022448435488591673!\n",
      "f1: 0.6549808298313693\n",
      "recall: 0.6658109541252671\n",
      "precision: 0.6550279414345489\n",
      "auprc: 0.5525473495414526\n",
      "aucroc: 0.7452115474942167\n",
      "accuracy: 0.7737593253324684\n"
     ]
    },
    {
     "name": "stderr",
     "output_type": "stream",
     "text": [
      "sampling: 100%|██████████| 6433/6433 [00:00<00:00, 23790.70it/s]\n",
      "training epoch 45: 100%|██████████| 386/386 [00:13<00:00, 27.58it/s]\n",
      "sampling: 100%|██████████| 2056/2056 [00:00<00:00, 25252.46it/s]\n",
      "evaluating: 100%|██████████| 124/124 [00:02<00:00, 61.40it/s]\n"
     ]
    },
    {
     "name": "stdout",
     "output_type": "stream",
     "text": [
      "epoch #45:\n",
      "train_loss: 0.020533270963629384; val_loss: 0.022384467910390574!\n",
      "f1: 0.656924715592625\n",
      "recall: 0.7332413858391147\n",
      "precision: 0.6022215116763185\n",
      "auprc: 0.5360097101386561\n",
      "aucroc: 0.7458467330967287\n",
      "accuracy: 0.7506485084306096\n"
     ]
    },
    {
     "name": "stderr",
     "output_type": "stream",
     "text": [
      "sampling: 100%|██████████| 6433/6433 [00:00<00:00, 23573.24it/s]\n",
      "training epoch 46: 100%|██████████| 386/386 [00:13<00:00, 27.92it/s]\n",
      "sampling: 100%|██████████| 2056/2056 [00:00<00:00, 25582.08it/s]\n",
      "evaluating: 100%|██████████| 124/124 [00:02<00:00, 60.45it/s]\n"
     ]
    },
    {
     "name": "stdout",
     "output_type": "stream",
     "text": [
      "epoch #46:\n",
      "train_loss: 0.020507437711627337; val_loss: 0.022601499563683788!\n",
      "f1: 0.6438854278002396\n",
      "recall: 0.649118821178943\n",
      "precision: 0.6525219815870329\n",
      "auprc: 0.5468383602380461\n",
      "aucroc: 0.7383323365118157\n",
      "accuracy: 0.7680077871512005\n"
     ]
    },
    {
     "name": "stderr",
     "output_type": "stream",
     "text": [
      "sampling: 100%|██████████| 6433/6433 [00:00<00:00, 23843.21it/s]\n",
      "training epoch 47: 100%|██████████| 386/386 [00:13<00:00, 28.12it/s]\n",
      "sampling: 100%|██████████| 2056/2056 [00:00<00:00, 25654.00it/s]\n",
      "evaluating: 100%|██████████| 124/124 [00:02<00:00, 61.39it/s]\n"
     ]
    },
    {
     "name": "stdout",
     "output_type": "stream",
     "text": [
      "epoch #47:\n",
      "train_loss: 0.02045112683013734; val_loss: 0.022363477738461167!\n",
      "f1: 0.6584969538354548\n",
      "recall: 0.6921883769137046\n",
      "precision: 0.6411378860429781\n",
      "auprc: 0.5526862571265192\n",
      "aucroc: 0.7500233969185133\n",
      "accuracy: 0.7690561141745054\n"
     ]
    },
    {
     "name": "stderr",
     "output_type": "stream",
     "text": [
      "sampling: 100%|██████████| 6433/6433 [00:00<00:00, 23547.69it/s]\n",
      "training epoch 48: 100%|██████████| 386/386 [00:13<00:00, 27.94it/s]\n",
      "sampling: 100%|██████████| 2056/2056 [00:00<00:00, 25386.80it/s]\n",
      "evaluating: 100%|██████████| 124/124 [00:02<00:00, 61.06it/s]\n"
     ]
    },
    {
     "name": "stdout",
     "output_type": "stream",
     "text": [
      "epoch #48:\n",
      "train_loss: 0.02039161703477611; val_loss: 0.02241570043501996!\n",
      "f1: 0.6626348317761941\n",
      "recall: 0.6541182098387491\n",
      "precision: 0.6847564922833433\n",
      "auprc: 0.5682900262844508\n",
      "aucroc: 0.7511183563970741\n",
      "accuracy: 0.7829118028534371\n"
     ]
    },
    {
     "name": "stderr",
     "output_type": "stream",
     "text": [
      "sampling: 100%|██████████| 6433/6433 [00:00<00:00, 23947.86it/s]\n",
      "training epoch 49: 100%|██████████| 386/386 [00:13<00:00, 28.04it/s]\n",
      "sampling: 100%|██████████| 2056/2056 [00:00<00:00, 25690.99it/s]\n",
      "evaluating: 100%|██████████| 124/124 [00:02<00:00, 60.66it/s]\n"
     ]
    },
    {
     "name": "stdout",
     "output_type": "stream",
     "text": [
      "epoch #49:\n",
      "train_loss: 0.02035683937136016; val_loss: 0.0226452751524622!\n",
      "f1: 0.6480537267748315\n",
      "recall: 0.6244875422725671\n",
      "precision: 0.686432930713388\n",
      "auprc: 0.5570039180289447\n",
      "aucroc: 0.7407062390087721\n",
      "accuracy: 0.779633533322523\n"
     ]
    }
   ],
   "source": [
    "TranModel = TransformerNet() #take their default vals\n",
    "optimizer = RAdam(TranModel.parameters(), lr=config['lr'], weight_decay=0)\n",
    "pos_weight = torch.tensor([4]).to(device)\n",
    "criterion = nn.BCEWithLogitsLoss(pos_weight=pos_weight)\n",
    "#criterion = nn.CrossEntropyLoss()\n",
    "#criterion = get_loss_module()\n",
    "print(sum(p.numel() for p in TranModel.parameters()))\n",
    "\n",
    "TranModel.to(device)\n",
    "\n",
    "num_epochs = 50\n",
    "train_losses = []\n",
    "val_losses = []\n",
    "for epoch in range(num_epochs):\n",
    "    \n",
    "    batch_size = 50\n",
    "    file_path = Path('/kaggle/input/california-spatial-temporal-fire-dataset/numpy_california_spatialtemporal_dataset.npy')\n",
    "    train_numpy_array = np.load(file_path)[:,:,:700,:]\n",
    "    train_dataloader = temporal_dataloader(train_numpy_array, sequence_length, batch_size, radius = 0, train_or_test = True, pin_memory = True, num_workers=0)\n",
    "    loss, samples = train(TranModel, train_dataloader, optimizer, criterion, device, epoch)\n",
    "    del train_numpy_array\n",
    "    del train_dataloader\n",
    "    #checkpoint_path = f'/kaggle/output/model_checkpoints/model_checkpoint_epoch_{epoch}.pt'\n",
    "    #torch.save(ConvTranModel.state_dict(), checkpoint_path)\n",
    "    train_losses.append(loss.item()/samples)\n",
    "    \n",
    "    batch_size = 50\n",
    "    val_numpy_array = np.load(file_path)[:,:,700:,:]\n",
    "    val_dataloader = temporal_dataloader(val_numpy_array, sequence_length, batch_size, radius = 0, train_or_test = True, pin_memory = True, num_workers=0)\n",
    "    f1, recall, precision, auprc, aucroc, accuracy, samples, loss, loss_samples = evaluate_model(TranModel, val_dataloader, criterion, device)\n",
    "    del val_numpy_array\n",
    "    del val_dataloader\n",
    "    \n",
    "    val_losses.append(loss.item()/loss_samples)\n",
    "    \n",
    "    print(f'epoch #{epoch}:')\n",
    "    print(f'train_loss: {train_losses[epoch]}; val_loss: {val_losses[epoch]}!')\n",
    "    print(f'f1: {f1/samples}')\n",
    "    print(f'recall: {recall/samples}')\n",
    "    print(f'precision: {precision/samples}')\n",
    "    print(f'auprc: {auprc/samples}')\n",
    "    print(f'aucroc: {aucroc/samples}')\n",
    "    print(f'accuracy: {accuracy/samples}')"
   ]
  },
  {
   "cell_type": "code",
   "execution_count": 15,
   "id": "71df92c3",
   "metadata": {
    "execution": {
     "iopub.execute_input": "2023-10-30T02:16:50.886086Z",
     "iopub.status.busy": "2023-10-30T02:16:50.885179Z",
     "iopub.status.idle": "2023-10-30T02:16:51.129878Z",
     "shell.execute_reply": "2023-10-30T02:16:51.128895Z"
    },
    "papermill": {
     "duration": 1.72527,
     "end_time": "2023-10-30T02:16:51.131990",
     "exception": false,
     "start_time": "2023-10-30T02:16:49.406720",
     "status": "completed"
    },
    "tags": []
   },
   "outputs": [
    {
     "data": {
      "image/png": "[encoded data removed]",
      "text/plain": [
       "<Figure size 640x480 with 1 Axes>"
      ]
     },
     "metadata": {},
     "output_type": "display_data"
    }
   ],
   "source": [
    "plt.plot(train_losses, label = 'train')\n",
    "plt.plot(val_losses, label = 'val')\n",
    "plt.legend()\n",
    "plt.show()"
   ]
  },
  {
   "cell_type": "code",
   "execution_count": 16,
   "id": "c2a1dc04",
   "metadata": {
    "execution": {
     "iopub.execute_input": "2023-10-30T02:16:54.068088Z",
     "iopub.status.busy": "2023-10-30T02:16:54.067186Z",
     "iopub.status.idle": "2023-10-30T02:17:34.709094Z",
     "shell.execute_reply": "2023-10-30T02:17:34.708084Z"
    },
    "papermill": {
     "duration": 42.139702,
     "end_time": "2023-10-30T02:17:34.711218",
     "exception": false,
     "start_time": "2023-10-30T02:16:52.571516",
     "status": "completed"
    },
    "tags": []
   },
   "outputs": [
    {
     "name": "stderr",
     "output_type": "stream",
     "text": [
      "evaluating:  22%|██▏       | 813/3706 [00:08<00:30, 94.85it/s]/opt/conda/lib/python3.10/site-packages/sklearn/metrics/_classification.py:1344: UndefinedMetricWarning: Precision is ill-defined and being set to 0.0 due to no predicted samples. Use `zero_division` parameter to control this behavior.\n",
      "  _warn_prf(average, modifier, msg_start, len(result))\n",
      "evaluating: 100%|██████████| 3706/3706 [00:40<00:00, 92.03it/s]"
     ]
    },
    {
     "name": "stdout",
     "output_type": "stream",
     "text": [
      "epoch #49:\n",
      "val_loss: 0.015876006335020065!\n",
      "f1: 0.18002994557376684\n",
      "recall: 0.6261413601893565\n",
      "precision: 0.10949526601708179\n",
      "auprc: 0.10993393047370174\n",
      "aucroc: 0.7417939505265029\n",
      "accuracy: 0.8514557412237461\n"
     ]
    },
    {
     "name": "stderr",
     "output_type": "stream",
     "text": [
      "\n"
     ]
    }
   ],
   "source": [
    "batch_size = 50\n",
    "file_path = Path(\"/kaggle/input/california-spatial-temporal-fire-dataset/numpy_california_spatialtemporal_dataset.npy\")\n",
    "numpy_array = np.load(file_path)[:,:,700:,:]\n",
    "dataloader = temporal_dataloader(numpy_array, sequence_length, batch_size, radius = 2, train_or_test = False, pin_memory = False, num_workers=0)\n",
    "f1, recall, precision, auprc, aucroc, accuracy, samples, loss, loss_samples = evaluate_model(TranModel, dataloader, criterion, device)\n",
    "del numpy_array\n",
    "del dataloader\n",
    "\n",
    "print(f'epoch #{epoch}:')\n",
    "print(f'val_loss: {loss/loss_samples}!')\n",
    "print(f'f1: {f1/samples}')\n",
    "print(f'recall: {recall/samples}')\n",
    "print(f'precision: {precision/samples}')\n",
    "print(f'auprc: {auprc/samples}')\n",
    "print(f'aucroc: {aucroc/samples}')\n",
    "print(f'accuracy: {accuracy/samples}')"
   ]
  }
 ],
 "metadata": {
  "kernelspec": {
   "display_name": "Python 3",
   "language": "python",
   "name": "python3"
  },
  "language_info": {
   "codemirror_mode": {
    "name": "ipython",
    "version": 3
   },
   "file_extension": ".py",
   "mimetype": "text/x-python",
   "name": "python",
   "nbconvert_exporter": "python",
   "pygments_lexer": "ipython3",
   "version": "3.10.10"
  },
  "papermill": {
   "default_parameters": {},
   "duration": 2273.652697,
   "end_time": "2023-10-30T02:17:38.805490",
   "environment_variables": {},
   "exception": null,
   "input_path": "__notebook__.ipynb",
   "output_path": "__notebook__.ipynb",
   "parameters": {},
   "start_time": "2023-10-30T01:39:45.152793",
   "version": "2.4.0"
  }
 },
 "nbformat": 4,
 "nbformat_minor": 5
}
